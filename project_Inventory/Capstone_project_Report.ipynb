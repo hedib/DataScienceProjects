{
 "cells": [
  {
   "cell_type": "markdown",
   "metadata": {
    "raw_mimetype": "text/markdown"
   },
   "source": [
    "I. Introduction\n",
    "  \n",
    "  1. Description of the problem\n",
    "  \n",
    "  2. Explanation of previous work that's relevant to the problem\n",
    "  \n",
    "  3. Preview of your analysis\n",
    "\n",
    "II. Data\n",
    "\n",
    "  1. Data description\n",
    "\n",
    "    a. Nature / size of the data\n",
    "\n",
    "    b. Data dictionary (if the feature set is large and appendix is more appropriate)\n",
    "\n",
    "    c. Data wrangling discussion (how missing values, outliers, etc. were handled)\n",
    "\n",
    "  2. Exploratory data analysis\n",
    "\n",
    "III. Training\n",
    "\n",
    "  1. Objective (target and loss function)\n",
    "\n",
    "  2. Features (and feature selection when appropriate)\n",
    "\n",
    "  3. Model selection\n",
    "\n",
    "IV. Evaluation\n",
    "\n",
    "  1. Analysis of champion model (this is specific to the intended application and goals of the model)\n",
    "\n",
    "V. Conclusions\n",
    "\n",
    "  1. Summary of main results\n",
    "\n",
    "  2. Problems / issues with analysis or results\n",
    "\n",
    "  3. Any description of intended or potential future work"
   ]
  },
  {
   "cell_type": "markdown",
   "metadata": {
    "raw_mimetype": "text/latex"
   },
   "source": [
    "# I. Introduction"
   ]
  },
  {
   "cell_type": "markdown",
   "metadata": {
    "raw_mimetype": "text/latex"
   },
   "source": [
    "## 1.Description of the Problem"
   ]
  },
  {
   "cell_type": "markdown",
   "metadata": {
    "latex_metadata": {
     "affiliation": "Freie Universit\\\"at Berlin, Fachbereich Physik, 14195 Berlin, Germany",
     "author": "Julius C. F. Schulz",
     "title": "Amazing Article"
    },
    "raw_mimetype": "text/latex"
   },
   "source": [
    "Part backorders is a typical supply chain problem. Backordering happens when a customer places an order for a product that is temporarily out of stock with the vendor ultimately, and order cannot fulfill.\n",
    "It is a dream for any business, but it is also a massive problem if you do not know how to handle it. \n",
    "In this project, the goal is based on the collection of data to identify parts at risk of backorder before the event occurs, so\n",
    "the business has time to react."
   ]
  },
  {
   "cell_type": "markdown",
   "metadata": {},
   "source": [
    "## 2. Explanation of previous work that's relevant to the problem"
   ]
  },
  {
   "cell_type": "markdown",
   "metadata": {},
   "source": [
    "## 3. Preview of your analysis"
   ]
  },
  {
   "cell_type": "markdown",
   "metadata": {},
   "source": [
    "With the help of this analysis, a reasonable prediction on the products that can go on backorder is expected. Such a prediction\n",
    "could immensely help client to plan for a more effective stocking and backorder handling.\n",
    "\n",
    "Goals of this project are:\n",
    "<br>\n",
    "- Provide an overall insight from data using exploratory data analysis\n",
    "<br>\n",
    "-  Identifying what features have the main effects of product backorder.\n",
    "<br>\n",
    "-  Predict Product is going to backorder or not?"
   ]
  },
  {
   "cell_type": "markdown",
   "metadata": {},
   "source": [
    "# II. Data"
   ]
  },
  {
   "cell_type": "markdown",
   "metadata": {},
   "source": [
    "## 1. Data description"
   ]
  },
  {
   "cell_type": "markdown",
   "metadata": {},
   "source": [
    "In this project, I used the a dataset available on the Kaggle website.Training data file contains the historical data for the eight weeks before the week we are trying to predict. The data was taken as weekly snapshots at the start of each week. "
   ]
  },
  {
   "cell_type": "markdown",
   "metadata": {},
   "source": [
    "### a. Nature of the data"
   ]
  },
  {
   "cell_type": "markdown",
   "metadata": {},
   "source": [
    "Dataset can be found at: https://www.kaggle.com/tiredgeek/predict-bo-trial.Dataset consists of the historical data around the backorders and it has 23 columns and 1687860 entries.\n"
   ]
  },
  {
   "cell_type": "markdown",
   "metadata": {},
   "source": [
    "### b. Data dictionary\n",
    "   "
   ]
  },
  {
   "cell_type": "markdown",
   "metadata": {},
   "source": [
    "\n",
    "Dataset columns are defined as follows:\n",
    "<br>\n",
    "Feature details:\n",
    "<br>\n",
    "• SKU - Random ID for the product\n",
    "\n",
    "• national_inv - Current inventory level for the part\n",
    "\n",
    "• lead_time - Transit time for product (if available)\n",
    "\n",
    "• in_transit_qty - Amount of product in transit from source\n",
    "\n",
    "• forecast_3_month - Forecast sales for the next three months\n",
    "\n",
    "• forecast_6_month - Forecast sales for the next six months\n",
    "\n",
    "• forecast_9_month - Forecast sales for the next nine months\n",
    "\n",
    "• sales_1_month - Sales quantity for the prior one month period\n",
    "\n",
    "• sales_3_month - Sales quantity for the prior three month period\n",
    "\n",
    "• sales_6_month - Sales quantity for the prior six month period\n",
    "\n",
    "• sales_9_month - Sales quantity for the prior nine month period\n",
    "\n",
    "• min_bank - Minimum recommended amount of stock\n",
    "\n",
    "• potential_issue - Source issue for part identified\n",
    "\n",
    "• pieces_past_due - Parts overdue from source\n",
    "\n",
    "• perf_6_month_avg - Source performance for prior six month period\n",
    "\n",
    "• perf_12_month_avg - Source performance for prior 12 month period\n",
    "\n",
    "• local_bo_qty - Amount of stock orders overdue • deck_risk - Part risk flag\n",
    "\n",
    "• oe_constraint - Part risk flag\n",
    "\n",
    "• ppap_risk - Part risk flag\n",
    "\n",
    "• stop_auto_buy - Part risk flag\n",
    "\n",
    "• rev_stop - Part risk flag\n",
    "\n",
    "• went_on_backorder - Product went on backorder (target value).\n"
   ]
  },
  {
   "cell_type": "markdown",
   "metadata": {},
   "source": [
    "### c. Data wrangling discussion (how missing values, outliers, etc. were handled)"
   ]
  },
  {
   "cell_type": "markdown",
   "metadata": {},
   "source": [
    "Goal: Prepare the backorder dataset for EDA and Modeling\n",
    "<br>\n",
    "Tasks performed:\n",
    "<br>\n",
    "- Handling missing Data\n",
    "<br>\n",
    "- convert to binary\n",
    "<br>\n",
    "- Handling the outliers\n",
    "<br>\n",
    "- How common are backorders?\n",
    "<br>\n",
    "- Write the clean data into a new data frame further steps\n",
    "<br>\n",
    "Data load and description:\n",
    "<br>\n",
    "The data come in the form of MS Excel spreadsheets, which are easily loaded into pandas dataframes."
   ]
  },
  {
   "cell_type": "markdown",
   "metadata": {},
   "source": [
    "In this dataset, Every Categorical Feature includes only two values: 'Yes' and 'No.'for reducing memory usage binaries were converted from strings ('Yes' and 'No') to 1 and 0."
   ]
  },
  {
   "cell_type": "markdown",
   "metadata": {},
   "source": [
    "###### Missing data:"
   ]
  },
  {
   "cell_type": "markdown",
   "metadata": {},
   "source": [
    "Missing values in all columns of the footer in the dataset were represented as NaN, so I dropped the footer row.columns Source_Performance_12_month and source_performance_6_month have missing valu as -99.There is a strong correlation between avg_performance_6_months and avg_performance_12_months. So, linear regression would use to\n",
    "filing missing values. However another interesting point to note here is that many observations have both avg_performance_12_months and avg_performance_6_months as null, so linear regression cannot fill such values, and we need to see \n",
    "another approach there. Probably we would like to check for the central tendency of the data and replace the null accordingly. \n",
    "<br>\n",
    "It is visible from the seaborne plot that data did not distribute normally. Therefore picking median to fill remaining values is \n",
    "a good choice.\n",
    "\n",
    "![title](img/perf.png)\n",
    " \n",
    "Lead_time column had 100893 missing values, and it was not clear if it was missing or not. It is quite likely that when lead \n",
    "time is missing, it is missing for a reason and not at random, which means a mean/median imputation strategy may not be \n",
    "appropriate. I preferred to decide by looking at data with calculating the proportion of backordered products vs. without a \n",
    "missing value in lead time. "
   ]
  },
  {
   "cell_type": "markdown",
   "metadata": {},
   "source": [
    "The calculation below shows how to handle missing data in lead time:\n",
    "<br>\n",
    "1.Proportion of orders that “went_on_backorder” for missing lead_time records.\n",
    "<br>\n",
    "2.Proportion of orders that “went_on_backorder” for non-null lead_time records.\n",
    "<br>\n",
    "Went on backorder ratio for orders that they went on backorder is 0.66%.\n",
    "![title](img/pie.png)\n",
    "\n",
    "Based on the above calculations the proportion of backordered products with missing lead time is 50% less than those without\n",
    "missing lead time. The proportion of backordered products with missing lead time is half of the products with no missing values.\n",
    "The amount is significant enough that I decided not to replace the missing data in lead time and to drop them.\n",
    "The plot below shows the density of products for a given lead time that went on backorder and did not go on backorder.\n",
    "\n",
    "![title](img/lead.png)\n",
    "\n",
    "that plot shows that lead time of backordered orders looks exactly like the plot of lead time with not backorder data. It means\n",
    "that most of the products are not going on backorder and if we choose the random sample of data it is the same distribution.\n",
    "Therefore we are going to see if lead time and went on backorder are dependent or independent to/from each other.\n"
   ]
  },
  {
   "cell_type": "markdown",
   "metadata": {},
   "source": [
    "###### Handling the outliers"
   ]
  },
  {
   "cell_type": "markdown",
   "metadata": {},
   "source": [
    "Next step is looking at the relationship between lead time and a fraction of products that went on backorder. Let's look at the\n",
    "lead time and how it changes the probability of went to backorder. Products that went on backorder with lead\n",
    "time eight weeks and then two weeks have the highest order volumes. The plot below shows the relation between lead time and the \n",
    "fraction of backorder.\n",
    "<br>\n",
    "The following plot shows with longer lead time; backorder proportion goes down.\n",
    "<br>\n",
    "In the below plot, two outliers noticed. One is at lead time=11 and one at lead time 52. For the point on 52, I believe there \n",
    "were not enough records to show the rest of point between 17 to 52. The point at lead time 11 should be given particular \n",
    "attention to its cause is known. For this reason, I am going to calculate the binomial probability distribution. As you see from \n",
    "the above calculations, the standard deviation of the binomial distribution is 3.23 standard deviation from the mean, so I am \n",
    "going to ignore this point for now.\n",
    "![title](img/ratio.png)"
   ]
  },
  {
   "cell_type": "markdown",
   "metadata": {},
   "source": [
    "###### Sales versus Forecast"
   ]
  },
  {
   "cell_type": "markdown",
   "metadata": {},
   "source": [
    "The plot below shows the strong relationship between total prior sales and total prior sales forecast. Order backorder can \n",
    "happen because of the wrong forecast. For example when for any reason .forecast is less than sales of the month.\n",
    "From 11293 backordered products, 4274 orders sales were more than sales forecast.\n",
    "Therefore other reasons might affect back ordering.\n",
    "![title](img/forc.png)"
   ]
  },
  {
   "cell_type": "markdown",
   "metadata": {},
   "source": [
    "###### Data reduction"
   ]
  },
  {
   "cell_type": "markdown",
   "metadata": {},
   "source": [
    "Since the dataset was massive, I decided to reduce data by capturing data from the total sales volume which is a significant\n",
    "reduction in data for not much loss of fidelity.<br>\n",
    "How I captured the total sales values is I used the cumulative sum of total sales volume.For data reduction, I captured 60% \n",
    "total sales volume, which is data was reduced to 7397 rows.\n",
    "<br>\n",
    "Using data reduction may save some computing time and also presenting a cleaner dataset for the predictive model.<br>\n",
    "After Data reduction I looked at the relationship between sales and went on backorder. There is no relation between total sales \n",
    "and went on backorder now; the reason is high sales products they do not go on backorder.\n",
    "Backorder ratio is higher when we drop the NaN values in lead time that's because most of the orders were not backordered.\n",
    "There were no significant differences in the result of data reduction when I dropped missing values of lead time. In my opinion, \n",
    "missing values in lead time do not affect the result of volume reductions."
   ]
  },
  {
   "cell_type": "markdown",
   "metadata": {
    "collapsed": true
   },
   "source": [
    "Therefore other reasons might affect back ordering.\n",
    "<br>\n",
    "In the following exploratory I answer these questions:\n",
    "<br>\n",
    "-  Given that, how likely are backorders based on the part risk flags?\n",
    "<br>\n",
    "-  How prevalent are they?\n",
    "<br>\n",
    "-  What is the relationship between \"potential_issue\" and \"pieces_past_due\" are each\n",
    "<br>\n",
    "-  What is the relationship between \"potential_issue\" and \"pieces_past_due\" are each represented by part risk flags or are \n",
    "they unrelated concepts?\n",
    "<br>\n",
    "-  Based on the answers to these questions you could recommend: What aspects of the supply chain present the most prominent \n",
    "risks?\n",
    "<br>\n",
    "-  Based on the risks, what would you recommend improving first?\n"
   ]
  },
  {
   "cell_type": "markdown",
   "metadata": {},
   "source": [
    "The flag columns in the dataset are:\n",
    "<br>\n",
    " -  potential_issue - Source issue for part identified\n",
    "<br>\n",
    " -  pieces_past_due - Parts overdue from source\n",
    "<br>\n",
    " -  local_bo_qty - Amount of stock orders overdue\n",
    "<br>\n",
    " -  deck_risk - Part risk flag\n",
    "<br>\n",
    " -  oe_constraint - Part risk flag\n",
    "<br>\n",
    " -  ppap_risk - Part risk flag\n",
    "<br>\n",
    "Below plot shows that went on backorder and potential issues have the same relationship with lead time. It means when \n",
    "products with specific lead time did not have the potential issue the products did not go on backorder. \n",
    "![title](img/pot.png)\n",
    "Same thing with parts overdue; there are no parts overdue from the source the products do not go backorder.The probability \n",
    "of products without any of risk that did not go on backorder is almost 98%. If the product did not have parts overdue, it is \n",
    "doubtful it went on backorder.On the other hand The probability of product had any of risks and went on backorder is very \n",
    "low but the intersting part is probability of product had pieces past due,local_bo_qty,potential_issue and went on backorder \n",
    "is 96%. It means the combination of these flags affects the going on backorder."
   ]
  },
  {
   "cell_type": "markdown",
   "metadata": {},
   "source": [
    "###### Minimum recommended amount of stock versus went on backorder"
   ]
  },
  {
   "cell_type": "markdown",
   "metadata": {},
   "source": [
    "With more minimum recommended amount of stock the order volumes decrease.The proportion of orders with the minimum recommended \n",
    "an amount to stock that went_on_backorder: 0.66.\n",
    "![title](img/min.png)"
   ]
  },
  {
   "cell_type": "markdown",
   "metadata": {},
   "source": [
    "###### Normalization"
   ]
  },
  {
   "cell_type": "markdown",
   "metadata": {},
   "source": [
    "Normalization is keep some valuable information about the part (for example, if inventory is lower than 0, it can correct that\n",
    "in preprocessing,or get misleading the models).\n",
    "From below plot, we can see the normal distribution for sales columns.\n",
    "![title](img/norm.png)"
   ]
  },
  {
   "cell_type": "markdown",
   "metadata": {},
   "source": [
    "# III. Training"
   ]
  },
  {
   "cell_type": "markdown",
   "metadata": {},
   "source": [
    "Imbalanced classification is a supervised learning problem where one class outnumbers other class by a large proportion.This \n",
    "problem is faced more frequently in binary classification problems than multi-level classification problems.The reasons which \n",
    "leads to reduction in accuracy of ML algorithms on imbalanced data sets:\n",
    "<br>\n",
    "- ML algorithms struggle with accuracy because of the unequal distribution in dependent variable.\n",
    "<br>\n",
    "- This causes the performance of existing classifiers to get biased towards majority class.\n",
    "<br>\n",
    "- The algorithms are accuracy driven i.e. they aim to minimize the overall error to which the minority class contributes very \n",
    "little.\n",
    "<br>\n",
    "- ML algorithms assume that the data set has balanced class distributions.\n",
    "<br>\n",
    "- They also assume that errors obtained from different classes have same cost.\n",
    "<br>\n",
    "because the data set is very imbalanced so I add up the data that went on backorder to this sample."
   ]
  },
  {
   "cell_type": "markdown",
   "metadata": {},
   "source": [
    "## 1.  Objective (target and loss function)\n",
    "\n",
    "In this data set target value is went on backorder."
   ]
  },
  {
   "cell_type": "markdown",
   "metadata": {},
   "source": [
    "## 2. Features \n",
    "for training data set the features I used are:\n",
    "<br>\n",
    "{national_inv,lead_time,in_transit_qty,forecast_3_month,forecast_6_month,\n",
    "<br>\n",
    "forecast_9_month,sales_1_month,sales_3_month,sales_6_month,sales_9_month,\n",
    "<br>\n",
    "min_bank,potential_issue,pieces_past_due,perf_6_month_avg,perf_12_month_avg,\n",
    "<br>\n",
    "local_bo_qty,deck_risk,oe_constraint,ppap_risk,stop_auto_buy}"
   ]
  },
  {
   "cell_type": "markdown",
   "metadata": {},
   "source": [
    "## 3. Model selection\n",
    "I used supervised learning to predict “went on backorder” product according to what they have reordered. Results show the \n",
    "accuracy of 99%.\n",
    "\n",
    "![title](img/predict.png)\n",
    "\n",
    "The models I used are Logestic Regression and RandomForest(Bagging-based ensemble), which I got a better result from random forest model.\n",
    "<br>\n",
    "Precision-recall curves show how Precision and Recall metrics compete depending on the threshold defined for the decision function of the model.\n",
    "\n",
    "![title](img/auc.png)\n"
   ]
  },
  {
   "cell_type": "code",
   "execution_count": null,
   "metadata": {},
   "outputs": [],
   "source": []
  }
 ],
 "metadata": {
  "celltoolbar": "Raw Cell Format",
  "kernelspec": {
   "display_name": "Python 3",
   "language": "python",
   "name": "python3"
  },
  "language_info": {
   "codemirror_mode": {
    "name": "ipython",
    "version": 3
   },
   "file_extension": ".py",
   "mimetype": "text/x-python",
   "name": "python",
   "nbconvert_exporter": "python",
   "pygments_lexer": "ipython3",
   "version": "3.5.2"
  },
  "latex_metadata": {
   "affiliation": "Freie Universit\\\"at Berlin, Fachbereich Physik, 14195 Berlin, Germany",
   "author": "Julius C. F. Schulz",
   "title": "Amazing Article"
  }
 },
 "nbformat": 4,
 "nbformat_minor": 2
}
