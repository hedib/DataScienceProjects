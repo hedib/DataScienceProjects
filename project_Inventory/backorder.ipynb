{
 "cells": [
  {
   "cell_type": "markdown",
   "metadata": {
    "collapsed": true
   },
   "source": [
    "## Can You Predict Product Backorders?\n",
    "Based on historical data predict backorder risk for products"
   ]
  },
  {
   "cell_type": "markdown",
   "metadata": {},
   "source": [
    "Imputing \"lead_time\" may not be appropriate. It's quite likely that when lead_time is missing, it's missing for a reason and not at random, which means a mean/median imputation strategy may not be appropriate. \n",
    "\n",
    "You can probably decide by looking at the data: for example looking at the proportion of backordered products with vs. without a lead_time or the sales volume for products with vs. without a lead_time To trim down the size of the data set, I'd recommend sticking to the top products (for example trying to capture 60%-80%) of the total sales volume as opposed to only keeping non-zero sales. You can make the call for yourself by looking at the total # of products that remain when doing (a) no filtering (b) filtering out zero-sales products (c) capturing the majority of total sales. My guess is there'll be a big reduction in data from (b) to (c) for not much loss of fidelity.\n",
    "\n",
    "To visualize the data, I recommend using a transformation that's appropriate for heavy-tailed data (like the natural log or square root) as opposed to normalizing the data to the 0-1 range. That sort of normalization can be great for fitting certain types of models (like SGD or SVMs) but isn't likely to help much with this sort of data visualization.\n",
    "Ultimately my big suggestion is to keep things simple to start. Use your intuition, try looking at 1 piece of data at a time, and understand how it fits into the bigger puzzle. I'll talk you through how the facet plots and heatmap may be hurting you more than they're helping - but think about how you would answer a basic question like \"Does lead_time affect the probability of a backorder?\" How could we figure that out?"
   ]
  },
  {
   "cell_type": "markdown",
   "metadata": {},
   "source": [
    "How could the supply chain process be improved?\n",
    "-------------------------------------------------------------------\n",
    "The business case study here would be to assess what aspects of the product creation are particularly sensitive to causing backorders. Here I'd start by evaluating:\n",
    "How common are backorders?\n",
    "Given that, how likely are backorders based on the part risk flags? And how prevalent are they?\n",
    "What's the relationship between \"potential_issue\" and \"pieces_past_due\" are each represented by part risk flags or are they unrelated concepts?\n",
    "What's the relationship between lead time and back orders?\n",
    "Based on the answers to these questions you could recommend:\n",
    "What aspects of the supply chain present the biggest risks?\n",
    "Based on the risks, what would you recommend improving first?\n",
    "\n",
    "How predictable are sales?\n",
    "------------------------------------\n",
    "If we *assume* (which may or may not be correct) that sales are independent of backorders, and backorders just slow delivery or increase cancellations, how predictable is demand?\n",
    "\n",
    "We can create uncorrelated features by differencing the lagged features in the data set:\n",
    "Features\n",
    "Sales in months 1, 2, 3 =  \"sales_3_month\"\n",
    "Sales in months 4, 5, and 6 =  \"sales_6_month\" -  \"sales_3_month\"\n",
    "Sales in months 7, 8, and 9 =  \"sales_9_month\" -  \"sales_6_month\"\n",
    "Based on these we can examine:\n",
    "What proportion of products don't have more than a 10%, 20%, or 50% change over those time periods?\n",
    "What proportion of products consistently trend up, or trend down over those time periods? \n",
    "What percentage flip? By how much?\n",
    "Bonus: by differencing \"sales_1_month\" and \"sales_3_month\" how predictable are \"sales_1_month\" based on the previous time periods alone?\n"
   ]
  },
  {
   "cell_type": "markdown",
   "metadata": {},
   "source": [
    "How common are backorders?\n",
    "Given that, how likely are backorders based on the part risk flags? And how prevalent are they?\n",
    "What's the relationship between \"potential_issue\" and \"pieces_past_due\" are each represented by part risk flags or are they unrelated concepts?\n",
    "What's the relationship between lead time and back orders?"
   ]
  },
  {
   "cell_type": "code",
   "execution_count": 16,
   "metadata": {
    "collapsed": true
   },
   "outputs": [],
   "source": [
    "import pandas as pd\n",
    "import matplotlib.pyplot as plt\n",
    "import numpy as np\n",
    "import matplotlib.mlab as mlab\n",
    "import scipy.stats as stats\n",
    "import seaborn as sns\n",
    "from scipy import stats"
   ]
  },
  {
   "cell_type": "code",
   "execution_count": 17,
   "metadata": {
    "collapsed": true
   },
   "outputs": [],
   "source": [
    "train_data_=train_data\n"
   ]
  },
  {
   "cell_type": "code",
   "execution_count": 18,
   "metadata": {},
   "outputs": [
    {
     "name": "stderr",
     "output_type": "stream",
     "text": [
      "C:\\Users\\Hedi\\Anaconda3\\lib\\site-packages\\IPython\\core\\interactiveshell.py:2717: DtypeWarning: Columns (0) have mixed types. Specify dtype option on import or set low_memory=False.\n",
      "  interactivity=interactivity, compiler=compiler, result=result)\n"
     ]
    },
    {
     "data": {
      "text/html": [
       "<div>\n",
       "<style>\n",
       "    .dataframe thead tr:only-child th {\n",
       "        text-align: right;\n",
       "    }\n",
       "\n",
       "    .dataframe thead th {\n",
       "        text-align: left;\n",
       "    }\n",
       "\n",
       "    .dataframe tbody tr th {\n",
       "        vertical-align: top;\n",
       "    }\n",
       "</style>\n",
       "<table border=\"1\" class=\"dataframe\">\n",
       "  <thead>\n",
       "    <tr style=\"text-align: right;\">\n",
       "      <th></th>\n",
       "      <th>sku</th>\n",
       "      <th>national_inv</th>\n",
       "      <th>lead_time</th>\n",
       "      <th>in_transit_qty</th>\n",
       "      <th>forecast_3_month</th>\n",
       "      <th>forecast_6_month</th>\n",
       "      <th>forecast_9_month</th>\n",
       "      <th>sales_1_month</th>\n",
       "      <th>sales_3_month</th>\n",
       "      <th>sales_6_month</th>\n",
       "      <th>...</th>\n",
       "      <th>pieces_past_due</th>\n",
       "      <th>perf_6_month_avg</th>\n",
       "      <th>perf_12_month_avg</th>\n",
       "      <th>local_bo_qty</th>\n",
       "      <th>deck_risk</th>\n",
       "      <th>oe_constraint</th>\n",
       "      <th>ppap_risk</th>\n",
       "      <th>stop_auto_buy</th>\n",
       "      <th>rev_stop</th>\n",
       "      <th>went_on_backorder</th>\n",
       "    </tr>\n",
       "  </thead>\n",
       "  <tbody>\n",
       "    <tr>\n",
       "      <th>1687855</th>\n",
       "      <td>1407754</td>\n",
       "      <td>0.0</td>\n",
       "      <td>2.0</td>\n",
       "      <td>0.0</td>\n",
       "      <td>10.0</td>\n",
       "      <td>10.0</td>\n",
       "      <td>10.0</td>\n",
       "      <td>0.0</td>\n",
       "      <td>5.0</td>\n",
       "      <td>7.0</td>\n",
       "      <td>...</td>\n",
       "      <td>0.0</td>\n",
       "      <td>0.69</td>\n",
       "      <td>0.69</td>\n",
       "      <td>5.0</td>\n",
       "      <td>1</td>\n",
       "      <td>0</td>\n",
       "      <td>0</td>\n",
       "      <td>1</td>\n",
       "      <td>0</td>\n",
       "      <td>0</td>\n",
       "    </tr>\n",
       "    <tr>\n",
       "      <th>1687856</th>\n",
       "      <td>1373987</td>\n",
       "      <td>-1.0</td>\n",
       "      <td>NaN</td>\n",
       "      <td>0.0</td>\n",
       "      <td>5.0</td>\n",
       "      <td>7.0</td>\n",
       "      <td>9.0</td>\n",
       "      <td>1.0</td>\n",
       "      <td>3.0</td>\n",
       "      <td>3.0</td>\n",
       "      <td>...</td>\n",
       "      <td>0.0</td>\n",
       "      <td>-99.00</td>\n",
       "      <td>-99.00</td>\n",
       "      <td>1.0</td>\n",
       "      <td>0</td>\n",
       "      <td>0</td>\n",
       "      <td>0</td>\n",
       "      <td>1</td>\n",
       "      <td>0</td>\n",
       "      <td>0</td>\n",
       "    </tr>\n",
       "    <tr>\n",
       "      <th>1687857</th>\n",
       "      <td>1524346</td>\n",
       "      <td>-1.0</td>\n",
       "      <td>9.0</td>\n",
       "      <td>0.0</td>\n",
       "      <td>7.0</td>\n",
       "      <td>9.0</td>\n",
       "      <td>11.0</td>\n",
       "      <td>0.0</td>\n",
       "      <td>8.0</td>\n",
       "      <td>11.0</td>\n",
       "      <td>...</td>\n",
       "      <td>0.0</td>\n",
       "      <td>0.86</td>\n",
       "      <td>0.84</td>\n",
       "      <td>1.0</td>\n",
       "      <td>1</td>\n",
       "      <td>0</td>\n",
       "      <td>0</td>\n",
       "      <td>0</td>\n",
       "      <td>0</td>\n",
       "      <td>1</td>\n",
       "    </tr>\n",
       "    <tr>\n",
       "      <th>1687858</th>\n",
       "      <td>1439563</td>\n",
       "      <td>62.0</td>\n",
       "      <td>9.0</td>\n",
       "      <td>16.0</td>\n",
       "      <td>39.0</td>\n",
       "      <td>87.0</td>\n",
       "      <td>126.0</td>\n",
       "      <td>35.0</td>\n",
       "      <td>63.0</td>\n",
       "      <td>153.0</td>\n",
       "      <td>...</td>\n",
       "      <td>0.0</td>\n",
       "      <td>0.86</td>\n",
       "      <td>0.84</td>\n",
       "      <td>6.0</td>\n",
       "      <td>0</td>\n",
       "      <td>0</td>\n",
       "      <td>0</td>\n",
       "      <td>1</td>\n",
       "      <td>0</td>\n",
       "      <td>0</td>\n",
       "    </tr>\n",
       "    <tr>\n",
       "      <th>1687859</th>\n",
       "      <td>1502009</td>\n",
       "      <td>19.0</td>\n",
       "      <td>4.0</td>\n",
       "      <td>0.0</td>\n",
       "      <td>0.0</td>\n",
       "      <td>0.0</td>\n",
       "      <td>0.0</td>\n",
       "      <td>2.0</td>\n",
       "      <td>7.0</td>\n",
       "      <td>12.0</td>\n",
       "      <td>...</td>\n",
       "      <td>0.0</td>\n",
       "      <td>0.73</td>\n",
       "      <td>0.78</td>\n",
       "      <td>1.0</td>\n",
       "      <td>0</td>\n",
       "      <td>0</td>\n",
       "      <td>0</td>\n",
       "      <td>1</td>\n",
       "      <td>0</td>\n",
       "      <td>0</td>\n",
       "    </tr>\n",
       "  </tbody>\n",
       "</table>\n",
       "<p>5 rows × 23 columns</p>\n",
       "</div>"
      ],
      "text/plain": [
       "             sku  national_inv  lead_time  in_transit_qty  forecast_3_month  \\\n",
       "1687855  1407754           0.0        2.0             0.0              10.0   \n",
       "1687856  1373987          -1.0        NaN             0.0               5.0   \n",
       "1687857  1524346          -1.0        9.0             0.0               7.0   \n",
       "1687858  1439563          62.0        9.0            16.0              39.0   \n",
       "1687859  1502009          19.0        4.0             0.0               0.0   \n",
       "\n",
       "         forecast_6_month  forecast_9_month  sales_1_month  sales_3_month  \\\n",
       "1687855              10.0              10.0            0.0            5.0   \n",
       "1687856               7.0               9.0            1.0            3.0   \n",
       "1687857               9.0              11.0            0.0            8.0   \n",
       "1687858              87.0             126.0           35.0           63.0   \n",
       "1687859               0.0               0.0            2.0            7.0   \n",
       "\n",
       "         sales_6_month        ...          pieces_past_due  perf_6_month_avg  \\\n",
       "1687855            7.0        ...                      0.0              0.69   \n",
       "1687856            3.0        ...                      0.0            -99.00   \n",
       "1687857           11.0        ...                      0.0              0.86   \n",
       "1687858          153.0        ...                      0.0              0.86   \n",
       "1687859           12.0        ...                      0.0              0.73   \n",
       "\n",
       "         perf_12_month_avg  local_bo_qty  deck_risk  oe_constraint  ppap_risk  \\\n",
       "1687855               0.69           5.0          1              0          0   \n",
       "1687856             -99.00           1.0          0              0          0   \n",
       "1687857               0.84           1.0          1              0          0   \n",
       "1687858               0.84           6.0          0              0          0   \n",
       "1687859               0.78           1.0          0              0          0   \n",
       "\n",
       "         stop_auto_buy  rev_stop  went_on_backorder  \n",
       "1687855              1         0                  0  \n",
       "1687856              1         0                  0  \n",
       "1687857              0         0                  1  \n",
       "1687858              1         0                  0  \n",
       "1687859              1         0                  0  \n",
       "\n",
       "[5 rows x 23 columns]"
      ]
     },
     "execution_count": 18,
     "metadata": {},
     "output_type": "execute_result"
    }
   ],
   "source": [
    "raw_data = pd.read_csv(\"Kaggle_Training_Dataset_v2.csv\")\n",
    "\n",
    "train_data = (raw_data\n",
    "              .drop(raw_data.index[len(raw_data)-1])# drop invalid last row\n",
    "              .replace(['Yes', 'No'], [1, 0]))   # make yes/no numeric\n",
    "\n",
    "train_data.tail()"
   ]
  },
  {
   "cell_type": "code",
   "execution_count": 19,
   "metadata": {},
   "outputs": [
    {
     "name": "stdout",
     "output_type": "stream",
     "text": [
      "<class 'pandas.core.frame.DataFrame'>\n",
      "Int64Index: 1687860 entries, 0 to 1687859\n",
      "Data columns (total 23 columns):\n",
      "sku                  1687860 non-null object\n",
      "national_inv         1687860 non-null float64\n",
      "lead_time            1586967 non-null float64\n",
      "in_transit_qty       1687860 non-null float64\n",
      "forecast_3_month     1687860 non-null float64\n",
      "forecast_6_month     1687860 non-null float64\n",
      "forecast_9_month     1687860 non-null float64\n",
      "sales_1_month        1687860 non-null float64\n",
      "sales_3_month        1687860 non-null float64\n",
      "sales_6_month        1687860 non-null float64\n",
      "sales_9_month        1687860 non-null float64\n",
      "min_bank             1687860 non-null float64\n",
      "potential_issue      1687860 non-null int64\n",
      "pieces_past_due      1687860 non-null float64\n",
      "perf_6_month_avg     1687860 non-null float64\n",
      "perf_12_month_avg    1687860 non-null float64\n",
      "local_bo_qty         1687860 non-null float64\n",
      "deck_risk            1687860 non-null int64\n",
      "oe_constraint        1687860 non-null int64\n",
      "ppap_risk            1687860 non-null int64\n",
      "stop_auto_buy        1687860 non-null int64\n",
      "rev_stop             1687860 non-null int64\n",
      "went_on_backorder    1687860 non-null int64\n",
      "dtypes: float64(15), int64(7), object(1)\n",
      "memory usage: 309.1+ MB\n"
     ]
    }
   ],
   "source": [
    "#data Information\n",
    "train_data.info()"
   ]
  },
  {
   "cell_type": "code",
   "execution_count": 20,
   "metadata": {},
   "outputs": [
    {
     "data": {
      "text/html": [
       "<div>\n",
       "<style>\n",
       "    .dataframe thead tr:only-child th {\n",
       "        text-align: right;\n",
       "    }\n",
       "\n",
       "    .dataframe thead th {\n",
       "        text-align: left;\n",
       "    }\n",
       "\n",
       "    .dataframe tbody tr th {\n",
       "        vertical-align: top;\n",
       "    }\n",
       "</style>\n",
       "<table border=\"1\" class=\"dataframe\">\n",
       "  <thead>\n",
       "    <tr style=\"text-align: right;\">\n",
       "      <th></th>\n",
       "      <th>national_inv</th>\n",
       "      <th>lead_time</th>\n",
       "      <th>in_transit_qty</th>\n",
       "      <th>forecast_3_month</th>\n",
       "      <th>forecast_6_month</th>\n",
       "      <th>forecast_9_month</th>\n",
       "      <th>sales_1_month</th>\n",
       "      <th>sales_3_month</th>\n",
       "      <th>sales_6_month</th>\n",
       "      <th>sales_9_month</th>\n",
       "      <th>...</th>\n",
       "      <th>pieces_past_due</th>\n",
       "      <th>perf_6_month_avg</th>\n",
       "      <th>perf_12_month_avg</th>\n",
       "      <th>local_bo_qty</th>\n",
       "      <th>deck_risk</th>\n",
       "      <th>oe_constraint</th>\n",
       "      <th>ppap_risk</th>\n",
       "      <th>stop_auto_buy</th>\n",
       "      <th>rev_stop</th>\n",
       "      <th>went_on_backorder</th>\n",
       "    </tr>\n",
       "  </thead>\n",
       "  <tbody>\n",
       "    <tr>\n",
       "      <th>count</th>\n",
       "      <td>1.687860e+06</td>\n",
       "      <td>1.586967e+06</td>\n",
       "      <td>1.687860e+06</td>\n",
       "      <td>1.687860e+06</td>\n",
       "      <td>1.687860e+06</td>\n",
       "      <td>1.687860e+06</td>\n",
       "      <td>1.687860e+06</td>\n",
       "      <td>1.687860e+06</td>\n",
       "      <td>1.687860e+06</td>\n",
       "      <td>1.687860e+06</td>\n",
       "      <td>...</td>\n",
       "      <td>1.687860e+06</td>\n",
       "      <td>1.687860e+06</td>\n",
       "      <td>1.687860e+06</td>\n",
       "      <td>1.687860e+06</td>\n",
       "      <td>1.687860e+06</td>\n",
       "      <td>1.687860e+06</td>\n",
       "      <td>1.687860e+06</td>\n",
       "      <td>1.687860e+06</td>\n",
       "      <td>1.687860e+06</td>\n",
       "      <td>1.687860e+06</td>\n",
       "    </tr>\n",
       "    <tr>\n",
       "      <th>mean</th>\n",
       "      <td>4.961118e+02</td>\n",
       "      <td>7.872267e+00</td>\n",
       "      <td>4.405202e+01</td>\n",
       "      <td>1.781193e+02</td>\n",
       "      <td>3.449867e+02</td>\n",
       "      <td>5.063644e+02</td>\n",
       "      <td>5.592607e+01</td>\n",
       "      <td>1.750259e+02</td>\n",
       "      <td>3.417288e+02</td>\n",
       "      <td>5.252697e+02</td>\n",
       "      <td>...</td>\n",
       "      <td>2.043724e+00</td>\n",
       "      <td>-6.872059e+00</td>\n",
       "      <td>-6.437947e+00</td>\n",
       "      <td>6.264507e-01</td>\n",
       "      <td>2.295706e-01</td>\n",
       "      <td>1.451542e-04</td>\n",
       "      <td>1.207648e-01</td>\n",
       "      <td>9.638086e-01</td>\n",
       "      <td>4.330928e-04</td>\n",
       "      <td>6.690721e-03</td>\n",
       "    </tr>\n",
       "    <tr>\n",
       "      <th>std</th>\n",
       "      <td>2.961523e+04</td>\n",
       "      <td>7.056024e+00</td>\n",
       "      <td>1.342742e+03</td>\n",
       "      <td>5.026553e+03</td>\n",
       "      <td>9.795152e+03</td>\n",
       "      <td>1.437892e+04</td>\n",
       "      <td>1.928196e+03</td>\n",
       "      <td>5.192378e+03</td>\n",
       "      <td>9.613167e+03</td>\n",
       "      <td>1.483861e+04</td>\n",
       "      <td>...</td>\n",
       "      <td>2.360165e+02</td>\n",
       "      <td>2.655636e+01</td>\n",
       "      <td>2.584333e+01</td>\n",
       "      <td>3.372224e+01</td>\n",
       "      <td>4.205568e-01</td>\n",
       "      <td>1.204713e-02</td>\n",
       "      <td>3.258538e-01</td>\n",
       "      <td>1.867661e-01</td>\n",
       "      <td>2.080638e-02</td>\n",
       "      <td>8.152275e-02</td>\n",
       "    </tr>\n",
       "    <tr>\n",
       "      <th>min</th>\n",
       "      <td>-2.725600e+04</td>\n",
       "      <td>0.000000e+00</td>\n",
       "      <td>0.000000e+00</td>\n",
       "      <td>0.000000e+00</td>\n",
       "      <td>0.000000e+00</td>\n",
       "      <td>0.000000e+00</td>\n",
       "      <td>0.000000e+00</td>\n",
       "      <td>0.000000e+00</td>\n",
       "      <td>0.000000e+00</td>\n",
       "      <td>0.000000e+00</td>\n",
       "      <td>...</td>\n",
       "      <td>0.000000e+00</td>\n",
       "      <td>-9.900000e+01</td>\n",
       "      <td>-9.900000e+01</td>\n",
       "      <td>0.000000e+00</td>\n",
       "      <td>0.000000e+00</td>\n",
       "      <td>0.000000e+00</td>\n",
       "      <td>0.000000e+00</td>\n",
       "      <td>0.000000e+00</td>\n",
       "      <td>0.000000e+00</td>\n",
       "      <td>0.000000e+00</td>\n",
       "    </tr>\n",
       "    <tr>\n",
       "      <th>25%</th>\n",
       "      <td>4.000000e+00</td>\n",
       "      <td>4.000000e+00</td>\n",
       "      <td>0.000000e+00</td>\n",
       "      <td>0.000000e+00</td>\n",
       "      <td>0.000000e+00</td>\n",
       "      <td>0.000000e+00</td>\n",
       "      <td>0.000000e+00</td>\n",
       "      <td>0.000000e+00</td>\n",
       "      <td>0.000000e+00</td>\n",
       "      <td>0.000000e+00</td>\n",
       "      <td>...</td>\n",
       "      <td>0.000000e+00</td>\n",
       "      <td>6.300000e-01</td>\n",
       "      <td>6.600000e-01</td>\n",
       "      <td>0.000000e+00</td>\n",
       "      <td>0.000000e+00</td>\n",
       "      <td>0.000000e+00</td>\n",
       "      <td>0.000000e+00</td>\n",
       "      <td>1.000000e+00</td>\n",
       "      <td>0.000000e+00</td>\n",
       "      <td>0.000000e+00</td>\n",
       "    </tr>\n",
       "    <tr>\n",
       "      <th>50%</th>\n",
       "      <td>1.500000e+01</td>\n",
       "      <td>8.000000e+00</td>\n",
       "      <td>0.000000e+00</td>\n",
       "      <td>0.000000e+00</td>\n",
       "      <td>0.000000e+00</td>\n",
       "      <td>0.000000e+00</td>\n",
       "      <td>0.000000e+00</td>\n",
       "      <td>1.000000e+00</td>\n",
       "      <td>2.000000e+00</td>\n",
       "      <td>4.000000e+00</td>\n",
       "      <td>...</td>\n",
       "      <td>0.000000e+00</td>\n",
       "      <td>8.200000e-01</td>\n",
       "      <td>8.100000e-01</td>\n",
       "      <td>0.000000e+00</td>\n",
       "      <td>0.000000e+00</td>\n",
       "      <td>0.000000e+00</td>\n",
       "      <td>0.000000e+00</td>\n",
       "      <td>1.000000e+00</td>\n",
       "      <td>0.000000e+00</td>\n",
       "      <td>0.000000e+00</td>\n",
       "    </tr>\n",
       "    <tr>\n",
       "      <th>75%</th>\n",
       "      <td>8.000000e+01</td>\n",
       "      <td>9.000000e+00</td>\n",
       "      <td>0.000000e+00</td>\n",
       "      <td>4.000000e+00</td>\n",
       "      <td>1.200000e+01</td>\n",
       "      <td>2.000000e+01</td>\n",
       "      <td>4.000000e+00</td>\n",
       "      <td>1.500000e+01</td>\n",
       "      <td>3.100000e+01</td>\n",
       "      <td>4.700000e+01</td>\n",
       "      <td>...</td>\n",
       "      <td>0.000000e+00</td>\n",
       "      <td>9.700000e-01</td>\n",
       "      <td>9.500000e-01</td>\n",
       "      <td>0.000000e+00</td>\n",
       "      <td>0.000000e+00</td>\n",
       "      <td>0.000000e+00</td>\n",
       "      <td>0.000000e+00</td>\n",
       "      <td>1.000000e+00</td>\n",
       "      <td>0.000000e+00</td>\n",
       "      <td>0.000000e+00</td>\n",
       "    </tr>\n",
       "    <tr>\n",
       "      <th>max</th>\n",
       "      <td>1.233440e+07</td>\n",
       "      <td>5.200000e+01</td>\n",
       "      <td>4.894080e+05</td>\n",
       "      <td>1.427612e+06</td>\n",
       "      <td>2.461360e+06</td>\n",
       "      <td>3.777304e+06</td>\n",
       "      <td>7.417740e+05</td>\n",
       "      <td>1.105478e+06</td>\n",
       "      <td>2.146625e+06</td>\n",
       "      <td>3.205172e+06</td>\n",
       "      <td>...</td>\n",
       "      <td>1.464960e+05</td>\n",
       "      <td>1.000000e+00</td>\n",
       "      <td>1.000000e+00</td>\n",
       "      <td>1.253000e+04</td>\n",
       "      <td>1.000000e+00</td>\n",
       "      <td>1.000000e+00</td>\n",
       "      <td>1.000000e+00</td>\n",
       "      <td>1.000000e+00</td>\n",
       "      <td>1.000000e+00</td>\n",
       "      <td>1.000000e+00</td>\n",
       "    </tr>\n",
       "  </tbody>\n",
       "</table>\n",
       "<p>8 rows × 22 columns</p>\n",
       "</div>"
      ],
      "text/plain": [
       "       national_inv     lead_time  in_transit_qty  forecast_3_month  \\\n",
       "count  1.687860e+06  1.586967e+06    1.687860e+06      1.687860e+06   \n",
       "mean   4.961118e+02  7.872267e+00    4.405202e+01      1.781193e+02   \n",
       "std    2.961523e+04  7.056024e+00    1.342742e+03      5.026553e+03   \n",
       "min   -2.725600e+04  0.000000e+00    0.000000e+00      0.000000e+00   \n",
       "25%    4.000000e+00  4.000000e+00    0.000000e+00      0.000000e+00   \n",
       "50%    1.500000e+01  8.000000e+00    0.000000e+00      0.000000e+00   \n",
       "75%    8.000000e+01  9.000000e+00    0.000000e+00      4.000000e+00   \n",
       "max    1.233440e+07  5.200000e+01    4.894080e+05      1.427612e+06   \n",
       "\n",
       "       forecast_6_month  forecast_9_month  sales_1_month  sales_3_month  \\\n",
       "count      1.687860e+06      1.687860e+06   1.687860e+06   1.687860e+06   \n",
       "mean       3.449867e+02      5.063644e+02   5.592607e+01   1.750259e+02   \n",
       "std        9.795152e+03      1.437892e+04   1.928196e+03   5.192378e+03   \n",
       "min        0.000000e+00      0.000000e+00   0.000000e+00   0.000000e+00   \n",
       "25%        0.000000e+00      0.000000e+00   0.000000e+00   0.000000e+00   \n",
       "50%        0.000000e+00      0.000000e+00   0.000000e+00   1.000000e+00   \n",
       "75%        1.200000e+01      2.000000e+01   4.000000e+00   1.500000e+01   \n",
       "max        2.461360e+06      3.777304e+06   7.417740e+05   1.105478e+06   \n",
       "\n",
       "       sales_6_month  sales_9_month        ...          pieces_past_due  \\\n",
       "count   1.687860e+06   1.687860e+06        ...             1.687860e+06   \n",
       "mean    3.417288e+02   5.252697e+02        ...             2.043724e+00   \n",
       "std     9.613167e+03   1.483861e+04        ...             2.360165e+02   \n",
       "min     0.000000e+00   0.000000e+00        ...             0.000000e+00   \n",
       "25%     0.000000e+00   0.000000e+00        ...             0.000000e+00   \n",
       "50%     2.000000e+00   4.000000e+00        ...             0.000000e+00   \n",
       "75%     3.100000e+01   4.700000e+01        ...             0.000000e+00   \n",
       "max     2.146625e+06   3.205172e+06        ...             1.464960e+05   \n",
       "\n",
       "       perf_6_month_avg  perf_12_month_avg  local_bo_qty     deck_risk  \\\n",
       "count      1.687860e+06       1.687860e+06  1.687860e+06  1.687860e+06   \n",
       "mean      -6.872059e+00      -6.437947e+00  6.264507e-01  2.295706e-01   \n",
       "std        2.655636e+01       2.584333e+01  3.372224e+01  4.205568e-01   \n",
       "min       -9.900000e+01      -9.900000e+01  0.000000e+00  0.000000e+00   \n",
       "25%        6.300000e-01       6.600000e-01  0.000000e+00  0.000000e+00   \n",
       "50%        8.200000e-01       8.100000e-01  0.000000e+00  0.000000e+00   \n",
       "75%        9.700000e-01       9.500000e-01  0.000000e+00  0.000000e+00   \n",
       "max        1.000000e+00       1.000000e+00  1.253000e+04  1.000000e+00   \n",
       "\n",
       "       oe_constraint     ppap_risk  stop_auto_buy      rev_stop  \\\n",
       "count   1.687860e+06  1.687860e+06   1.687860e+06  1.687860e+06   \n",
       "mean    1.451542e-04  1.207648e-01   9.638086e-01  4.330928e-04   \n",
       "std     1.204713e-02  3.258538e-01   1.867661e-01  2.080638e-02   \n",
       "min     0.000000e+00  0.000000e+00   0.000000e+00  0.000000e+00   \n",
       "25%     0.000000e+00  0.000000e+00   1.000000e+00  0.000000e+00   \n",
       "50%     0.000000e+00  0.000000e+00   1.000000e+00  0.000000e+00   \n",
       "75%     0.000000e+00  0.000000e+00   1.000000e+00  0.000000e+00   \n",
       "max     1.000000e+00  1.000000e+00   1.000000e+00  1.000000e+00   \n",
       "\n",
       "       went_on_backorder  \n",
       "count       1.687860e+06  \n",
       "mean        6.690721e-03  \n",
       "std         8.152275e-02  \n",
       "min         0.000000e+00  \n",
       "25%         0.000000e+00  \n",
       "50%         0.000000e+00  \n",
       "75%         0.000000e+00  \n",
       "max         1.000000e+00  \n",
       "\n",
       "[8 rows x 22 columns]"
      ]
     },
     "execution_count": 20,
     "metadata": {},
     "output_type": "execute_result"
    }
   ],
   "source": [
    "#data description\n",
    "train_data.describe()"
   ]
  },
  {
   "cell_type": "code",
   "execution_count": 21,
   "metadata": {},
   "outputs": [
    {
     "data": {
      "text/plain": [
       "0"
      ]
     },
     "execution_count": 21,
     "metadata": {},
     "output_type": "execute_result"
    }
   ],
   "source": [
    "#missing values in product\n",
    "train_data.sku.isnull().sum()"
   ]
  },
  {
   "cell_type": "code",
   "execution_count": 22,
   "metadata": {},
   "outputs": [
    {
     "data": {
      "text/plain": [
       "sku                       0\n",
       "national_inv              0\n",
       "lead_time            100893\n",
       "in_transit_qty            0\n",
       "forecast_3_month          0\n",
       "forecast_6_month          0\n",
       "forecast_9_month          0\n",
       "sales_1_month             0\n",
       "sales_3_month             0\n",
       "sales_6_month             0\n",
       "sales_9_month             0\n",
       "min_bank                  0\n",
       "potential_issue           0\n",
       "pieces_past_due           0\n",
       "perf_6_month_avg          0\n",
       "perf_12_month_avg         0\n",
       "local_bo_qty              0\n",
       "deck_risk                 0\n",
       "oe_constraint             0\n",
       "ppap_risk                 0\n",
       "stop_auto_buy             0\n",
       "rev_stop                  0\n",
       "went_on_backorder         0\n",
       "dtype: int64"
      ]
     },
     "execution_count": 22,
     "metadata": {},
     "output_type": "execute_result"
    }
   ],
   "source": [
    "#missing value \n",
    "train_data.isnull().sum()"
   ]
  },
  {
   "cell_type": "code",
   "execution_count": 23,
   "metadata": {},
   "outputs": [
    {
     "name": "stdout",
     "output_type": "stream",
     "text": [
      "0.6690720794378681 %\n"
     ]
    }
   ],
   "source": [
    "prob=len(train_data[train_data.went_on_backorder==1])/len(train_data.sku)\n",
    "print((prob*100),'%')\n"
   ]
  },
  {
   "cell_type": "markdown",
   "metadata": {},
   "source": [
    "check the missing data in lead time to replace it or not?\n",
    "1. Proportion of orders that “went_on_backorder” for missing lead_time records\n",
    "2. Proportion of orders that “went_on_backorder” for non-null lead_time records"
   ]
  },
  {
   "cell_type": "code",
   "execution_count": 24,
   "metadata": {},
   "outputs": [
    {
     "name": "stdout",
     "output_type": "stream",
     "text": [
      "0\n",
      "[-1 -2 -3 -4]\n"
     ]
    },
    {
     "data": {
      "text/plain": [
       "False"
      ]
     },
     "execution_count": 24,
     "metadata": {},
     "output_type": "execute_result"
    }
   ],
   "source": [
    "float('NaN')\n",
    "def my_tilde(x):\n",
    "    return -x - 1\n",
    "\n",
    "\n",
    "l = np.array([0, 1, 2, 3])\n",
    "print(l[0])\n",
    "print(~l)\n",
    "~np.isnan(float('NaN'))"
   ]
  },
  {
   "cell_type": "code",
   "execution_count": 25,
   "metadata": {},
   "outputs": [
    {
     "name": "stdout",
     "output_type": "stream",
     "text": [
      "100893\n",
      "1586967\n",
      "324\n",
      "10969\n",
      "Proportion of orders that “went_on_backorder” for no missing lead_time records: 0.691192696508\n",
      "Proportion of orders that “went_on_backorder” for missing lead_time records: 0.321132288662\n"
     ]
    }
   ],
   "source": [
    "n_null_leadTime = train_data[train_data['lead_time'].isnull()].shape[0]\n",
    "print(n_null_leadTime)\n",
    "n_non_null_leadTime = train_data[train_data['lead_time'].notnull()].shape[0]\n",
    "print(n_non_null_leadTime)\n",
    "n_null_leadTime_backorders =sum(train_data[np.isnan(train_data[\"lead_time\"])][\"went_on_backorder\"])\n",
    "print (n_null_leadTime_backorders)\n",
    "n_non_null_leadTime_backorders = sum(train_data[pd.notnull(train_data[\"lead_time\"])][\"went_on_backorder\"])\n",
    "print  (n_non_null_leadTime_backorders)\n",
    "\n",
    "null_leadTime_backorder_ratio = n_null_leadTime_backorders / float(n_null_leadTime)\n",
    "non_null_leadTime_backorder_ratio = n_non_null_leadTime_backorders / float(n_non_null_leadTime)\n",
    "print('Proportion of orders that “went_on_backorder” for no missing lead_time records:',non_null_leadTime_backorder_ratio * 100)\n",
    "print('Proportion of orders that “went_on_backorder” for missing lead_time records:', null_leadTime_backorder_ratio * 100)\n"
   ]
  },
  {
   "cell_type": "markdown",
   "metadata": {
    "collapsed": true
   },
   "source": [
    "Based on the proportion of orders for missing lead_time_ time of orders went backorder, we can see that the result is 50% less \n",
    "than proportion of lead time without missing values, and our total went backorder proportion is around 0.66 and it is close to \n",
    "proportion of orders that went back order for non missing values. \n",
    "Therefore ....\n",
    "below we can see the lead time plot and went_backorder type. from the plot we see that "
   ]
  },
  {
   "cell_type": "code",
   "execution_count": 28,
   "metadata": {
    "scrolled": true
   },
   "outputs": [
    {
     "data": {
      "image/png": "[encoded data removed]",
      "text/plain": [
       "<matplotlib.figure.Figure at 0x2b78f1582b0>"
      ]
     },
     "metadata": {},
     "output_type": "display_data"
    }
   ],
   "source": [
    "#coorelation between lead time and wen on backorder\n",
    "scores = train_data[['lead_time','went_on_backorder']]\n",
    "sns.countplot(x=\"lead_time\", hue=\"went_on_backorder\", data=scores, palette={1: \"r\", 0: \"g\"})\n",
    "plt.show()"
   ]
  },
  {
   "cell_type": "code",
   "execution_count": 243,
   "metadata": {
    "scrolled": true
   },
   "outputs": [
    {
     "name": "stdout",
     "output_type": "stream",
     "text": [
      "[[ 1.        -0.5420028]\n",
      " [-0.5420028  1.       ]]\n"
     ]
    },
    {
     "data": {
      "image/png": "[encoded data removed]",
      "text/plain": [
       "<matplotlib.figure.Figure at 0x2b780bbf9e8>"
      ]
     },
     "metadata": {},
     "output_type": "display_data"
    },
    {
     "name": "stdout",
     "output_type": "stream",
     "text": [
      "[1.5412425078489203, 1.0245938079797985, 1.2551528948501816, 0.36954339995487684, 1.2900024807740016, 1.006523765144455, 0.4784688995215311, 0.6954115153345275, 0.43348510703685433, 0.48618940248027059, 1.7367458866544789, 0.51276915373059584, 0.38852913968547642, 0.44599573395384917, 0.73452256033578167, 0.49756869840551843, 0.29231995748073347, 0.073058147643874735]\n"
     ]
    },
    {
     "data": {
      "text/html": [
       "<div>\n",
       "<style>\n",
       "    .dataframe thead tr:only-child th {\n",
       "        text-align: right;\n",
       "    }\n",
       "\n",
       "    .dataframe thead th {\n",
       "        text-align: left;\n",
       "    }\n",
       "\n",
       "    .dataframe tbody tr th {\n",
       "        vertical-align: top;\n",
       "    }\n",
       "</style>\n",
       "<table border=\"1\" class=\"dataframe\">\n",
       "  <thead>\n",
       "    <tr style=\"text-align: right;\">\n",
       "      <th></th>\n",
       "      <th>lead_b</th>\n",
       "      <th>lead_n</th>\n",
       "    </tr>\n",
       "  </thead>\n",
       "  <tbody>\n",
       "    <tr>\n",
       "      <th>0.0</th>\n",
       "      <td>162.0</td>\n",
       "      <td>10349</td>\n",
       "    </tr>\n",
       "    <tr>\n",
       "      <th>2.0</th>\n",
       "      <td>3457.0</td>\n",
       "      <td>333945</td>\n",
       "    </tr>\n",
       "    <tr>\n",
       "      <th>3.0</th>\n",
       "      <td>204.0</td>\n",
       "      <td>16049</td>\n",
       "    </tr>\n",
       "    <tr>\n",
       "      <th>4.0</th>\n",
       "      <td>475.0</td>\n",
       "      <td>128062</td>\n",
       "    </tr>\n",
       "    <tr>\n",
       "      <th>5.0</th>\n",
       "      <td>52.0</td>\n",
       "      <td>3979</td>\n",
       "    </tr>\n",
       "    <tr>\n",
       "      <th>6.0</th>\n",
       "      <td>54.0</td>\n",
       "      <td>5311</td>\n",
       "    </tr>\n",
       "    <tr>\n",
       "      <th>7.0</th>\n",
       "      <td>1.0</td>\n",
       "      <td>208</td>\n",
       "    </tr>\n",
       "    <tr>\n",
       "      <th>8.0</th>\n",
       "      <td>4744.0</td>\n",
       "      <td>677442</td>\n",
       "    </tr>\n",
       "    <tr>\n",
       "      <th>9.0</th>\n",
       "      <td>536.0</td>\n",
       "      <td>123113</td>\n",
       "    </tr>\n",
       "    <tr>\n",
       "      <th>10.0</th>\n",
       "      <td>69.0</td>\n",
       "      <td>14123</td>\n",
       "    </tr>\n",
       "    <tr>\n",
       "      <th>11.0</th>\n",
       "      <td>19.0</td>\n",
       "      <td>1075</td>\n",
       "    </tr>\n",
       "    <tr>\n",
       "      <th>12.0</th>\n",
       "      <td>1024.0</td>\n",
       "      <td>198676</td>\n",
       "    </tr>\n",
       "    <tr>\n",
       "      <th>13.0</th>\n",
       "      <td>21.0</td>\n",
       "      <td>5384</td>\n",
       "    </tr>\n",
       "    <tr>\n",
       "      <th>14.0</th>\n",
       "      <td>46.0</td>\n",
       "      <td>10268</td>\n",
       "    </tr>\n",
       "    <tr>\n",
       "      <th>15.0</th>\n",
       "      <td>28.0</td>\n",
       "      <td>3784</td>\n",
       "    </tr>\n",
       "    <tr>\n",
       "      <th>16.0</th>\n",
       "      <td>44.0</td>\n",
       "      <td>8799</td>\n",
       "    </tr>\n",
       "    <tr>\n",
       "      <th>17.0</th>\n",
       "      <td>11.0</td>\n",
       "      <td>3752</td>\n",
       "    </tr>\n",
       "    <tr>\n",
       "      <th>52.0</th>\n",
       "      <td>22.0</td>\n",
       "      <td>30091</td>\n",
       "    </tr>\n",
       "  </tbody>\n",
       "</table>\n",
       "</div>"
      ],
      "text/plain": [
       "      lead_b  lead_n\n",
       "0.0    162.0   10349\n",
       "2.0   3457.0  333945\n",
       "3.0    204.0   16049\n",
       "4.0    475.0  128062\n",
       "5.0     52.0    3979\n",
       "6.0     54.0    5311\n",
       "7.0      1.0     208\n",
       "8.0   4744.0  677442\n",
       "9.0    536.0  123113\n",
       "10.0    69.0   14123\n",
       "11.0    19.0    1075\n",
       "12.0  1024.0  198676\n",
       "13.0    21.0    5384\n",
       "14.0    46.0   10268\n",
       "15.0    28.0    3784\n",
       "16.0    44.0    8799\n",
       "17.0    11.0    3752\n",
       "52.0    22.0   30091"
      ]
     },
     "execution_count": 243,
     "metadata": {},
     "output_type": "execute_result"
    }
   ],
   "source": [
    "import decimal\n",
    "b=train_data[['went_on_backorder','lead_time']]\n",
    "backorder=b[b.went_on_backorder==1]\n",
    "no_backorder=b[b.went_on_backorder==0]\n",
    "lead_b=backorder.lead_time.value_counts()\n",
    "lead_n=no_backorder.lead_time.value_counts()\n",
    "c=[]\n",
    "df1 = pd.DataFrame(\n",
    "    {\n",
    "     'lead_b': lead_b,\n",
    "     'lead_n':lead_n\n",
    "    })\n",
    "\n",
    "df1=df1[['lead_b','lead_n']].dropna()\n",
    "\n",
    "\n",
    "for i in range(0,len(df1)):\n",
    "    backorder_ratio=(df1.lead_b.iloc[i])/(df1.lead_n.iloc[i]+df1.lead_b.iloc[i])\n",
    "    backorder_ratio=backorder_ratio*100\n",
    "    c.append(backorder_ratio)\n",
    "\n",
    "\n",
    "print(np.corrcoef(df1.index.values,c))\n",
    "\n",
    "plt.plot(df1.index.values,c,\"*\",color=\"blue\")\n",
    "plt.title('ratio of lead time(transit time for products)that went on backorder')\n",
    "#plt.plot(np.array(range(len(c))) * 0.25, c,\".\")\n",
    "plt.show()\n",
    "print(c)\n",
    "df1\n"
   ]
  },
  {
   "cell_type": "code",
   "execution_count": 328,
   "metadata": {},
   "outputs": [
    {
     "data": {
      "image/png": "[encoded data removed]",
      "text/plain": [
       "<matplotlib.figure.Figure at 0x2b786eb8048>"
      ]
     },
     "metadata": {},
     "output_type": "display_data"
    }
   ],
   "source": [
    "sales_data=train_data\n",
    "total_sales=(sales_data.sales_1_month+sales_data.sales_3_month+sales_data.sales_6_month+sales_data.sales_9_month)\n",
    "sales_data['total_sales']=total_sales\n",
    "reduced_data=sales_data.sort_values('total_sales',ascending = False)\n",
    "\n",
    "plt.plot(np.array(range(len(reduced_data))) * 0.28, reduced_data.total_sales,\".\",color=\"green\")\n",
    "plt.title('Total sales count')\n",
    "plt.show()\n"
   ]
  },
  {
   "cell_type": "code",
   "execution_count": 329,
   "metadata": {},
   "outputs": [
    {
     "name": "stdout",
     "output_type": "stream",
     "text": [
      "[[ 1.          0.79973589]\n",
      " [ 0.79973589  1.        ]]\n"
     ]
    },
    {
     "data": {
      "image/png": "[encoded data removed]",
      "text/plain": [
       "<matplotlib.figure.Figure at 0x2b7872659e8>"
      ]
     },
     "metadata": {},
     "output_type": "display_data"
    }
   ],
   "source": [
    "#correlation between sales and backorder\n",
    "\n",
    "sw=reduced_data[['went_on_backorder','total_sales']]\n",
    "backorder_sales=sw[sw.went_on_backorder==1]\n",
    "no_backorder_sales=sw[sw.went_on_backorder==0]\n",
    "sales_b=backorder_sales.total_sales.value_counts()\n",
    "sales_n=no_backorder_sales.total_sales.value_counts()\n",
    "g=[]\n",
    "df2 = pd.DataFrame(\n",
    "    {\n",
    "     'sales_b': sales_b,\n",
    "     'sales_n':sales_n\n",
    "    })\n",
    "\n",
    "df2=df2[['sales_b','sales_n']].dropna()\n",
    "\n",
    "\n",
    "for i in range(0,len(df2)):\n",
    "    backorder_ratio=(df2.sales_b.iloc[i])/(df2.sales_n.iloc[i]+df2.sales_b.iloc[i])\n",
    "    backorder_ratio=backorder_ratio*100\n",
    "    g.append(backorder_ratio)\n",
    "\n",
    "\n",
    "print(np.corrcoef(df2.index.values,g))\n",
    "plt.plot(np.array(range(len(g))) * 0.25, g,\".\",color='purple')\n",
    "plt.title('ratio of total sales count values that went on backorder')\n",
    "plt.xlabel('sales')\n",
    "plt.ylabel('ratio of sales went on backorder')\n",
    "plt.show()\n"
   ]
  },
  {
   "cell_type": "markdown",
   "metadata": {},
   "source": [
    "Data reduction by capture 60% of the total sales volume."
   ]
  },
  {
   "cell_type": "code",
   "execution_count": 395,
   "metadata": {},
   "outputs": [
    {
     "name": "stdout",
     "output_type": "stream",
     "text": [
      "1846561168.0\n",
      "1107936700.8\n"
     ]
    },
    {
     "data": {
      "image/png": "[encoded data removed]",
      "text/plain": [
       "<matplotlib.figure.Figure at 0x2b7820a52e8>"
      ]
     },
     "metadata": {},
     "output_type": "display_data"
    }
   ],
   "source": [
    "sales_volume =np.cumsum(sample_data.total_sales)\n",
    "print(sales_volume[len(sales_volume)-1])\n",
    "print(0.6 * sales_volume[len(sales_volume)-1])\n",
    "plt.plot(np.array(range(len(sample_data))) * 0.28, sales_volume,\".\",color=\"orange\")\n",
    "plt.title('Total sales volume')\n",
    "\n",
    "plt.show()"
   ]
  },
  {
   "cell_type": "code",
   "execution_count": 400,
   "metadata": {},
   "outputs": [
    {
     "name": "stdout",
     "output_type": "stream",
     "text": [
      "1107936700.8\n",
      "1846561168.0\n"
     ]
    },
    {
     "data": {
      "image/png": "[encoded data removed]",
      "text/plain": [
       "<matplotlib.figure.Figure at 0x2b786bf1160>"
      ]
     },
     "metadata": {},
     "output_type": "display_data"
    },
    {
     "name": "stdout",
     "output_type": "stream",
     "text": [
      "<class 'pandas.core.frame.DataFrame'>\n",
      "Int64Index: 7509 entries, 1416050 to 210101\n",
      "Data columns (total 25 columns):\n",
      "sku                  7509 non-null object\n",
      "national_inv         7509 non-null float64\n",
      "lead_time            7327 non-null float64\n",
      "in_transit_qty       7509 non-null float64\n",
      "forecast_3_month     7509 non-null float64\n",
      "forecast_6_month     7509 non-null float64\n",
      "forecast_9_month     7509 non-null float64\n",
      "sales_1_month        7509 non-null float64\n",
      "sales_3_month        7509 non-null float64\n",
      "sales_6_month        7509 non-null float64\n",
      "sales_9_month        7509 non-null float64\n",
      "min_bank             7509 non-null float64\n",
      "potential_issue      7509 non-null int64\n",
      "pieces_past_due      7509 non-null float64\n",
      "perf_6_month_avg     7509 non-null float64\n",
      "perf_12_month_avg    7509 non-null float64\n",
      "local_bo_qty         7509 non-null float64\n",
      "deck_risk            7509 non-null int64\n",
      "oe_constraint        7509 non-null int64\n",
      "ppap_risk            7509 non-null int64\n",
      "stop_auto_buy        7509 non-null int64\n",
      "rev_stop             7509 non-null int64\n",
      "went_on_backorder    7509 non-null int64\n",
      "total_sales          7509 non-null float64\n",
      "sales_volume         7509 non-null float64\n",
      "dtypes: float64(17), int64(7), object(1)\n",
      "memory usage: 1.5+ MB\n"
     ]
    }
   ],
   "source": [
    "a=sample_data\n",
    "volume_perc=0.6 * sales_volume[len(sales_volume)-1]\n",
    "print(volume_perc)\n",
    "print(sales_volume[len(sales_volume)-1])\n",
    "a['sales_volume']=sales_volume\n",
    "\n",
    "a=a.sort_values('sales_volume',ascending = True)\n",
    "a=a[a['sales_volume']<=volume_perc]\n",
    "\n",
    "a=a.sort_values('total_sales',ascending = False)\n",
    "plt.plot(np.array(range(len(a))) * 0.28, a.total_sales,\".\",color=\"green\")\n",
    "plt.title('Total sales count')\n",
    "plt.show()\n",
    "a.info()"
   ]
  },
  {
   "cell_type": "markdown",
   "metadata": {},
   "source": [
    "So with capturing 60 % total sales volume ,data is reduced to 7509 rows."
   ]
  },
  {
   "cell_type": "code",
   "execution_count": 303,
   "metadata": {},
   "outputs": [
    {
     "name": "stdout",
     "output_type": "stream",
     "text": [
      "x= [-1.  -0.5  0.   0.5]\n",
      "f =  [ 0.         0.8660254  1.         0.8660254]\n",
      "cumsum =  [ 0.          0.8660254   1.8660254   2.73205081]\n",
      "2.73205080757\n",
      "2.18564064606\n"
     ]
    }
   ],
   "source": [
    "dx = 0.5\n",
    "x=np.arange(-1, 1, dx)\n",
    "f = np.sqrt(1 - x * x)\n",
    "print('x=', x)\n",
    "print('f = ', f)\n",
    "print('cumsum = ', np.cumsum(f))\n",
    "print(np.cumsum(f)[len(x) - 1])\n",
    "print(0.8 * np.cumsum(f)[len(x) - 1])"
   ]
  },
  {
   "cell_type": "code",
   "execution_count": 295,
   "metadata": {},
   "outputs": [
    {
     "name": "stdout",
     "output_type": "stream",
     "text": [
      "50.2466725085\n"
     ]
    },
    {
     "data": {
      "image/png": "[encoded data removed]",
      "text/plain": [
       "<matplotlib.figure.Figure at 0x2b7886ad198>"
      ]
     },
     "metadata": {},
     "output_type": "display_data"
    }
   ],
   "source": [
    "x=np.arange(-1, 1, 0.01)\n",
    "plt.plot(x, np.sqrt(1 - x * x),\".\",color=\"green\")\n",
    "plt.plot(x, np.cumsum(np.sqrt(1 - x * x))*0.01,\".\",color=\"green\")\n",
    "circle=np.cumsum(np.sqrt(1 - x * x))\n",
    "print (0.32 * circle[len(circle)-1])\n",
    "plt.show()"
   ]
  },
  {
   "cell_type": "code",
   "execution_count": 234,
   "metadata": {
    "collapsed": true
   },
   "outputs": [],
   "source": [
    "sample_data=reduced_data.drop('total_sales', 1)"
   ]
  },
  {
   "cell_type": "markdown",
   "metadata": {},
   "source": [
    "How common are backorders? Given that, how likely are backorders based on the part risk flags? \n",
    "And how prevalent are they? \n",
    "What is the relationship between \"potential_issue\" and \"pieces_past_due\" are each represented by part \n",
    "risk flags or are they unrelated concepts? What's the relationship between lead time and back orders? \n",
    "Based on the answers to these questions you could recommend: What aspects of the supply chain present the biggest risks? \n",
    "Based on the risks, what would you recommend improving first?\n",
    "    \n",
    "potential_issue - Source issue for part identified\n",
    "\n",
    "pieces_past_due - Parts overdue from source\n",
    "\n",
    "local_bo_qty - Amount of stock orders overdue\n",
    "\n",
    "deck_risk - Part risk flag\n",
    "\n",
    "oe_constraint - Part risk flag\n",
    "\n",
    "ppap_risk - Part risk flag"
   ]
  },
  {
   "cell_type": "code",
   "execution_count": 235,
   "metadata": {},
   "outputs": [
    {
     "name": "stdout",
     "output_type": "stream",
     "text": [
      "[[ 1.          0.00331913]\n",
      " [ 0.00331913  1.        ]]\n"
     ]
    }
   ],
   "source": [
    "print(np.corrcoef(sample_data.potential_issue,sample_data.pieces_past_due))"
   ]
  },
  {
   "cell_type": "code",
   "execution_count": null,
   "metadata": {
    "collapsed": true
   },
   "outputs": [],
   "source": []
  },
  {
   "cell_type": "code",
   "execution_count": null,
   "metadata": {
    "collapsed": true
   },
   "outputs": [],
   "source": []
  },
  {
   "cell_type": "code",
   "execution_count": 220,
   "metadata": {},
   "outputs": [
    {
     "ename": "KeyError",
     "evalue": "'loc.32al_bo_qty'",
     "output_type": "error",
     "traceback": [
      "\u001b[1;31m---------------------------------------------------------------------------\u001b[0m",
      "\u001b[1;31mKeyError\u001b[0m                                  Traceback (most recent call last)",
      "\u001b[1;32mC:\\Users\\Hedi\\Anaconda3\\lib\\site-packages\\pandas\\core\\indexes\\base.py\u001b[0m in \u001b[0;36mget_loc\u001b[1;34m(self, key, method, tolerance)\u001b[0m\n\u001b[0;32m   2392\u001b[0m             \u001b[1;32mtry\u001b[0m\u001b[1;33m:\u001b[0m\u001b[1;33m\u001b[0m\u001b[0m\n\u001b[1;32m-> 2393\u001b[1;33m                 \u001b[1;32mreturn\u001b[0m \u001b[0mself\u001b[0m\u001b[1;33m.\u001b[0m\u001b[0m_engine\u001b[0m\u001b[1;33m.\u001b[0m\u001b[0mget_loc\u001b[0m\u001b[1;33m(\u001b[0m\u001b[0mkey\u001b[0m\u001b[1;33m)\u001b[0m\u001b[1;33m\u001b[0m\u001b[0m\n\u001b[0m\u001b[0;32m   2394\u001b[0m             \u001b[1;32mexcept\u001b[0m \u001b[0mKeyError\u001b[0m\u001b[1;33m:\u001b[0m\u001b[1;33m\u001b[0m\u001b[0m\n",
      "\u001b[1;32mpandas\\_libs\\index.pyx\u001b[0m in \u001b[0;36mpandas._libs.index.IndexEngine.get_loc (pandas\\_libs\\index.c:5239)\u001b[1;34m()\u001b[0m\n",
      "\u001b[1;32mpandas\\_libs\\index.pyx\u001b[0m in \u001b[0;36mpandas._libs.index.IndexEngine.get_loc (pandas\\_libs\\index.c:5085)\u001b[1;34m()\u001b[0m\n",
      "\u001b[1;32mpandas\\_libs\\hashtable_class_helper.pxi\u001b[0m in \u001b[0;36mpandas._libs.hashtable.PyObjectHashTable.get_item (pandas\\_libs\\hashtable.c:20405)\u001b[1;34m()\u001b[0m\n",
      "\u001b[1;32mpandas\\_libs\\hashtable_class_helper.pxi\u001b[0m in \u001b[0;36mpandas._libs.hashtable.PyObjectHashTable.get_item (pandas\\_libs\\hashtable.c:20359)\u001b[1;34m()\u001b[0m\n",
      "\u001b[1;31mKeyError\u001b[0m: 'loc.32al_bo_qty'",
      "\nDuring handling of the above exception, another exception occurred:\n",
      "\u001b[1;31mKeyError\u001b[0m                                  Traceback (most recent call last)",
      "\u001b[1;32m<ipython-input-220-7199795b022d>\u001b[0m in \u001b[0;36m<module>\u001b[1;34m()\u001b[0m\n\u001b[0;32m     14\u001b[0m                    'sales_3_month', 'sales_6_month', 'sales_9_month']\n\u001b[0;32m     15\u001b[0m \u001b[1;32mfor\u001b[0m \u001b[0mcol\u001b[0m \u001b[1;32min\u001b[0m \u001b[0mnorm_col\u001b[0m\u001b[1;33m:\u001b[0m\u001b[1;33m\u001b[0m\u001b[0m\n\u001b[1;32m---> 16\u001b[1;33m     \u001b[0msample_data\u001b[0m\u001b[1;33m[\u001b[0m\u001b[0mcol\u001b[0m\u001b[1;33m]\u001b[0m \u001b[1;33m=\u001b[0m \u001b[0mpreprocessing\u001b[0m\u001b[1;33m.\u001b[0m\u001b[0mscale\u001b[0m\u001b[1;33m(\u001b[0m\u001b[0mboxcox\u001b[0m\u001b[1;33m(\u001b[0m\u001b[0msample_data\u001b[0m\u001b[1;33m[\u001b[0m\u001b[0mcol\u001b[0m\u001b[1;33m]\u001b[0m\u001b[1;33m+\u001b[0m\u001b[1;36m1\u001b[0m\u001b[1;33m)\u001b[0m\u001b[1;33m[\u001b[0m\u001b[1;36m0\u001b[0m\u001b[1;33m]\u001b[0m\u001b[1;33m)\u001b[0m\u001b[1;33m\u001b[0m\u001b[0m\n\u001b[0m\u001b[0;32m     17\u001b[0m \u001b[1;33m\u001b[0m\u001b[0m\n\u001b[0;32m     18\u001b[0m \u001b[0mfig\u001b[0m\u001b[1;33m,\u001b[0m \u001b[1;33m(\u001b[0m\u001b[0max1\u001b[0m\u001b[1;33m,\u001b[0m \u001b[0max2\u001b[0m\u001b[1;33m)\u001b[0m \u001b[1;33m=\u001b[0m \u001b[0mplt\u001b[0m\u001b[1;33m.\u001b[0m\u001b[0msubplots\u001b[0m\u001b[1;33m(\u001b[0m\u001b[1;36m1\u001b[0m\u001b[1;33m,\u001b[0m\u001b[1;36m2\u001b[0m\u001b[1;33m,\u001b[0m \u001b[0mfigsize\u001b[0m\u001b[1;33m=\u001b[0m\u001b[1;33m(\u001b[0m\u001b[1;36m8\u001b[0m\u001b[1;33m,\u001b[0m\u001b[1;36m4\u001b[0m\u001b[1;33m)\u001b[0m\u001b[1;33m)\u001b[0m\u001b[1;33m\u001b[0m\u001b[0m\n",
      "\u001b[1;32mC:\\Users\\Hedi\\Anaconda3\\lib\\site-packages\\pandas\\core\\frame.py\u001b[0m in \u001b[0;36m__getitem__\u001b[1;34m(self, key)\u001b[0m\n\u001b[0;32m   2060\u001b[0m             \u001b[1;32mreturn\u001b[0m \u001b[0mself\u001b[0m\u001b[1;33m.\u001b[0m\u001b[0m_getitem_multilevel\u001b[0m\u001b[1;33m(\u001b[0m\u001b[0mkey\u001b[0m\u001b[1;33m)\u001b[0m\u001b[1;33m\u001b[0m\u001b[0m\n\u001b[0;32m   2061\u001b[0m         \u001b[1;32melse\u001b[0m\u001b[1;33m:\u001b[0m\u001b[1;33m\u001b[0m\u001b[0m\n\u001b[1;32m-> 2062\u001b[1;33m             \u001b[1;32mreturn\u001b[0m \u001b[0mself\u001b[0m\u001b[1;33m.\u001b[0m\u001b[0m_getitem_column\u001b[0m\u001b[1;33m(\u001b[0m\u001b[0mkey\u001b[0m\u001b[1;33m)\u001b[0m\u001b[1;33m\u001b[0m\u001b[0m\n\u001b[0m\u001b[0;32m   2063\u001b[0m \u001b[1;33m\u001b[0m\u001b[0m\n\u001b[0;32m   2064\u001b[0m     \u001b[1;32mdef\u001b[0m \u001b[0m_getitem_column\u001b[0m\u001b[1;33m(\u001b[0m\u001b[0mself\u001b[0m\u001b[1;33m,\u001b[0m \u001b[0mkey\u001b[0m\u001b[1;33m)\u001b[0m\u001b[1;33m:\u001b[0m\u001b[1;33m\u001b[0m\u001b[0m\n",
      "\u001b[1;32mC:\\Users\\Hedi\\Anaconda3\\lib\\site-packages\\pandas\\core\\frame.py\u001b[0m in \u001b[0;36m_getitem_column\u001b[1;34m(self, key)\u001b[0m\n\u001b[0;32m   2067\u001b[0m         \u001b[1;31m# get column\u001b[0m\u001b[1;33m\u001b[0m\u001b[1;33m\u001b[0m\u001b[0m\n\u001b[0;32m   2068\u001b[0m         \u001b[1;32mif\u001b[0m \u001b[0mself\u001b[0m\u001b[1;33m.\u001b[0m\u001b[0mcolumns\u001b[0m\u001b[1;33m.\u001b[0m\u001b[0mis_unique\u001b[0m\u001b[1;33m:\u001b[0m\u001b[1;33m\u001b[0m\u001b[0m\n\u001b[1;32m-> 2069\u001b[1;33m             \u001b[1;32mreturn\u001b[0m \u001b[0mself\u001b[0m\u001b[1;33m.\u001b[0m\u001b[0m_get_item_cache\u001b[0m\u001b[1;33m(\u001b[0m\u001b[0mkey\u001b[0m\u001b[1;33m)\u001b[0m\u001b[1;33m\u001b[0m\u001b[0m\n\u001b[0m\u001b[0;32m   2070\u001b[0m \u001b[1;33m\u001b[0m\u001b[0m\n\u001b[0;32m   2071\u001b[0m         \u001b[1;31m# duplicate columns & possible reduce dimensionality\u001b[0m\u001b[1;33m\u001b[0m\u001b[1;33m\u001b[0m\u001b[0m\n",
      "\u001b[1;32mC:\\Users\\Hedi\\Anaconda3\\lib\\site-packages\\pandas\\core\\generic.py\u001b[0m in \u001b[0;36m_get_item_cache\u001b[1;34m(self, item)\u001b[0m\n\u001b[0;32m   1532\u001b[0m         \u001b[0mres\u001b[0m \u001b[1;33m=\u001b[0m \u001b[0mcache\u001b[0m\u001b[1;33m.\u001b[0m\u001b[0mget\u001b[0m\u001b[1;33m(\u001b[0m\u001b[0mitem\u001b[0m\u001b[1;33m)\u001b[0m\u001b[1;33m\u001b[0m\u001b[0m\n\u001b[0;32m   1533\u001b[0m         \u001b[1;32mif\u001b[0m \u001b[0mres\u001b[0m \u001b[1;32mis\u001b[0m \u001b[1;32mNone\u001b[0m\u001b[1;33m:\u001b[0m\u001b[1;33m\u001b[0m\u001b[0m\n\u001b[1;32m-> 1534\u001b[1;33m             \u001b[0mvalues\u001b[0m \u001b[1;33m=\u001b[0m \u001b[0mself\u001b[0m\u001b[1;33m.\u001b[0m\u001b[0m_data\u001b[0m\u001b[1;33m.\u001b[0m\u001b[0mget\u001b[0m\u001b[1;33m(\u001b[0m\u001b[0mitem\u001b[0m\u001b[1;33m)\u001b[0m\u001b[1;33m\u001b[0m\u001b[0m\n\u001b[0m\u001b[0;32m   1535\u001b[0m             \u001b[0mres\u001b[0m \u001b[1;33m=\u001b[0m \u001b[0mself\u001b[0m\u001b[1;33m.\u001b[0m\u001b[0m_box_item_values\u001b[0m\u001b[1;33m(\u001b[0m\u001b[0mitem\u001b[0m\u001b[1;33m,\u001b[0m \u001b[0mvalues\u001b[0m\u001b[1;33m)\u001b[0m\u001b[1;33m\u001b[0m\u001b[0m\n\u001b[0;32m   1536\u001b[0m             \u001b[0mcache\u001b[0m\u001b[1;33m[\u001b[0m\u001b[0mitem\u001b[0m\u001b[1;33m]\u001b[0m \u001b[1;33m=\u001b[0m \u001b[0mres\u001b[0m\u001b[1;33m\u001b[0m\u001b[0m\n",
      "\u001b[1;32mC:\\Users\\Hedi\\Anaconda3\\lib\\site-packages\\pandas\\core\\internals.py\u001b[0m in \u001b[0;36mget\u001b[1;34m(self, item, fastpath)\u001b[0m\n\u001b[0;32m   3588\u001b[0m \u001b[1;33m\u001b[0m\u001b[0m\n\u001b[0;32m   3589\u001b[0m             \u001b[1;32mif\u001b[0m \u001b[1;32mnot\u001b[0m \u001b[0misnull\u001b[0m\u001b[1;33m(\u001b[0m\u001b[0mitem\u001b[0m\u001b[1;33m)\u001b[0m\u001b[1;33m:\u001b[0m\u001b[1;33m\u001b[0m\u001b[0m\n\u001b[1;32m-> 3590\u001b[1;33m                 \u001b[0mloc\u001b[0m \u001b[1;33m=\u001b[0m \u001b[0mself\u001b[0m\u001b[1;33m.\u001b[0m\u001b[0mitems\u001b[0m\u001b[1;33m.\u001b[0m\u001b[0mget_loc\u001b[0m\u001b[1;33m(\u001b[0m\u001b[0mitem\u001b[0m\u001b[1;33m)\u001b[0m\u001b[1;33m\u001b[0m\u001b[0m\n\u001b[0m\u001b[0;32m   3591\u001b[0m             \u001b[1;32melse\u001b[0m\u001b[1;33m:\u001b[0m\u001b[1;33m\u001b[0m\u001b[0m\n\u001b[0;32m   3592\u001b[0m                 \u001b[0mindexer\u001b[0m \u001b[1;33m=\u001b[0m \u001b[0mnp\u001b[0m\u001b[1;33m.\u001b[0m\u001b[0marange\u001b[0m\u001b[1;33m(\u001b[0m\u001b[0mlen\u001b[0m\u001b[1;33m(\u001b[0m\u001b[0mself\u001b[0m\u001b[1;33m.\u001b[0m\u001b[0mitems\u001b[0m\u001b[1;33m)\u001b[0m\u001b[1;33m)\u001b[0m\u001b[1;33m[\u001b[0m\u001b[0misnull\u001b[0m\u001b[1;33m(\u001b[0m\u001b[0mself\u001b[0m\u001b[1;33m.\u001b[0m\u001b[0mitems\u001b[0m\u001b[1;33m)\u001b[0m\u001b[1;33m]\u001b[0m\u001b[1;33m\u001b[0m\u001b[0m\n",
      "\u001b[1;32mC:\\Users\\Hedi\\Anaconda3\\lib\\site-packages\\pandas\\core\\indexes\\base.py\u001b[0m in \u001b[0;36mget_loc\u001b[1;34m(self, key, method, tolerance)\u001b[0m\n\u001b[0;32m   2393\u001b[0m                 \u001b[1;32mreturn\u001b[0m \u001b[0mself\u001b[0m\u001b[1;33m.\u001b[0m\u001b[0m_engine\u001b[0m\u001b[1;33m.\u001b[0m\u001b[0mget_loc\u001b[0m\u001b[1;33m(\u001b[0m\u001b[0mkey\u001b[0m\u001b[1;33m)\u001b[0m\u001b[1;33m\u001b[0m\u001b[0m\n\u001b[0;32m   2394\u001b[0m             \u001b[1;32mexcept\u001b[0m \u001b[0mKeyError\u001b[0m\u001b[1;33m:\u001b[0m\u001b[1;33m\u001b[0m\u001b[0m\n\u001b[1;32m-> 2395\u001b[1;33m                 \u001b[1;32mreturn\u001b[0m \u001b[0mself\u001b[0m\u001b[1;33m.\u001b[0m\u001b[0m_engine\u001b[0m\u001b[1;33m.\u001b[0m\u001b[0mget_loc\u001b[0m\u001b[1;33m(\u001b[0m\u001b[0mself\u001b[0m\u001b[1;33m.\u001b[0m\u001b[0m_maybe_cast_indexer\u001b[0m\u001b[1;33m(\u001b[0m\u001b[0mkey\u001b[0m\u001b[1;33m)\u001b[0m\u001b[1;33m)\u001b[0m\u001b[1;33m\u001b[0m\u001b[0m\n\u001b[0m\u001b[0;32m   2396\u001b[0m \u001b[1;33m\u001b[0m\u001b[0m\n\u001b[0;32m   2397\u001b[0m         \u001b[0mindexer\u001b[0m \u001b[1;33m=\u001b[0m \u001b[0mself\u001b[0m\u001b[1;33m.\u001b[0m\u001b[0mget_indexer\u001b[0m\u001b[1;33m(\u001b[0m\u001b[1;33m[\u001b[0m\u001b[0mkey\u001b[0m\u001b[1;33m]\u001b[0m\u001b[1;33m,\u001b[0m \u001b[0mmethod\u001b[0m\u001b[1;33m=\u001b[0m\u001b[0mmethod\u001b[0m\u001b[1;33m,\u001b[0m \u001b[0mtolerance\u001b[0m\u001b[1;33m=\u001b[0m\u001b[0mtolerance\u001b[0m\u001b[1;33m)\u001b[0m\u001b[1;33m\u001b[0m\u001b[0m\n",
      "\u001b[1;32mpandas\\_libs\\index.pyx\u001b[0m in \u001b[0;36mpandas._libs.index.IndexEngine.get_loc (pandas\\_libs\\index.c:5239)\u001b[1;34m()\u001b[0m\n",
      "\u001b[1;32mpandas\\_libs\\index.pyx\u001b[0m in \u001b[0;36mpandas._libs.index.IndexEngine.get_loc (pandas\\_libs\\index.c:5085)\u001b[1;34m()\u001b[0m\n",
      "\u001b[1;32mpandas\\_libs\\hashtable_class_helper.pxi\u001b[0m in \u001b[0;36mpandas._libs.hashtable.PyObjectHashTable.get_item (pandas\\_libs\\hashtable.c:20405)\u001b[1;34m()\u001b[0m\n",
      "\u001b[1;32mpandas\\_libs\\hashtable_class_helper.pxi\u001b[0m in \u001b[0;36mpandas._libs.hashtable.PyObjectHashTable.get_item (pandas\\_libs\\hashtable.c:20359)\u001b[1;34m()\u001b[0m\n",
      "\u001b[1;31mKeyError\u001b[0m: 'loc.32al_bo_qty'"
     ]
    }
   ],
   "source": [
    "from scipy.stats import boxcox\n",
    "from sklearn import preprocessing\n",
    "from scipy.stats import skew\n",
    "from scipy.stats import boxcox\n",
    "\n",
    "#The next line uses scale method from scikit-learn to transform the distribution \n",
    "#This will not impact Skewness Statistic calculation\n",
    "#We have included this for sake of completion\n",
    "#Note that we changed the following line to process the square roots instead of actuals\n",
    "\n",
    "norm_col=['forecast_3_month', \n",
    "                   'forecast_6_month', 'forecast_9_month', 'min_bank',\n",
    "                   'loc.32al_bo_qty', 'pieces_past_due', 'sales_1_month', \n",
    "                   'sales_3_month', 'sales_6_month', 'sales_9_month']\n",
    "for col in norm_col:\n",
    "    sample_data[col] = preprocessing.scale(boxcox(sample_data[col]+1)[0])\n",
    "\n",
    "fig, (ax1, ax2) = plt.subplots(1,2, figsize=(8,4))\n",
    "sample_data.hist(figsize=(12,12), alpha=0.75,color='green', grid=False)\n",
    "plt.show()"
   ]
  },
  {
   "cell_type": "code",
   "execution_count": 221,
   "metadata": {},
   "outputs": [
    {
     "name": "stdout",
     "output_type": "stream",
     "text": [
      "[[ 1.        -0.4188246]\n",
      " [-0.4188246  1.       ]]\n"
     ]
    },
    {
     "data": {
      "image/png": "[encoded data removed]",
      "text/plain": [
       "<matplotlib.figure.Figure at 0x2b781e98b38>"
      ]
     },
     "metadata": {},
     "output_type": "display_data"
    },
    {
     "name": "stdout",
     "output_type": "stream",
     "text": [
      "[3.0406852248394003, 0.77932312721647379, 1.144492131616595, 0.27033876826898706, 0.19782393669634024, 1.2917115177610334, 0.70328867374141579, 0.48211781206171106, 0.4330566582461205, 1.8796992481203008, 0.9036019154694982, 0.80285459411239968, 0.5008347245409015, 1.1351909184726523, 0.67114093959731547, 0.11210762331838565, 0.028935185185185182]\n"
     ]
    },
    {
     "data": {
      "text/html": [
       "<div>\n",
       "<style>\n",
       "    .dataframe thead tr:only-child th {\n",
       "        text-align: right;\n",
       "    }\n",
       "\n",
       "    .dataframe thead th {\n",
       "        text-align: left;\n",
       "    }\n",
       "\n",
       "    .dataframe tbody tr th {\n",
       "        vertical-align: top;\n",
       "    }\n",
       "</style>\n",
       "<table border=\"1\" class=\"dataframe\">\n",
       "  <thead>\n",
       "    <tr style=\"text-align: right;\">\n",
       "      <th></th>\n",
       "      <th>lead_b</th>\n",
       "      <th>lead_n</th>\n",
       "    </tr>\n",
       "  </thead>\n",
       "  <tbody>\n",
       "    <tr>\n",
       "      <th>0.0</th>\n",
       "      <td>71.0</td>\n",
       "      <td>2264</td>\n",
       "    </tr>\n",
       "    <tr>\n",
       "      <th>2.0</th>\n",
       "      <td>534.0</td>\n",
       "      <td>67987</td>\n",
       "    </tr>\n",
       "    <tr>\n",
       "      <th>3.0</th>\n",
       "      <td>32.0</td>\n",
       "      <td>2764</td>\n",
       "    </tr>\n",
       "    <tr>\n",
       "      <th>4.0</th>\n",
       "      <td>64.0</td>\n",
       "      <td>23610</td>\n",
       "    </tr>\n",
       "    <tr>\n",
       "      <th>5.0</th>\n",
       "      <td>4.0</td>\n",
       "      <td>2018</td>\n",
       "    </tr>\n",
       "    <tr>\n",
       "      <th>6.0</th>\n",
       "      <td>24.0</td>\n",
       "      <td>1834</td>\n",
       "    </tr>\n",
       "    <tr>\n",
       "      <th>8.0</th>\n",
       "      <td>1232.0</td>\n",
       "      <td>173945</td>\n",
       "    </tr>\n",
       "    <tr>\n",
       "      <th>9.0</th>\n",
       "      <td>55.0</td>\n",
       "      <td>11353</td>\n",
       "    </tr>\n",
       "    <tr>\n",
       "      <th>10.0</th>\n",
       "      <td>12.0</td>\n",
       "      <td>2759</td>\n",
       "    </tr>\n",
       "    <tr>\n",
       "      <th>11.0</th>\n",
       "      <td>10.0</td>\n",
       "      <td>522</td>\n",
       "    </tr>\n",
       "    <tr>\n",
       "      <th>12.0</th>\n",
       "      <td>217.0</td>\n",
       "      <td>23798</td>\n",
       "    </tr>\n",
       "    <tr>\n",
       "      <th>13.0</th>\n",
       "      <td>9.0</td>\n",
       "      <td>1112</td>\n",
       "    </tr>\n",
       "    <tr>\n",
       "      <th>14.0</th>\n",
       "      <td>12.0</td>\n",
       "      <td>2384</td>\n",
       "    </tr>\n",
       "    <tr>\n",
       "      <th>15.0</th>\n",
       "      <td>11.0</td>\n",
       "      <td>958</td>\n",
       "    </tr>\n",
       "    <tr>\n",
       "      <th>16.0</th>\n",
       "      <td>17.0</td>\n",
       "      <td>2516</td>\n",
       "    </tr>\n",
       "    <tr>\n",
       "      <th>17.0</th>\n",
       "      <td>1.0</td>\n",
       "      <td>891</td>\n",
       "    </tr>\n",
       "    <tr>\n",
       "      <th>52.0</th>\n",
       "      <td>1.0</td>\n",
       "      <td>3455</td>\n",
       "    </tr>\n",
       "  </tbody>\n",
       "</table>\n",
       "</div>"
      ],
      "text/plain": [
       "      lead_b  lead_n\n",
       "0.0     71.0    2264\n",
       "2.0    534.0   67987\n",
       "3.0     32.0    2764\n",
       "4.0     64.0   23610\n",
       "5.0      4.0    2018\n",
       "6.0     24.0    1834\n",
       "8.0   1232.0  173945\n",
       "9.0     55.0   11353\n",
       "10.0    12.0    2759\n",
       "11.0    10.0     522\n",
       "12.0   217.0   23798\n",
       "13.0     9.0    1112\n",
       "14.0    12.0    2384\n",
       "15.0    11.0     958\n",
       "16.0    17.0    2516\n",
       "17.0     1.0     891\n",
       "52.0     1.0    3455"
      ]
     },
     "execution_count": 221,
     "metadata": {},
     "output_type": "execute_result"
    }
   ],
   "source": [
    "import decimal\n",
    "d=sample_data[['went_on_backorder','lead_time']]\n",
    "backorder=d[d.went_on_backorder==1]\n",
    "no_backorder=d[d.went_on_backorder==0]\n",
    "lead_b=backorder.lead_time.value_counts()\n",
    "lead_n=no_backorder.lead_time.value_counts()\n",
    "g=[]\n",
    "df1 = pd.DataFrame(\n",
    "    {\n",
    "     'lead_b': lead_b,\n",
    "     'lead_n':lead_n\n",
    "    })\n",
    "\n",
    "df1=df1[['lead_b','lead_n']].dropna()\n",
    "\n",
    "\n",
    "for i in range(0,len(df1)):\n",
    "    backorder_ratio=(df1.lead_b.iloc[i])/(df1.lead_n.iloc[i]+df1.lead_b.iloc[i])\n",
    "    backorder_ratio=backorder_ratio*100\n",
    "    g.append(backorder_ratio)\n",
    "\n",
    "print(np.corrcoef(df1.index.values,g))\n",
    "\n",
    "plt.plot(df1.index.values,g,\"*\")\n",
    "#plt.plot(np.array(range(len(c))) * 0.25, c,\".\")\n",
    "plt.show()\n",
    "print(g)\n",
    "df1"
   ]
  },
  {
   "cell_type": "code",
   "execution_count": null,
   "metadata": {
    "collapsed": true
   },
   "outputs": [],
   "source": []
  },
  {
   "cell_type": "code",
   "execution_count": null,
   "metadata": {
    "collapsed": true
   },
   "outputs": [],
   "source": []
  },
  {
   "cell_type": "code",
   "execution_count": null,
   "metadata": {
    "collapsed": true
   },
   "outputs": [],
   "source": []
  },
  {
   "cell_type": "code",
   "execution_count": null,
   "metadata": {
    "collapsed": true
   },
   "outputs": [],
   "source": []
  },
  {
   "cell_type": "code",
   "execution_count": null,
   "metadata": {
    "collapsed": true
   },
   "outputs": [],
   "source": []
  },
  {
   "cell_type": "code",
   "execution_count": 14,
   "metadata": {},
   "outputs": [
    {
     "data": {
      "image/png": "[encoded data removed]",
      "text/plain": [
       "<matplotlib.figure.Figure at 0x1b0816b4da0>"
      ]
     },
     "metadata": {},
     "output_type": "display_data"
    }
   ],
   "source": [
    "weeksdist=reduced_data['lead_time'].value_counts().sort_index()\n",
    "weeksdist.plot(kind='bar')\n",
    "_=plt.xlabel('weeks of the year')\n",
    "_=plt.ylabel('Transit time for product')\n",
    "_=plt.xticks([0,1,2,3,4,5,6,7,8,9,10,11,12,13,14,15,16,17,18,19,20,21,22,23,24,25,26,27,28,29,30,31,32,33,34,35,36,37,38,39,40,41,42,43,44,45,46,47,48,49,50,51,52])\n",
    "plt.title('weeklyy transit time Volume')\n",
    "plt.show()"
   ]
  },
  {
   "cell_type": "code",
   "execution_count": 15,
   "metadata": {},
   "outputs": [
    {
     "data": {
      "text/plain": [
       "8.0"
      ]
     },
     "execution_count": 15,
     "metadata": {},
     "output_type": "execute_result"
    }
   ],
   "source": [
    "weeksdist.idxmax()"
   ]
  },
  {
   "cell_type": "markdown",
   "metadata": {},
   "source": [
    "?????????????????the highest transit time is at 8 weeks which was more than 50000 items. "
   ]
  },
  {
   "cell_type": "markdown",
   "metadata": {},
   "source": [
    "We can create uncorrelated features by differencing the lagged features in the data set: \n",
    "    Features Sales in months 1, 2, 3 = \"sales_3_month\"\n",
    "    Sales in months 4, 5, and 6 = \"sales_6_month\" - \"sales_3_month\" Sales in months 7, 8, \n",
    "    and 9 = \"sales_9_month\" - \"sales_6_month\" Based on these we can examine:\n",
    "        What proportion of products don't have more than a 10%, 20%, or 50% \n",
    "        change over those time periods? What proportion of products consistently trend up, or trend down over those time periods? \n",
    "        What percentage flip? By how much? Bonus: by differencing \"sales_1_month\" and \n",
    "            \"sales_3_month\" how predictable are \"sales_1_month\" based on the previous time periods\n",
    "        alone?"
   ]
  },
  {
   "cell_type": "code",
   "execution_count": 85,
   "metadata": {},
   "outputs": [
    {
     "data": {
      "image/png": "[encoded data removed]",
      "text/plain": [
       "<matplotlib.figure.Figure at 0x1b0df6ce6a0>"
      ]
     },
     "metadata": {},
     "output_type": "display_data"
    },
    {
     "data": {
      "text/plain": [
       "1602060    4.723869\n",
       "1416050    4.723346\n",
       "174594     4.712074\n",
       "994488     4.709578\n",
       "842690     4.719264\n",
       "623334     4.715523\n",
       "384211     4.718109\n",
       "1130061    4.704512\n",
       "96294      4.706376\n",
       "23637      4.623466\n",
       "Name: sales_3_month, dtype: float64"
      ]
     },
     "execution_count": 85,
     "metadata": {},
     "output_type": "execute_result"
    }
   ],
   "source": [
    "rd=reduced_data\n",
    "sales123=rd['sales_3_month']\n",
    "sales456=rd.sales_6_month-rd.sales_3_month\n",
    "sales789=rd.sales_9_month-rd.sales_6_month\n",
    "salesPlot=sales123.value_counts().sort_index()\n",
    "salesPlot.plot(kind='bar')\n",
    "_=plt.xlabel('month')\n",
    "_=plt.ylabel('sales')\n",
    "plt.title('Monthly sales')\n",
    "plt.show()\n",
    "sales123.head(10)\n"
   ]
  },
  {
   "cell_type": "code",
   "execution_count": 93,
   "metadata": {},
   "outputs": [
    {
     "data": {
      "text/plain": [
       "sku      sales_3_month\n",
       "1111598  -0.423474        1\n",
       "2254399   1.006351        1\n",
       "2254393   0.341285        1\n",
       "2254391  -0.174362        1\n",
       "2254390  -0.691405        1\n",
       "2254382   0.402245        1\n",
       "2254372  -0.539962        1\n",
       "2254353  -0.010895        1\n",
       "2254347  -0.578784        1\n",
       "2254339  -1.271406        1\n",
       "2254446   0.564724        1\n",
       "2254335  -0.419783        1\n",
       "2254324  -0.350761        1\n",
       "2254316   0.083074        1\n",
       "2254312  -1.334143        1\n",
       "2254305   1.386315        1\n",
       "2254300  -0.132424        1\n",
       "2254277   0.707799        1\n",
       "2254262  -0.914092        1\n",
       "2254258   0.147884        1\n",
       "2254255  -0.870461        1\n",
       "2254330  -0.585423        1\n",
       "2254253   2.042399        1\n",
       "2254496  -0.018935        1\n",
       "2254533   0.022716        1\n",
       "2254818   0.776752        1\n",
       "2254817   0.021617        1\n",
       "2254809  -0.630986        1\n",
       "2254795  -1.736033        1\n",
       "2254768   0.014993        1\n",
       "2254766   0.746619        1\n",
       "2254760  -0.478811        1\n",
       "2254746  -0.350761        1\n",
       "2254724   0.189323        1\n",
       "2254503  -0.814383        1\n",
       "2254712  -0.423474        1\n",
       "2254597   1.525002        1\n",
       "2254581   1.137802        1\n",
       "2254580   0.055028        1\n",
       "2254575  -0.141715        1\n",
       "2254563   2.841731        1\n",
       "2254560   0.709670        1\n",
       "2254559   0.985842        1\n",
       "2254541  -0.060333        1\n",
       "2254534  -0.837578        1\n",
       "2254648   0.174827        1\n",
       "2254245  -0.780662        1\n",
       "2254215  -1.047763        1\n",
       "2254212   0.070725        1\n",
       "2254019  -0.619376        1\n",
       "Name: sales_3_month, dtype: int64"
      ]
     },
     "execution_count": 93,
     "metadata": {},
     "output_type": "execute_result"
    }
   ],
   "source": [
    "s=sales123.groupby(rd['sku']).value_counts().sort_values()\n",
    "s.head(50)"
   ]
  },
  {
   "cell_type": "code",
   "execution_count": 83,
   "metadata": {},
   "outputs": [
    {
     "data": {
      "text/plain": [
       "<matplotlib.figure.Figure at 0x1b0dfb11978>"
      ]
     },
     "metadata": {},
     "output_type": "display_data"
    },
    {
     "data": {
      "image/png": "[encoded data removed]",
      "text/plain": [
       "<matplotlib.figure.Figure at 0x1b0df760358>"
      ]
     },
     "metadata": {},
     "output_type": "display_data"
    },
    {
     "data": {
      "text/plain": [
       "<matplotlib.figure.Figure at 0x1b0df6c28d0>"
      ]
     },
     "metadata": {},
     "output_type": "display_data"
    },
    {
     "data": {
      "image/png": "[encoded data removed]",
      "text/plain": [
       "<matplotlib.figure.Figure at 0x1b0df6ae320>"
      ]
     },
     "metadata": {},
     "output_type": "display_data"
    }
   ],
   "source": [
    "import matplotlib\n",
    "matplotlib.style.use('ggplot')\n",
    "\n",
    "saleslist=[sales123,sales456,sales789]\n",
    "ts = pd.Series(saleslist, index=pd.date_range('1/1/2016', periods=10))\n",
    "\n",
    "\n",
    "\n",
    "\n",
    "df = pd.DataFrame(np.random.randn(10, 4), index=ts.index, columns=list('ABCD'))\n",
    "\n",
    "\n",
    "plt.figure(); \n",
    "df.plot();\n",
    "plt.show()\n",
    "\n",
    "\n"
   ]
  },
  {
   "cell_type": "code",
   "execution_count": null,
   "metadata": {
    "collapsed": true
   },
   "outputs": [],
   "source": []
  },
  {
   "cell_type": "code",
   "execution_count": null,
   "metadata": {
    "collapsed": true
   },
   "outputs": [],
   "source": []
  },
  {
   "cell_type": "code",
   "execution_count": null,
   "metadata": {
    "collapsed": true
   },
   "outputs": [],
   "source": []
  },
  {
   "cell_type": "code",
   "execution_count": null,
   "metadata": {
    "collapsed": true
   },
   "outputs": [],
   "source": []
  },
  {
   "cell_type": "code",
   "execution_count": null,
   "metadata": {
    "collapsed": true
   },
   "outputs": [],
   "source": [
    "from scipy.stats import boxcox\n",
    "from sklearn import preprocessing\n",
    "from scipy.stats import skew\n",
    "#The next line uses scale method from scikit-learn to transform the distribution \n",
    "#This will not impact Skewness Statistic calculation\n",
    "#We have included this for sake of completion\n",
    "#Note that we changed the following line to process the square roots instead of actuals\n",
    "AirTime = preprocessing.scale(np.sqrt(reduced_data['sales_9_month'])) \n",
    "\n",
    "#Note that we shift the values by 1 to get rid of zeros\n",
    "AirTimeBoxCox = preprocessing.scale(boxcox(reduced_data['sales_9_month']+1)[0])\n",
    "AirTimeOrig = preprocessing.scale(reduced_data['sales_9_month'])\n",
    "\n",
    "#Next We calculate Skewness using skew in spicy.stats\n",
    "skness = skew(AirTime)\n",
    "sknessBoxCox = skew(AirTimeBoxCox)\n",
    "sknessOrig = skew(AirTimeOrig)\n",
    "\n",
    "\n",
    "#We draw the histograms \n",
    "figure = plt.figure()\n",
    "figure.add_subplot(131)   \n",
    "plt.hist(AirTime,facecolor='red',alpha=0.75) \n",
    "plt.xlabel(\"sales - Transformed(Using Sqrt)\") \n",
    "plt.title(\"sales Histogram\") \n",
    "plt.text(2,100000,\"Skewness: {0:.2f}\".format(skness)) \n",
    "\n",
    "figure.add_subplot(132) \n",
    "plt.hist(AirTimeBoxCox,facecolor='blue',alpha=0.75) \n",
    "plt.xlabel(\"sales - Using BoxCox Transformation\") \n",
    "plt.title(\"sales Histogram - Un-Skewed(BoxCox)\") \n",
    "plt.text(2,100000,\"Skewness: {0:.2f}\".format(sknessBoxCox))\n",
    "\n",
    "figure.add_subplot(133) \n",
    "plt.hist(AirTimeOrig,facecolor='green',alpha=0.75) \n",
    "plt.xlabel(\"sales - Based on Original Flight Times\") \n",
    "plt.title(\"sales Histogram - Right Skewed\") \n",
    "plt.text(2,100000,\"Skewness: {0:.2f}\".format(sknessOrig))\n",
    "plt.show()\n"
   ]
  },
  {
   "cell_type": "code",
   "execution_count": 33,
   "metadata": {
    "collapsed": true
   },
   "outputs": [],
   "source": [
    "from scipy.stats import boxcox\n",
    "from sklearn import preprocessing\n",
    "from scipy.stats import skew\n",
    "#The next line uses scale method from scikit-learn to transform the distribution \n",
    "#This will not impact Skewness Statistic calculation\n",
    "#We have included this for sake of completion\n",
    "#Note that we changed the following line to process the square roots instead of actuals\n",
    "\n",
    "norm_col=['forecast_3_month', \n",
    "                   'forecast_6_month', 'forecast_9_month', 'min_bank',\n",
    "                   'local_bo_qty', 'pieces_past_due', 'sales_1_month', \n",
    "                   'sales_3_month', 'sales_6_month', 'sales_9_month']\n",
    "for col in norm_col:\n",
    "    reduced_data[col] = preprocessing.scale(boxcox(reduced_data[col]+1)[0])\n",
    "    "
   ]
  },
  {
   "cell_type": "code",
   "execution_count": 34,
   "metadata": {},
   "outputs": [
    {
     "data": {
      "text/plain": [
       "<matplotlib.figure.Figure at 0x1b0cd75d358>"
      ]
     },
     "metadata": {},
     "output_type": "display_data"
    },
    {
     "data": {
      "text/plain": [
       "<matplotlib.figure.Figure at 0x1b0cd790438>"
      ]
     },
     "metadata": {},
     "output_type": "display_data"
    },
    {
     "data": {
      "text/plain": [
       "<matplotlib.figure.Figure at 0x1b0cd7a2400>"
      ]
     },
     "metadata": {},
     "output_type": "display_data"
    },
    {
     "data": {
      "text/plain": [
       "<matplotlib.figure.Figure at 0x1b0cd7b3518>"
      ]
     },
     "metadata": {},
     "output_type": "display_data"
    },
    {
     "data": {
      "text/plain": [
       "<matplotlib.figure.Figure at 0x1b0cd7c90f0>"
      ]
     },
     "metadata": {},
     "output_type": "display_data"
    },
    {
     "data": {
      "text/plain": [
       "<matplotlib.figure.Figure at 0x1b0cd7d3278>"
      ]
     },
     "metadata": {},
     "output_type": "display_data"
    },
    {
     "data": {
      "image/png": "[encoded data removed]",
      "text/plain": [
       "<matplotlib.figure.Figure at 0x1b10215ec50>"
      ]
     },
     "metadata": {},
     "output_type": "display_data"
    },
    {
     "data": {
      "image/png": "[encoded data removed]",
      "text/plain": [
       "<matplotlib.figure.Figure at 0x1b101190668>"
      ]
     },
     "metadata": {},
     "output_type": "display_data"
    }
   ],
   "source": [
    "fig, (ax1, ax2) = plt.subplots(1,2, figsize=(8,4))\n",
    "reduced_data.hist(figsize=(12,12), alpha=0.75,color='green', grid=False)\n",
    "plt.show()"
   ]
  },
  {
   "cell_type": "code",
   "execution_count": null,
   "metadata": {
    "collapsed": true
   },
   "outputs": [],
   "source": [
    "reduced_data="
   ]
  },
  {
   "cell_type": "code",
   "execution_count": null,
   "metadata": {
    "collapsed": true
   },
   "outputs": [],
   "source": []
  },
  {
   "cell_type": "code",
   "execution_count": null,
   "metadata": {
    "collapsed": true
   },
   "outputs": [],
   "source": []
  },
  {
   "cell_type": "code",
   "execution_count": null,
   "metadata": {
    "collapsed": true
   },
   "outputs": [],
   "source": []
  },
  {
   "cell_type": "markdown",
   "metadata": {},
   "source": [
    "### Data Preprocessing\n",
    "#### Imputing missing values\n",
    "\n",
    "Lead time has many missing values which I am going to replace it with mean of lead time and also there is a null row for all columns which I drop that column."
   ]
  },
  {
   "cell_type": "code",
   "execution_count": null,
   "metadata": {
    "collapsed": true
   },
   "outputs": [],
   "source": [
    "from sklearn.preprocessing import Imputer\n",
    "train_data['lead_time']=Imputer(strategy='mean').fit_transform(train_data['lead_time'].values.reshape(-1,1))\n",
    "#another way is using fillna\n",
    "#train_data['lead_time'] = train_data['lead_time'].fillna(train_data['lead_time'].mean())"
   ]
  },
  {
   "cell_type": "code",
   "execution_count": null,
   "metadata": {
    "collapsed": true
   },
   "outputs": [],
   "source": [
    "train_data=train_data.dropna()\n",
    "train_data.isnull().sum().sum()"
   ]
  },
  {
   "cell_type": "code",
   "execution_count": null,
   "metadata": {
    "collapsed": true
   },
   "outputs": [],
   "source": [
    "#replace 'yes' and 'No' to 0,1\n",
    "train_data=train_data.replace(['Yes', 'No'], [1, 0])"
   ]
  },
  {
   "cell_type": "code",
   "execution_count": null,
   "metadata": {
    "collapsed": true
   },
   "outputs": [],
   "source": [
    "#replace missing values in performance \n",
    "imp=Imputer(missing_values=-99,strategy='mean')\n",
    "for data in ['perf_6_month_avg','perf_12_month_avg']:\n",
    "  train_data[data] = imp.fit_transform(train_data[data].values.reshape(-1, 1))"
   ]
  },
  {
   "cell_type": "markdown",
   "metadata": {},
   "source": [
    "### Data reduction"
   ]
  },
  {
   "cell_type": "code",
   "execution_count": null,
   "metadata": {
    "collapsed": true
   },
   "outputs": [],
   "source": [
    "sales=['sales_1_month', 'sales_3_month', 'sales_6_month', 'sales_9_month']\n",
    "forecast=['forecast_3_month','forecast_6_month', 'forecast_9_month']\n",
    "for col in sales:\n",
    "    #miss_sales=sml_data[sml_data[col]==0]\n",
    "    for col2 in forecast:\n",
    "    #miss_forecast=sml_data[sml_data[col2]==0]\n",
    "#if (miss_sales & miss_forecast ):\n",
    "    #print(len())\n",
    "     new_data=train_data[(train_data[col2]!=0) & (train_data[col]!=0)]\n",
    "    #new_data = train_data.loc[(train_data[\"forecast_3_month\"]>0)&(train_data[\"sales_9_month\"]>0)]\n",
    "new_data.head(5)\n",
    "new_data.describe()"
   ]
  },
  {
   "cell_type": "code",
   "execution_count": null,
   "metadata": {
    "collapsed": true
   },
   "outputs": [],
   "source": [
    "fig, (ax1, ax2) = plt.subplots(1,2, figsize=(8,4))\n",
    "new_data.hist(figsize=(12,12), alpha=0.5, grid=False)\n",
    "plt.show()"
   ]
  },
  {
   "cell_type": "markdown",
   "metadata": {},
   "source": [
    "### Normalization\n",
    "The simplest method is rescaling the range of features to scale the range in [0, 1] or [−1, 1]. \n",
    "\n",
    "$$x_{normalized} = \\frac{x-x_{min}}{x_{max}-x_{min}}.$$\n"
   ]
  },
  {
   "cell_type": "code",
   "execution_count": null,
   "metadata": {
    "collapsed": true
   },
   "outputs": [],
   "source": [
    "from sklearn.preprocessing import normalize\n",
    "\n",
    "norm_col=['forecast_3_month', \n",
    "                   'forecast_6_month', 'forecast_9_month', 'min_bank',\n",
    "                   'local_bo_qty', 'pieces_past_due', 'sales_1_month', \n",
    "                   'sales_3_month', 'sales_6_month', 'sales_9_month']\n",
    "\n",
    "new_data[norm_col]=normalize(new_data[norm_col],axis=1)\n",
    "new_data.head()"
   ]
  },
  {
   "cell_type": "code",
   "execution_count": null,
   "metadata": {
    "collapsed": true
   },
   "outputs": [],
   "source": [
    "fig, (ax1, ax2) = plt.subplots(1,2, figsize=(8,4))\n",
    "new_data.hist(figsize=(12,12), alpha=0.5,color='red', grid=False)\n",
    "plt.show()"
   ]
  },
  {
   "cell_type": "markdown",
   "metadata": {
    "collapsed": true
   },
   "source": [
    "### Standardization\n",
    "Stardardization is centering the data around 0 and scale with respect to the standard deviation:\n",
    "\n",
    "$$x_{standardized} = \\frac{x-\\mu}{\\sigma},$$\n",
    "where $\\mu$ and $\\sigma$ are the mean and standard deviation of the dataset, respectively."
   ]
  },
  {
   "cell_type": "code",
   "execution_count": null,
   "metadata": {
    "collapsed": true
   },
   "outputs": [],
   "source": [
    "from sklearn.preprocessing import scale\n",
    "new_data['lead_time']=scale(new_data['lead_time'])\n",
    "#plt.hist(new_data.lead_time,alpha=0.5)\n",
    "#plt.show()"
   ]
  },
  {
   "cell_type": "markdown",
   "metadata": {},
   "source": [
    "### Data Visualizarion:\n",
    "Heatmap shows coroolation between data.\n",
    "which features have correlation with went back order?\n"
   ]
  },
  {
   "cell_type": "code",
   "execution_count": null,
   "metadata": {
    "collapsed": true
   },
   "outputs": [],
   "source": [
    "sns.heatmap(new_data.corr(), square=True, cmap='RdYlGn')\n",
    "plt.show()"
   ]
  },
  {
   "cell_type": "markdown",
   "metadata": {},
   "source": [
    "1. How common are back-orders?\n",
    "\n",
    "2. Given that, how likely are backorders based on the part risk flags? And how prevalent are they?\n",
    "\n",
    "3. What's the relationship between \"potential_issue\" and \"pieces_past_due\" are each represented by part risk flags or are they unrelated concepts?\n",
    "\n",
    "4. What's the relationship between lead time and back orders?"
   ]
  },
  {
   "cell_type": "code",
   "execution_count": null,
   "metadata": {
    "collapsed": true
   },
   "outputs": [],
   "source": []
  },
  {
   "cell_type": "code",
   "execution_count": null,
   "metadata": {
    "collapsed": true
   },
   "outputs": [],
   "source": []
  },
  {
   "cell_type": "code",
   "execution_count": null,
   "metadata": {
    "collapsed": true
   },
   "outputs": [],
   "source": []
  },
  {
   "cell_type": "code",
   "execution_count": null,
   "metadata": {
    "collapsed": true
   },
   "outputs": [],
   "source": []
  },
  {
   "cell_type": "code",
   "execution_count": 25,
   "metadata": {},
   "outputs": [
    {
     "ename": "NameError",
     "evalue": "name 'new_data' is not defined",
     "output_type": "error",
     "traceback": [
      "\u001b[1;31m---------------------------------------------------------------------------\u001b[0m",
      "\u001b[1;31mNameError\u001b[0m                                 Traceback (most recent call last)",
      "\u001b[1;32m<ipython-input-25-9a62f6480dfa>\u001b[0m in \u001b[0;36m<module>\u001b[1;34m()\u001b[0m\n\u001b[1;32m----> 1\u001b[1;33m \u001b[0mcategories\u001b[0m\u001b[1;33m=\u001b[0m\u001b[0mnew_data\u001b[0m\u001b[1;33m.\u001b[0m\u001b[0mloc\u001b[0m\u001b[1;33m[\u001b[0m\u001b[1;33m:\u001b[0m\u001b[1;33m,\u001b[0m \u001b[0mnew_data\u001b[0m\u001b[1;33m.\u001b[0m\u001b[0mcolumns\u001b[0m \u001b[1;33m!=\u001b[0m \u001b[1;34m'sku'\u001b[0m\u001b[1;33m]\u001b[0m\u001b[1;33m\u001b[0m\u001b[0m\n\u001b[0m\u001b[0;32m      2\u001b[0m \u001b[0mcategories\u001b[0m\u001b[1;33m=\u001b[0m\u001b[0mcategories\u001b[0m\u001b[1;33m.\u001b[0m\u001b[0mselect_dtypes\u001b[0m\u001b[1;33m(\u001b[0m\u001b[0minclude\u001b[0m\u001b[1;33m=\u001b[0m\u001b[1;33m[\u001b[0m\u001b[1;34m'int64'\u001b[0m\u001b[1;33m]\u001b[0m\u001b[1;33m)\u001b[0m\u001b[1;33m\u001b[0m\u001b[0m\n\u001b[0;32m      3\u001b[0m \u001b[1;33m\u001b[0m\u001b[0m\n\u001b[0;32m      4\u001b[0m \u001b[1;32mfrom\u001b[0m \u001b[0mseaborn\u001b[0m \u001b[1;32mimport\u001b[0m \u001b[0mcountplot\u001b[0m\u001b[1;33m,\u001b[0m \u001b[0mset_style\u001b[0m\u001b[1;33m,\u001b[0m\u001b[0mdespine\u001b[0m\u001b[1;33m,\u001b[0m \u001b[0maxes_style\u001b[0m\u001b[1;33m\u001b[0m\u001b[0m\n\u001b[0;32m      5\u001b[0m \u001b[1;32mfrom\u001b[0m \u001b[0mmatplotlib\u001b[0m\u001b[1;33m.\u001b[0m\u001b[0mpyplot\u001b[0m \u001b[1;32mimport\u001b[0m \u001b[0mshow\u001b[0m\u001b[1;33m\u001b[0m\u001b[0m\n",
      "\u001b[1;31mNameError\u001b[0m: name 'new_data' is not defined"
     ]
    }
   ],
   "source": [
    "categories=new_data.loc[:, new_data.columns != 'sku']\n",
    "categories=categories.select_dtypes(include=['int64'])\n",
    "\n",
    "from seaborn import countplot, set_style,despine, axes_style\n",
    "from matplotlib.pyplot import show\n",
    "from IPython.display import display\n",
    "from pandas import DataFrame\n",
    "\n",
    "def category_analysis(series):\n",
    "    \n",
    "    set_style(\"whitegrid\")\n",
    "    \n",
    "    with axes_style({'axes.grid': False}):\n",
    "        cp = countplot(series)\n",
    "        cp.set_title(cp.get_xlabel())\n",
    "        cp.set_xlabel(\"\",visible=False)\n",
    "        despine()\n",
    "    \n",
    "    show()\n",
    "    display(DataFrame(series.value_counts().apply(lambda x: x / len(new_data) * 100).round(2)).T)\n",
    "    "
   ]
  },
  {
   "cell_type": "code",
   "execution_count": 26,
   "metadata": {},
   "outputs": [
    {
     "ename": "NameError",
     "evalue": "name 'categories' is not defined",
     "output_type": "error",
     "traceback": [
      "\u001b[1;31m---------------------------------------------------------------------------\u001b[0m",
      "\u001b[1;31mNameError\u001b[0m                                 Traceback (most recent call last)",
      "\u001b[1;32m<ipython-input-26-4c3887955fb1>\u001b[0m in \u001b[0;36m<module>\u001b[1;34m()\u001b[0m\n\u001b[1;32m----> 1\u001b[1;33m \u001b[1;32mfor\u001b[0m \u001b[0mcategory\u001b[0m \u001b[1;32min\u001b[0m \u001b[0mcategories\u001b[0m\u001b[1;33m:\u001b[0m\u001b[1;33m\u001b[0m\u001b[0m\n\u001b[0m\u001b[0;32m      2\u001b[0m     \u001b[0mcategory_analysis\u001b[0m\u001b[1;33m(\u001b[0m\u001b[0mnew_data\u001b[0m\u001b[1;33m[\u001b[0m\u001b[0mcategory\u001b[0m\u001b[1;33m]\u001b[0m\u001b[1;33m)\u001b[0m\u001b[1;33m\u001b[0m\u001b[0m\n",
      "\u001b[1;31mNameError\u001b[0m: name 'categories' is not defined"
     ]
    }
   ],
   "source": [
    "for category in categories:\n",
    "    category_analysis(new_data[category])"
   ]
  },
  {
   "cell_type": "code",
   "execution_count": 27,
   "metadata": {},
   "outputs": [
    {
     "ename": "NameError",
     "evalue": "name 'new_data' is not defined",
     "output_type": "error",
     "traceback": [
      "\u001b[1;31m---------------------------------------------------------------------------\u001b[0m",
      "\u001b[1;31mNameError\u001b[0m                                 Traceback (most recent call last)",
      "\u001b[1;32m<ipython-input-27-93b0d674f520>\u001b[0m in \u001b[0;36m<module>\u001b[1;34m()\u001b[0m\n\u001b[0;32m      1\u001b[0m \u001b[0mfig\u001b[0m \u001b[1;33m=\u001b[0m \u001b[0mplt\u001b[0m\u001b[1;33m.\u001b[0m\u001b[0mfigure\u001b[0m\u001b[1;33m(\u001b[0m\u001b[0mfigsize\u001b[0m\u001b[1;33m=\u001b[0m\u001b[1;33m(\u001b[0m\u001b[1;36m15\u001b[0m\u001b[1;33m,\u001b[0m\u001b[1;36m4\u001b[0m\u001b[1;33m)\u001b[0m\u001b[1;33m)\u001b[0m\u001b[1;33m\u001b[0m\u001b[0m\n\u001b[1;32m----> 2\u001b[1;33m \u001b[0max\u001b[0m\u001b[1;33m=\u001b[0m\u001b[0msns\u001b[0m\u001b[1;33m.\u001b[0m\u001b[0mkdeplot\u001b[0m\u001b[1;33m(\u001b[0m\u001b[0mnew_data\u001b[0m\u001b[1;33m.\u001b[0m\u001b[0mloc\u001b[0m\u001b[1;33m[\u001b[0m\u001b[1;33m(\u001b[0m\u001b[0mnew_data\u001b[0m\u001b[1;33m[\u001b[0m\u001b[1;34m'went_on_backorder'\u001b[0m\u001b[1;33m]\u001b[0m \u001b[1;33m==\u001b[0m \u001b[1;36m0\u001b[0m\u001b[1;33m)\u001b[0m\u001b[1;33m,\u001b[0m\u001b[1;34m'forecast_9_month'\u001b[0m\u001b[1;33m]\u001b[0m \u001b[1;33m,\u001b[0m \u001b[0mcolor\u001b[0m\u001b[1;33m=\u001b[0m\u001b[1;34m'b'\u001b[0m\u001b[1;33m,\u001b[0m\u001b[0mshade\u001b[0m\u001b[1;33m=\u001b[0m\u001b[1;32mTrue\u001b[0m\u001b[1;33m,\u001b[0m \u001b[0mlabel\u001b[0m\u001b[1;33m=\u001b[0m\u001b[1;34m'no backorder'\u001b[0m\u001b[1;33m)\u001b[0m\u001b[1;33m\u001b[0m\u001b[0m\n\u001b[0m\u001b[0;32m      3\u001b[0m \u001b[0max\u001b[0m\u001b[1;33m=\u001b[0m\u001b[0msns\u001b[0m\u001b[1;33m.\u001b[0m\u001b[0mkdeplot\u001b[0m\u001b[1;33m(\u001b[0m\u001b[0mnew_data\u001b[0m\u001b[1;33m.\u001b[0m\u001b[0mloc\u001b[0m\u001b[1;33m[\u001b[0m\u001b[1;33m(\u001b[0m\u001b[0mnew_data\u001b[0m\u001b[1;33m[\u001b[0m\u001b[1;34m'went_on_backorder'\u001b[0m\u001b[1;33m]\u001b[0m \u001b[1;33m==\u001b[0m \u001b[1;36m1\u001b[0m\u001b[1;33m)\u001b[0m\u001b[1;33m,\u001b[0m\u001b[1;34m'forecast_9_month'\u001b[0m\u001b[1;33m]\u001b[0m \u001b[1;33m,\u001b[0m \u001b[0mcolor\u001b[0m\u001b[1;33m=\u001b[0m\u001b[1;34m'r'\u001b[0m\u001b[1;33m,\u001b[0m\u001b[0mshade\u001b[0m\u001b[1;33m=\u001b[0m\u001b[1;32mTrue\u001b[0m\u001b[1;33m,\u001b[0m \u001b[0mlabel\u001b[0m\u001b[1;33m=\u001b[0m\u001b[1;34m'backorder'\u001b[0m\u001b[1;33m)\u001b[0m\u001b[1;33m\u001b[0m\u001b[0m\n\u001b[0;32m      4\u001b[0m \u001b[0mplt\u001b[0m\u001b[1;33m.\u001b[0m\u001b[0mtitle\u001b[0m\u001b[1;33m(\u001b[0m\u001b[1;34m'Forecast sales for the next 9 months - backorder V.S. No backorder'\u001b[0m\u001b[1;33m)\u001b[0m\u001b[1;33m\u001b[0m\u001b[0m\n\u001b[0;32m      5\u001b[0m \u001b[0mplt\u001b[0m\u001b[1;33m.\u001b[0m\u001b[0mshow\u001b[0m\u001b[1;33m(\u001b[0m\u001b[1;33m)\u001b[0m\u001b[1;33m\u001b[0m\u001b[0m\n",
      "\u001b[1;31mNameError\u001b[0m: name 'new_data' is not defined"
     ]
    }
   ],
   "source": [
    "fig = plt.figure(figsize=(15,4))\n",
    "ax=sns.kdeplot(new_data.loc[(new_data['went_on_backorder'] == 0),'forecast_9_month'] , color='b',shade=True, label='no backorder')\n",
    "ax=sns.kdeplot(new_data.loc[(new_data['went_on_backorder'] == 1),'forecast_9_month'] , color='r',shade=True, label='backorder')\n",
    "plt.title('Forecast sales for the next 9 months - backorder V.S. No backorder')\n",
    "plt.show()"
   ]
  },
  {
   "cell_type": "code",
   "execution_count": 28,
   "metadata": {},
   "outputs": [
    {
     "ename": "NameError",
     "evalue": "name 'new_data' is not defined",
     "output_type": "error",
     "traceback": [
      "\u001b[1;31m---------------------------------------------------------------------------\u001b[0m",
      "\u001b[1;31mNameError\u001b[0m                                 Traceback (most recent call last)",
      "\u001b[1;32m<ipython-input-28-7115a5cb756b>\u001b[0m in \u001b[0;36m<module>\u001b[1;34m()\u001b[0m\n\u001b[0;32m      1\u001b[0m \u001b[0mfig\u001b[0m \u001b[1;33m=\u001b[0m \u001b[0mplt\u001b[0m\u001b[1;33m.\u001b[0m\u001b[0mfigure\u001b[0m\u001b[1;33m(\u001b[0m\u001b[0mfigsize\u001b[0m\u001b[1;33m=\u001b[0m\u001b[1;33m(\u001b[0m\u001b[1;36m15\u001b[0m\u001b[1;33m,\u001b[0m\u001b[1;36m4\u001b[0m\u001b[1;33m)\u001b[0m\u001b[1;33m)\u001b[0m\u001b[1;33m\u001b[0m\u001b[0m\n\u001b[1;32m----> 2\u001b[1;33m \u001b[0max\u001b[0m\u001b[1;33m=\u001b[0m\u001b[0msns\u001b[0m\u001b[1;33m.\u001b[0m\u001b[0mkdeplot\u001b[0m\u001b[1;33m(\u001b[0m\u001b[0mnew_data\u001b[0m\u001b[1;33m.\u001b[0m\u001b[0mloc\u001b[0m\u001b[1;33m[\u001b[0m\u001b[1;33m(\u001b[0m\u001b[0mnew_data\u001b[0m\u001b[1;33m[\u001b[0m\u001b[1;34m'went_on_backorder'\u001b[0m\u001b[1;33m]\u001b[0m \u001b[1;33m==\u001b[0m \u001b[1;36m0\u001b[0m\u001b[1;33m)\u001b[0m\u001b[1;33m,\u001b[0m\u001b[1;34m'forecast_3_month'\u001b[0m\u001b[1;33m]\u001b[0m \u001b[1;33m,\u001b[0m \u001b[0mcolor\u001b[0m\u001b[1;33m=\u001b[0m\u001b[1;34m'b'\u001b[0m\u001b[1;33m,\u001b[0m\u001b[0mshade\u001b[0m\u001b[1;33m=\u001b[0m\u001b[1;32mTrue\u001b[0m\u001b[1;33m,\u001b[0m \u001b[0mlabel\u001b[0m\u001b[1;33m=\u001b[0m\u001b[1;34m'no backorder'\u001b[0m\u001b[1;33m)\u001b[0m\u001b[1;33m\u001b[0m\u001b[0m\n\u001b[0m\u001b[0;32m      3\u001b[0m \u001b[0max\u001b[0m\u001b[1;33m=\u001b[0m\u001b[0msns\u001b[0m\u001b[1;33m.\u001b[0m\u001b[0mkdeplot\u001b[0m\u001b[1;33m(\u001b[0m\u001b[0mnew_data\u001b[0m\u001b[1;33m.\u001b[0m\u001b[0mloc\u001b[0m\u001b[1;33m[\u001b[0m\u001b[1;33m(\u001b[0m\u001b[0mnew_data\u001b[0m\u001b[1;33m[\u001b[0m\u001b[1;34m'went_on_backorder'\u001b[0m\u001b[1;33m]\u001b[0m \u001b[1;33m==\u001b[0m \u001b[1;36m1\u001b[0m\u001b[1;33m)\u001b[0m\u001b[1;33m,\u001b[0m\u001b[1;34m'forecast_3_month'\u001b[0m\u001b[1;33m]\u001b[0m \u001b[1;33m,\u001b[0m \u001b[0mcolor\u001b[0m\u001b[1;33m=\u001b[0m\u001b[1;34m'r'\u001b[0m\u001b[1;33m,\u001b[0m\u001b[0mshade\u001b[0m\u001b[1;33m=\u001b[0m\u001b[1;32mTrue\u001b[0m\u001b[1;33m,\u001b[0m \u001b[0mlabel\u001b[0m\u001b[1;33m=\u001b[0m\u001b[1;34m'backorder'\u001b[0m\u001b[1;33m)\u001b[0m\u001b[1;33m\u001b[0m\u001b[0m\n\u001b[0;32m      4\u001b[0m \u001b[0mplt\u001b[0m\u001b[1;33m.\u001b[0m\u001b[0mtitle\u001b[0m\u001b[1;33m(\u001b[0m\u001b[1;34m'Forecast sales for the next 3 months - backorder V.S. No backorder'\u001b[0m\u001b[1;33m)\u001b[0m\u001b[1;33m\u001b[0m\u001b[0m\n\u001b[0;32m      5\u001b[0m \u001b[0mplt\u001b[0m\u001b[1;33m.\u001b[0m\u001b[0mshow\u001b[0m\u001b[1;33m(\u001b[0m\u001b[1;33m)\u001b[0m\u001b[1;33m\u001b[0m\u001b[0m\n",
      "\u001b[1;31mNameError\u001b[0m: name 'new_data' is not defined"
     ]
    }
   ],
   "source": [
    "fig = plt.figure(figsize=(15,4))\n",
    "ax=sns.kdeplot(new_data.loc[(new_data['went_on_backorder'] == 0),'forecast_3_month'] , color='b',shade=True, label='no backorder')\n",
    "ax=sns.kdeplot(new_data.loc[(new_data['went_on_backorder'] == 1),'forecast_3_month'] , color='r',shade=True, label='backorder')\n",
    "plt.title('Forecast sales for the next 3 months - backorder V.S. No backorder')\n",
    "plt.show()"
   ]
  },
  {
   "cell_type": "code",
   "execution_count": 29,
   "metadata": {},
   "outputs": [
    {
     "ename": "NameError",
     "evalue": "name 'new_data' is not defined",
     "output_type": "error",
     "traceback": [
      "\u001b[1;31m---------------------------------------------------------------------------\u001b[0m",
      "\u001b[1;31mNameError\u001b[0m                                 Traceback (most recent call last)",
      "\u001b[1;32m<ipython-input-29-6ac62c41e184>\u001b[0m in \u001b[0;36m<module>\u001b[1;34m()\u001b[0m\n\u001b[0;32m      1\u001b[0m \u001b[0mfig\u001b[0m \u001b[1;33m=\u001b[0m \u001b[0mplt\u001b[0m\u001b[1;33m.\u001b[0m\u001b[0mfigure\u001b[0m\u001b[1;33m(\u001b[0m\u001b[0mfigsize\u001b[0m\u001b[1;33m=\u001b[0m\u001b[1;33m(\u001b[0m\u001b[1;36m15\u001b[0m\u001b[1;33m,\u001b[0m\u001b[1;36m4\u001b[0m\u001b[1;33m)\u001b[0m\u001b[1;33m)\u001b[0m\u001b[1;33m\u001b[0m\u001b[0m\n\u001b[1;32m----> 2\u001b[1;33m \u001b[0max\u001b[0m\u001b[1;33m=\u001b[0m\u001b[0msns\u001b[0m\u001b[1;33m.\u001b[0m\u001b[0mkdeplot\u001b[0m\u001b[1;33m(\u001b[0m\u001b[0mnew_data\u001b[0m\u001b[1;33m.\u001b[0m\u001b[0mloc\u001b[0m\u001b[1;33m[\u001b[0m\u001b[1;33m(\u001b[0m\u001b[0mnew_data\u001b[0m\u001b[1;33m[\u001b[0m\u001b[1;34m'went_on_backorder'\u001b[0m\u001b[1;33m]\u001b[0m \u001b[1;33m==\u001b[0m \u001b[1;36m0\u001b[0m\u001b[1;33m)\u001b[0m\u001b[1;33m,\u001b[0m\u001b[1;34m'perf_12_month_avg'\u001b[0m\u001b[1;33m]\u001b[0m \u001b[1;33m,\u001b[0m \u001b[0mcolor\u001b[0m\u001b[1;33m=\u001b[0m\u001b[1;34m'b'\u001b[0m\u001b[1;33m,\u001b[0m\u001b[0mshade\u001b[0m\u001b[1;33m=\u001b[0m\u001b[1;32mTrue\u001b[0m\u001b[1;33m,\u001b[0m \u001b[0mlabel\u001b[0m\u001b[1;33m=\u001b[0m\u001b[1;34m'no backorder'\u001b[0m\u001b[1;33m)\u001b[0m\u001b[1;33m\u001b[0m\u001b[0m\n\u001b[0m\u001b[0;32m      3\u001b[0m \u001b[0max\u001b[0m\u001b[1;33m=\u001b[0m\u001b[0msns\u001b[0m\u001b[1;33m.\u001b[0m\u001b[0mkdeplot\u001b[0m\u001b[1;33m(\u001b[0m\u001b[0mnew_data\u001b[0m\u001b[1;33m.\u001b[0m\u001b[0mloc\u001b[0m\u001b[1;33m[\u001b[0m\u001b[1;33m(\u001b[0m\u001b[0mnew_data\u001b[0m\u001b[1;33m[\u001b[0m\u001b[1;34m'went_on_backorder'\u001b[0m\u001b[1;33m]\u001b[0m \u001b[1;33m==\u001b[0m \u001b[1;36m1\u001b[0m\u001b[1;33m)\u001b[0m\u001b[1;33m,\u001b[0m\u001b[1;34m'perf_12_month_avg'\u001b[0m\u001b[1;33m]\u001b[0m \u001b[1;33m,\u001b[0m \u001b[0mcolor\u001b[0m\u001b[1;33m=\u001b[0m\u001b[1;34m'r'\u001b[0m\u001b[1;33m,\u001b[0m\u001b[0mshade\u001b[0m\u001b[1;33m=\u001b[0m\u001b[1;32mTrue\u001b[0m\u001b[1;33m,\u001b[0m \u001b[0mlabel\u001b[0m\u001b[1;33m=\u001b[0m\u001b[1;34m'backorder'\u001b[0m\u001b[1;33m)\u001b[0m\u001b[1;33m\u001b[0m\u001b[0m\n\u001b[0;32m      4\u001b[0m \u001b[0mplt\u001b[0m\u001b[1;33m.\u001b[0m\u001b[0mtitle\u001b[0m\u001b[1;33m(\u001b[0m\u001b[1;34m'Source performance for prior 12 month period'\u001b[0m\u001b[1;33m)\u001b[0m\u001b[1;33m\u001b[0m\u001b[0m\n\u001b[0;32m      5\u001b[0m \u001b[0mplt\u001b[0m\u001b[1;33m.\u001b[0m\u001b[0mshow\u001b[0m\u001b[1;33m(\u001b[0m\u001b[1;33m)\u001b[0m\u001b[1;33m\u001b[0m\u001b[0m\n",
      "\u001b[1;31mNameError\u001b[0m: name 'new_data' is not defined"
     ]
    }
   ],
   "source": [
    "fig = plt.figure(figsize=(15,4))\n",
    "ax=sns.kdeplot(new_data.loc[(new_data['went_on_backorder'] == 0),'perf_12_month_avg'] , color='b',shade=True, label='no backorder')\n",
    "ax=sns.kdeplot(new_data.loc[(new_data['went_on_backorder'] == 1),'perf_12_month_avg'] , color='r',shade=True, label='backorder')\n",
    "plt.title('Source performance for prior 12 month period')\n",
    "plt.show()"
   ]
  },
  {
   "cell_type": "code",
   "execution_count": 30,
   "metadata": {},
   "outputs": [
    {
     "ename": "NameError",
     "evalue": "name 'new_data' is not defined",
     "output_type": "error",
     "traceback": [
      "\u001b[1;31m---------------------------------------------------------------------------\u001b[0m",
      "\u001b[1;31mNameError\u001b[0m                                 Traceback (most recent call last)",
      "\u001b[1;32m<ipython-input-30-182dc98250f9>\u001b[0m in \u001b[0;36m<module>\u001b[1;34m()\u001b[0m\n\u001b[0;32m      1\u001b[0m \u001b[0mfig\u001b[0m \u001b[1;33m=\u001b[0m \u001b[0mplt\u001b[0m\u001b[1;33m.\u001b[0m\u001b[0mfigure\u001b[0m\u001b[1;33m(\u001b[0m\u001b[0mfigsize\u001b[0m\u001b[1;33m=\u001b[0m\u001b[1;33m(\u001b[0m\u001b[1;36m15\u001b[0m\u001b[1;33m,\u001b[0m\u001b[1;36m4\u001b[0m\u001b[1;33m)\u001b[0m\u001b[1;33m)\u001b[0m\u001b[1;33m\u001b[0m\u001b[0m\n\u001b[1;32m----> 2\u001b[1;33m \u001b[0max\u001b[0m\u001b[1;33m=\u001b[0m\u001b[0msns\u001b[0m\u001b[1;33m.\u001b[0m\u001b[0mkdeplot\u001b[0m\u001b[1;33m(\u001b[0m\u001b[0mnew_data\u001b[0m\u001b[1;33m.\u001b[0m\u001b[0mloc\u001b[0m\u001b[1;33m[\u001b[0m\u001b[1;33m(\u001b[0m\u001b[0mnew_data\u001b[0m\u001b[1;33m[\u001b[0m\u001b[1;34m'deck_risk'\u001b[0m\u001b[1;33m]\u001b[0m \u001b[1;33m==\u001b[0m \u001b[1;36m0\u001b[0m\u001b[1;33m)\u001b[0m\u001b[1;33m,\u001b[0m\u001b[1;34m'sales_9_month'\u001b[0m\u001b[1;33m]\u001b[0m \u001b[1;33m,\u001b[0m \u001b[0mcolor\u001b[0m\u001b[1;33m=\u001b[0m\u001b[1;34m'b'\u001b[0m\u001b[1;33m,\u001b[0m\u001b[0mshade\u001b[0m\u001b[1;33m=\u001b[0m\u001b[1;32mTrue\u001b[0m\u001b[1;33m,\u001b[0m \u001b[0mlabel\u001b[0m\u001b[1;33m=\u001b[0m\u001b[1;34m'Part risk flag=0'\u001b[0m\u001b[1;33m)\u001b[0m\u001b[1;33m\u001b[0m\u001b[0m\n\u001b[0m\u001b[0;32m      3\u001b[0m \u001b[0max\u001b[0m\u001b[1;33m=\u001b[0m\u001b[0msns\u001b[0m\u001b[1;33m.\u001b[0m\u001b[0mkdeplot\u001b[0m\u001b[1;33m(\u001b[0m\u001b[0mnew_data\u001b[0m\u001b[1;33m.\u001b[0m\u001b[0mloc\u001b[0m\u001b[1;33m[\u001b[0m\u001b[1;33m(\u001b[0m\u001b[0mnew_data\u001b[0m\u001b[1;33m[\u001b[0m\u001b[1;34m'deck_risk'\u001b[0m\u001b[1;33m]\u001b[0m \u001b[1;33m==\u001b[0m \u001b[1;36m1\u001b[0m\u001b[1;33m)\u001b[0m\u001b[1;33m,\u001b[0m\u001b[1;34m'sales_9_month'\u001b[0m\u001b[1;33m]\u001b[0m \u001b[1;33m,\u001b[0m \u001b[0mcolor\u001b[0m\u001b[1;33m=\u001b[0m\u001b[1;34m'r'\u001b[0m\u001b[1;33m,\u001b[0m\u001b[0mshade\u001b[0m\u001b[1;33m=\u001b[0m\u001b[1;32mTrue\u001b[0m\u001b[1;33m,\u001b[0m \u001b[0mlabel\u001b[0m\u001b[1;33m=\u001b[0m\u001b[1;34m'Part risk flag=1'\u001b[0m\u001b[1;33m)\u001b[0m\u001b[1;33m\u001b[0m\u001b[0m\n\u001b[0;32m      4\u001b[0m \u001b[0mplt\u001b[0m\u001b[1;33m.\u001b[0m\u001b[0mtitle\u001b[0m\u001b[1;33m(\u001b[0m\u001b[1;34m'Part risk flag'\u001b[0m\u001b[1;33m)\u001b[0m\u001b[1;33m\u001b[0m\u001b[0m\n\u001b[0;32m      5\u001b[0m \u001b[0mplt\u001b[0m\u001b[1;33m.\u001b[0m\u001b[0mshow\u001b[0m\u001b[1;33m(\u001b[0m\u001b[1;33m)\u001b[0m\u001b[1;33m\u001b[0m\u001b[0m\n",
      "\u001b[1;31mNameError\u001b[0m: name 'new_data' is not defined"
     ]
    }
   ],
   "source": [
    "fig = plt.figure(figsize=(15,4))\n",
    "ax=sns.kdeplot(new_data.loc[(new_data['deck_risk'] == 0),'sales_9_month'] , color='b',shade=True, label='Part risk flag=0')\n",
    "ax=sns.kdeplot(new_data.loc[(new_data['deck_risk'] == 1),'sales_9_month'] , color='r',shade=True, label='Part risk flag=1')\n",
    "plt.title('Part risk flag')\n",
    "plt.show()"
   ]
  },
  {
   "cell_type": "code",
   "execution_count": 31,
   "metadata": {},
   "outputs": [
    {
     "ename": "NameError",
     "evalue": "name 'new_data' is not defined",
     "output_type": "error",
     "traceback": [
      "\u001b[1;31m---------------------------------------------------------------------------\u001b[0m",
      "\u001b[1;31mNameError\u001b[0m                                 Traceback (most recent call last)",
      "\u001b[1;32m<ipython-input-31-7fb332181bd4>\u001b[0m in \u001b[0;36m<module>\u001b[1;34m()\u001b[0m\n\u001b[0;32m      1\u001b[0m \u001b[0mfig\u001b[0m \u001b[1;33m=\u001b[0m \u001b[0mplt\u001b[0m\u001b[1;33m.\u001b[0m\u001b[0mfigure\u001b[0m\u001b[1;33m(\u001b[0m\u001b[0mfigsize\u001b[0m\u001b[1;33m=\u001b[0m\u001b[1;33m(\u001b[0m\u001b[1;36m15\u001b[0m\u001b[1;33m,\u001b[0m\u001b[1;36m4\u001b[0m\u001b[1;33m)\u001b[0m\u001b[1;33m)\u001b[0m\u001b[1;33m\u001b[0m\u001b[0m\n\u001b[1;32m----> 2\u001b[1;33m \u001b[0max\u001b[0m\u001b[1;33m=\u001b[0m\u001b[0msns\u001b[0m\u001b[1;33m.\u001b[0m\u001b[0mkdeplot\u001b[0m\u001b[1;33m(\u001b[0m\u001b[0mnew_data\u001b[0m\u001b[1;33m.\u001b[0m\u001b[0mloc\u001b[0m\u001b[1;33m[\u001b[0m\u001b[1;33m(\u001b[0m\u001b[0mnew_data\u001b[0m\u001b[1;33m[\u001b[0m\u001b[1;34m'went_on_backorder'\u001b[0m\u001b[1;33m]\u001b[0m \u001b[1;33m==\u001b[0m \u001b[1;36m0\u001b[0m\u001b[1;33m)\u001b[0m\u001b[1;33m,\u001b[0m\u001b[1;34m'lead_time'\u001b[0m\u001b[1;33m]\u001b[0m \u001b[1;33m,\u001b[0m \u001b[0mcolor\u001b[0m\u001b[1;33m=\u001b[0m\u001b[1;34m'b'\u001b[0m\u001b[1;33m,\u001b[0m\u001b[0mshade\u001b[0m\u001b[1;33m=\u001b[0m\u001b[1;32mTrue\u001b[0m\u001b[1;33m,\u001b[0m \u001b[0mlabel\u001b[0m\u001b[1;33m=\u001b[0m\u001b[1;34m'no backorder'\u001b[0m\u001b[1;33m)\u001b[0m\u001b[1;33m\u001b[0m\u001b[0m\n\u001b[0m\u001b[0;32m      3\u001b[0m \u001b[0max\u001b[0m\u001b[1;33m=\u001b[0m\u001b[0msns\u001b[0m\u001b[1;33m.\u001b[0m\u001b[0mkdeplot\u001b[0m\u001b[1;33m(\u001b[0m\u001b[0mnew_data\u001b[0m\u001b[1;33m.\u001b[0m\u001b[0mloc\u001b[0m\u001b[1;33m[\u001b[0m\u001b[1;33m(\u001b[0m\u001b[0mnew_data\u001b[0m\u001b[1;33m[\u001b[0m\u001b[1;34m'went_on_backorder'\u001b[0m\u001b[1;33m]\u001b[0m \u001b[1;33m==\u001b[0m \u001b[1;36m1\u001b[0m\u001b[1;33m)\u001b[0m\u001b[1;33m,\u001b[0m\u001b[1;34m'lead_time'\u001b[0m\u001b[1;33m]\u001b[0m \u001b[1;33m,\u001b[0m \u001b[0mcolor\u001b[0m\u001b[1;33m=\u001b[0m\u001b[1;34m'g'\u001b[0m\u001b[1;33m,\u001b[0m\u001b[0mshade\u001b[0m\u001b[1;33m=\u001b[0m\u001b[1;32mTrue\u001b[0m\u001b[1;33m,\u001b[0m \u001b[0mlabel\u001b[0m\u001b[1;33m=\u001b[0m\u001b[1;34m'backorder'\u001b[0m\u001b[1;33m)\u001b[0m\u001b[1;33m\u001b[0m\u001b[0m\n\u001b[0;32m      4\u001b[0m \u001b[0mplt\u001b[0m\u001b[1;33m.\u001b[0m\u001b[0mtitle\u001b[0m\u001b[1;33m(\u001b[0m\u001b[1;34m'lead time - backorder V.S. No backorder'\u001b[0m\u001b[1;33m)\u001b[0m\u001b[1;33m\u001b[0m\u001b[0m\n\u001b[0;32m      5\u001b[0m \u001b[0mplt\u001b[0m\u001b[1;33m.\u001b[0m\u001b[0mshow\u001b[0m\u001b[1;33m(\u001b[0m\u001b[1;33m)\u001b[0m\u001b[1;33m\u001b[0m\u001b[0m\n",
      "\u001b[1;31mNameError\u001b[0m: name 'new_data' is not defined"
     ]
    }
   ],
   "source": [
    "fig = plt.figure(figsize=(15,4))\n",
    "ax=sns.kdeplot(new_data.loc[(new_data['went_on_backorder'] == 0),'lead_time'] , color='b',shade=True, label='no backorder')\n",
    "ax=sns.kdeplot(new_data.loc[(new_data['went_on_backorder'] == 1),'lead_time'] , color='g',shade=True, label='backorder')\n",
    "plt.title('lead time - backorder V.S. No backorder')\n",
    "plt.show()"
   ]
  },
  {
   "cell_type": "code",
   "execution_count": 32,
   "metadata": {},
   "outputs": [
    {
     "ename": "NameError",
     "evalue": "name 'new_data' is not defined",
     "output_type": "error",
     "traceback": [
      "\u001b[1;31m---------------------------------------------------------------------------\u001b[0m",
      "\u001b[1;31mNameError\u001b[0m                                 Traceback (most recent call last)",
      "\u001b[1;32m<ipython-input-32-5219a6a4e0b6>\u001b[0m in \u001b[0;36m<module>\u001b[1;34m()\u001b[0m\n\u001b[1;32m----> 1\u001b[1;33m \u001b[0mdata\u001b[0m \u001b[1;33m=\u001b[0m \u001b[0mnew_data\u001b[0m\u001b[1;33m[\u001b[0m\u001b[1;33m[\u001b[0m\u001b[1;34m'went_on_backorder'\u001b[0m\u001b[1;33m,\u001b[0m\u001b[1;34m'lead_time'\u001b[0m\u001b[1;33m]\u001b[0m\u001b[1;33m]\u001b[0m\u001b[1;33m\u001b[0m\u001b[0m\n\u001b[0m\u001b[0;32m      2\u001b[0m \u001b[0mcorrelation\u001b[0m \u001b[1;33m=\u001b[0m \u001b[0mdata\u001b[0m\u001b[1;33m.\u001b[0m\u001b[0mcorr\u001b[0m\u001b[1;33m(\u001b[0m\u001b[0mmethod\u001b[0m\u001b[1;33m=\u001b[0m\u001b[1;34m'pearson'\u001b[0m\u001b[1;33m)\u001b[0m\u001b[1;33m\u001b[0m\u001b[0m\n\u001b[0;32m      3\u001b[0m \u001b[0mcorrelation\u001b[0m\u001b[1;33m\u001b[0m\u001b[0m\n",
      "\u001b[1;31mNameError\u001b[0m: name 'new_data' is not defined"
     ]
    }
   ],
   "source": [
    "data = new_data[['went_on_backorder','lead_time']]\n",
    "correlation = data.corr(method='pearson')\n",
    "correlation"
   ]
  },
  {
   "cell_type": "code",
   "execution_count": null,
   "metadata": {
    "collapsed": true
   },
   "outputs": [],
   "source": []
  },
  {
   "cell_type": "code",
   "execution_count": null,
   "metadata": {
    "collapsed": true
   },
   "outputs": [],
   "source": [
    "g = sns.lmplot(x='forecast_9_month', y='local_bo_qty', hue='went_on_backorder',\n",
    "               truncate=True, size=5, data=new_data)\n",
    "\n",
    "# Use more informative axis labels than are provided by default\n",
    "g.set_axis_labels(\"forecast sales for next 9 month\", \"Amount of stock orders overdue\")\n",
    "plt.show()"
   ]
  },
  {
   "cell_type": "code",
   "execution_count": null,
   "metadata": {
    "collapsed": true,
    "scrolled": true
   },
   "outputs": [],
   "source": []
  },
  {
   "cell_type": "code",
   "execution_count": null,
   "metadata": {
    "collapsed": true
   },
   "outputs": [],
   "source": [
    "#c=new_data[['local_bo_qty','went_on_backorder']]\n",
    "#c=new_data[new_data.went_on_backorder==1]\n",
    "plt.scatter(new_data.went_on_backorder, new_data.local_bo_qty)\n",
    "plt.show()"
   ]
  },
  {
   "cell_type": "code",
   "execution_count": 24,
   "metadata": {},
   "outputs": [
    {
     "ename": "NameError",
     "evalue": "name 'new_data' is not defined",
     "output_type": "error",
     "traceback": [
      "\u001b[1;31m---------------------------------------------------------------------------\u001b[0m",
      "\u001b[1;31mNameError\u001b[0m                                 Traceback (most recent call last)",
      "\u001b[1;32m<ipython-input-24-f311b855c546>\u001b[0m in \u001b[0;36m<module>\u001b[1;34m()\u001b[0m\n\u001b[0;32m      2\u001b[0m \u001b[1;33m\u001b[0m\u001b[0m\n\u001b[0;32m      3\u001b[0m \u001b[0mfig\u001b[0m \u001b[1;33m=\u001b[0m \u001b[0mplt\u001b[0m\u001b[1;33m.\u001b[0m\u001b[0mfigure\u001b[0m\u001b[1;33m(\u001b[0m\u001b[0mfigsize\u001b[0m\u001b[1;33m=\u001b[0m\u001b[1;33m(\u001b[0m\u001b[1;36m15\u001b[0m\u001b[1;33m,\u001b[0m\u001b[1;36m4\u001b[0m\u001b[1;33m)\u001b[0m\u001b[1;33m)\u001b[0m\u001b[1;33m\u001b[0m\u001b[0m\n\u001b[1;32m----> 4\u001b[1;33m \u001b[0max\u001b[0m\u001b[1;33m=\u001b[0m\u001b[0msns\u001b[0m\u001b[1;33m.\u001b[0m\u001b[0mkdeplot\u001b[0m\u001b[1;33m(\u001b[0m\u001b[0mnew_data\u001b[0m\u001b[1;33m.\u001b[0m\u001b[0mloc\u001b[0m\u001b[1;33m[\u001b[0m\u001b[1;33m(\u001b[0m\u001b[0mnew_data\u001b[0m\u001b[1;33m[\u001b[0m\u001b[1;34m'went_on_backorder'\u001b[0m\u001b[1;33m]\u001b[0m \u001b[1;33m==\u001b[0m \u001b[1;36m0\u001b[0m\u001b[1;33m)\u001b[0m\u001b[1;33m,\u001b[0m\u001b[1;34m'lead_time'\u001b[0m\u001b[1;33m]\u001b[0m \u001b[1;33m,\u001b[0m \u001b[0mcolor\u001b[0m\u001b[1;33m=\u001b[0m\u001b[1;34m'b'\u001b[0m\u001b[1;33m,\u001b[0m\u001b[0mshade\u001b[0m\u001b[1;33m=\u001b[0m\u001b[1;32mTrue\u001b[0m\u001b[1;33m,\u001b[0m \u001b[0mlabel\u001b[0m\u001b[1;33m=\u001b[0m\u001b[1;34m'backorder=0'\u001b[0m\u001b[1;33m)\u001b[0m\u001b[1;33m\u001b[0m\u001b[0m\n\u001b[0m\u001b[0;32m      5\u001b[0m \u001b[0max\u001b[0m\u001b[1;33m=\u001b[0m\u001b[0msns\u001b[0m\u001b[1;33m.\u001b[0m\u001b[0mkdeplot\u001b[0m\u001b[1;33m(\u001b[0m\u001b[0mnew_data\u001b[0m\u001b[1;33m.\u001b[0m\u001b[0mloc\u001b[0m\u001b[1;33m[\u001b[0m\u001b[1;33m(\u001b[0m\u001b[0mnew_data\u001b[0m\u001b[1;33m[\u001b[0m\u001b[1;34m'went_on_backorder'\u001b[0m\u001b[1;33m]\u001b[0m \u001b[1;33m==\u001b[0m \u001b[1;36m1\u001b[0m\u001b[1;33m)\u001b[0m\u001b[1;33m,\u001b[0m\u001b[1;34m'lead_time'\u001b[0m\u001b[1;33m]\u001b[0m \u001b[1;33m,\u001b[0m \u001b[0mcolor\u001b[0m\u001b[1;33m=\u001b[0m\u001b[1;34m'r'\u001b[0m\u001b[1;33m,\u001b[0m\u001b[0mshade\u001b[0m\u001b[1;33m=\u001b[0m\u001b[1;32mTrue\u001b[0m\u001b[1;33m,\u001b[0m \u001b[0mlabel\u001b[0m\u001b[1;33m=\u001b[0m\u001b[1;34m'backorder=1'\u001b[0m\u001b[1;33m)\u001b[0m\u001b[1;33m\u001b[0m\u001b[0m\n\u001b[0;32m      6\u001b[0m \u001b[0mplt\u001b[0m\u001b[1;33m.\u001b[0m\u001b[0mtitle\u001b[0m\u001b[1;33m(\u001b[0m\u001b[1;34m'Transit time for product (if available)'\u001b[0m\u001b[1;33m)\u001b[0m\u001b[1;33m\u001b[0m\u001b[0m\n",
      "\u001b[1;31mNameError\u001b[0m: name 'new_data' is not defined"
     ]
    }
   ],
   "source": [
    "#\"Does lead_time affect the probability of a backorder?\" How could we figure that out?\n",
    "\n",
    "fig = plt.figure(figsize=(15,4))\n",
    "ax=sns.kdeplot(new_data.loc[(new_data['went_on_backorder'] == 0),'lead_time'] , color='b',shade=True, label='backorder=0')\n",
    "ax=sns.kdeplot(new_data.loc[(new_data['went_on_backorder'] == 1),'lead_time'] , color='r',shade=True, label='backorder=1')\n",
    "plt.title('Transit time for product (if available)')\n",
    "plt.show()"
   ]
  },
  {
   "cell_type": "code",
   "execution_count": null,
   "metadata": {
    "collapsed": true
   },
   "outputs": [],
   "source": []
  },
  {
   "cell_type": "code",
   "execution_count": null,
   "metadata": {
    "collapsed": true
   },
   "outputs": [],
   "source": [
    "#Relationship between forecast sales and sales\n",
    "\n",
    "plt.plot(new_data.forecast_9_month,new_data.sales_9_month, color='red') \n",
    "\n",
    "\n",
    "# Add the axis labels\n",
    "plt.xlabel('forecast')\n",
    "plt.ylabel('Sales')\n",
    "\n",
    "\n",
    "# Add a title and display the plot\n",
    "plt.title('sales vs forecast')\n",
    "plt.show()"
   ]
  },
  {
   "cell_type": "code",
   "execution_count": null,
   "metadata": {
    "collapsed": true
   },
   "outputs": [],
   "source": [
    "plt.scatter(new_data.went_on_backorder, new_data.forecast_6_month)\n",
    "plt.show()"
   ]
  },
  {
   "cell_type": "code",
   "execution_count": null,
   "metadata": {
    "collapsed": true
   },
   "outputs": [],
   "source": []
  },
  {
   "cell_type": "code",
   "execution_count": null,
   "metadata": {
    "collapsed": true
   },
   "outputs": [],
   "source": []
  },
  {
   "cell_type": "code",
   "execution_count": null,
   "metadata": {
    "collapsed": true
   },
   "outputs": [],
   "source": []
  },
  {
   "cell_type": "code",
   "execution_count": null,
   "metadata": {
    "collapsed": true
   },
   "outputs": [],
   "source": []
  },
  {
   "cell_type": "code",
   "execution_count": null,
   "metadata": {
    "collapsed": true
   },
   "outputs": [],
   "source": []
  },
  {
   "cell_type": "code",
   "execution_count": null,
   "metadata": {
    "collapsed": true
   },
   "outputs": [],
   "source": []
  },
  {
   "cell_type": "code",
   "execution_count": null,
   "metadata": {
    "collapsed": true
   },
   "outputs": [],
   "source": []
  },
  {
   "cell_type": "code",
   "execution_count": null,
   "metadata": {
    "collapsed": true
   },
   "outputs": [],
   "source": [
    "def plot_2d(X, y, title=''):\n",
    "    from sklearn.preprocessing import StandardScaler\n",
    "    X_std = StandardScaler().fit_transform(X)\n",
    "\n",
    "    from sklearn.decomposition import PCA\n",
    "    dec = PCA(n_components=2)\n",
    "    X_reduced = dec.fit_transform(X_std)\n",
    "    \n",
    "    f, ax = plt.subplots(figsize=(6,6))\n",
    "    ax.scatter(X_reduced[y==0,0], X_reduced[y==0,1], alpha=0.5, \n",
    "               facecolors='none', edgecolors='cornflowerblue', label=\"Negative\")\n",
    "    ax.scatter(X_reduced[y==1,0], X_reduced[y==1,1], c='darkorange', marker='*', \n",
    "               label='Positive')\n",
    "    plt.title(\"Explained variance ratio: %.2f%%\" % (100*dec.explained_variance_ratio_.sum()))\n",
    "    ax.legend(loc='lower left')\n",
    "    ax.spines['right'].set_visible(False)\n",
    "    ax.spines['top'].set_visible(False)\n",
    "    ax.set_xlabel('PC1')\n",
    "    ax.set_ylabel('PC2')\n",
    "    plt.show()\n",
    "    \n",
    "sample = new_data.sample(5000, random_state=36)\n",
    "\n",
    "X_sample = sample.drop('went_on_backorder',axis=1).values\n",
    "y_sample = sample['went_on_backorder'].values\n",
    "\n",
    "plot_2d(X_sample, y_sample)"
   ]
  },
  {
   "cell_type": "code",
   "execution_count": null,
   "metadata": {
    "collapsed": true
   },
   "outputs": [],
   "source": []
  },
  {
   "cell_type": "code",
   "execution_count": null,
   "metadata": {
    "collapsed": true
   },
   "outputs": [],
   "source": []
  },
  {
   "cell_type": "code",
   "execution_count": null,
   "metadata": {
    "collapsed": true
   },
   "outputs": [],
   "source": [
    "#sales per month\n",
    "sales_month=(new_data.sales_9_month).sort_index()\n",
    "sales_month.plot(kind='bar')\n",
    "_=plt.xlabel('sales')\n",
    "_=plt.ylabel('sales volume')\n",
    "plt.title('Sales')\n",
    "plt.show()"
   ]
  },
  {
   "cell_type": "code",
   "execution_count": null,
   "metadata": {
    "collapsed": true
   },
   "outputs": [],
   "source": []
  },
  {
   "cell_type": "code",
   "execution_count": null,
   "metadata": {
    "collapsed": true
   },
   "outputs": [],
   "source": []
  },
  {
   "cell_type": "code",
   "execution_count": null,
   "metadata": {
    "collapsed": true
   },
   "outputs": [],
   "source": []
  },
  {
   "cell_type": "code",
   "execution_count": null,
   "metadata": {
    "collapsed": true
   },
   "outputs": [],
   "source": []
  },
  {
   "cell_type": "code",
   "execution_count": null,
   "metadata": {
    "collapsed": true
   },
   "outputs": [],
   "source": []
  },
  {
   "cell_type": "code",
   "execution_count": null,
   "metadata": {
    "collapsed": true
   },
   "outputs": [],
   "source": []
  },
  {
   "cell_type": "code",
   "execution_count": null,
   "metadata": {
    "collapsed": true
   },
   "outputs": [],
   "source": []
  },
  {
   "cell_type": "code",
   "execution_count": null,
   "metadata": {
    "collapsed": true
   },
   "outputs": [],
   "source": [
    "np.shape(train_data)"
   ]
  },
  {
   "cell_type": "code",
   "execution_count": null,
   "metadata": {
    "collapsed": true
   },
   "outputs": [],
   "source": [
    "#sns.pairplot(train_data);\n",
    "#plt.show()\n",
    "\n",
    "\n",
    "from sklearn.linear_model import LogisticRegression\n",
    "from sklearn.metrics import confusion_matrix, classification_report\n",
    "from sklearn.model_selection import train_test_split\n",
    "\n",
    "X, y = train_data.drop(['lead_time','went_on_backorder'],axis=1), train_data.went_on_backorder\n",
    "X_train, X_test, y_train, y_test = train_test_split(X, y,\n",
    "                                                   random_state=0)\n",
    "# Create training and test sets\n",
    "X_train, X_test, y_train, y_test = train_test_split(X, y, test_size = 0.4, random_state=42)\n",
    "\n",
    "# Create the classifier: logreg\n",
    "logreg = LogisticRegression()\n",
    "\n",
    "# Fit the classifier to the training data\n",
    "logreg.fit(X_train, y_train)\n",
    "\n",
    "# Predict the labels of the test set: y_pred\n",
    "y_pred = logreg.predict(X_test)\n",
    "\n",
    "#print(confusion_matrix(y_test, y_pred))\n",
    "#print(classification_report(y_test, y_pred))\n",
    "#print(\"Score: {}\".format(logreg.score(X_test, y_test)))\n",
    "training_accuracy = logreg.score(X_train, y_train)\n",
    "test_accuracy = logreg.score(X_test, y_test)\n",
    "print(\"Accuracy on training data: {:0.2f}\".format(training_accuracy))\n",
    "print(\"Accuracy on test data:     {:0.2f}\".format(test_accuracy))\n",
    "\n"
   ]
  },
  {
   "cell_type": "code",
   "execution_count": null,
   "metadata": {
    "collapsed": true
   },
   "outputs": [],
   "source": [
    "from sklearn.linear_model import LinearRegression\n",
    "from sklearn.metrics import mean_squared_error\n",
    "from sklearn.model_selection import train_test_split\n",
    "\n",
    "X, y = train_data.drop(['lead_time','sales_3_month'],axis=1), train_data.sales_3_month\n",
    "X_train, X_test, y_train, y_test = train_test_split(X, y,\n",
    "                                                   random_state=0)\n",
    "\n",
    "# Create training and test sets\n",
    "X_train, X_test, y_train, y_test = train_test_split(X, y, test_size = 0.3, random_state=42)\n",
    "\n",
    "# Create the regressor: reg_all\n",
    "reg_all = LinearRegression()\n",
    "\n",
    "# Fit the regressor to the training data\n",
    "reg_all.fit(X_train, y_train)\n",
    "\n",
    "# Predict on the test data: y_pred\n",
    "y_pred = reg_all.predict(X_test)\n",
    "\n",
    "# Compute and print R^2 and RMSE\n",
    "print(\"R^2: {}\".format(reg_all.score(X_test, y_test)))\n",
    "rmse = np.sqrt(mean_squared_error(y_test, y_pred))\n",
    "print(\"Root Mean Squared Error: {}\".format(rmse))\n",
    "print(np.mean(y_pred))"
   ]
  },
  {
   "cell_type": "code",
   "execution_count": null,
   "metadata": {
    "collapsed": true
   },
   "outputs": [],
   "source": [
    "# Create arrays for features and target variable\n",
    "y = train_data['forecast_3_month'].values\n",
    "X = train_data['sales_3_month'].values\n",
    "\n",
    "# Print the dimensions of X and y before reshaping\n",
    "print(\"Dimensions of y before reshaping: {}\".format(y.shape))\n",
    "print(\"Dimensions of X before reshaping: {}\".format(X.shape))\n",
    "\n",
    "# Reshape X and y\n",
    "y = y.reshape(-1, 1)\n",
    "X = X.reshape(-1, 1)"
   ]
  },
  {
   "cell_type": "code",
   "execution_count": null,
   "metadata": {
    "collapsed": true
   },
   "outputs": [],
   "source": [
    "sns.heatmap(train_data.corr(), square=True, cmap='RdYlGn')\n",
    "plt.show()"
   ]
  },
  {
   "cell_type": "code",
   "execution_count": null,
   "metadata": {
    "collapsed": true
   },
   "outputs": [],
   "source": [
    "X, y = train_data.drop(['sales_3_month','forecast_3_month','forecast_6_month','forecast_9_month'],axis=1), train_data.sales_3_month\n",
    "\n",
    "# Create training and test sets\n",
    "X_train, X_test, y_train, y_test = train_test_split(X, y, test_size = 0.3, random_state=42)\n",
    "\n",
    "def display_plot(cv_scores, cv_scores_std):\n",
    "    fig = plt.figure()\n",
    "    ax = fig.add_subplot(1,1,1)\n",
    "    ax.plot(alpha_space, cv_scores)\n",
    "\n",
    "    std_error = cv_scores_std / np.sqrt(10)\n",
    "\n",
    "    ax.fill_between(alpha_space, cv_scores + std_error, cv_scores - std_error, alpha=0.2)\n",
    "    ax.set_ylabel('CV Score +/- Std Error')\n",
    "    ax.set_xlabel('Alpha')\n",
    "    ax.axhline(np.max(cv_scores), linestyle='--', color='.5')\n",
    "    ax.set_xlim([alpha_space[0], alpha_space[-1]])\n",
    "    ax.set_xscale('log')\n",
    "    plt.show()\n",
    "from sklearn.linear_model import Ridge\n",
    "from sklearn.model_selection import cross_val_score\n",
    "\n",
    "# Setup the array of alphas and lists to store scores\n",
    "alpha_space = np.logspace(-4, 0, 50)\n",
    "ridge_scores = []\n",
    "ridge_scores_std = []\n",
    "\n",
    "# Create a ridge regressor: ridge\n",
    "ridge = Ridge(normalize=True)\n",
    "\n",
    "# Compute scores over range of alphas\n",
    "for alpha in alpha_space:\n",
    "\n",
    "    # Specify the alpha value to use: ridge.alpha\n",
    "    ridge.alpha = alpha\n",
    "    \n",
    "    # Perform 10-fold CV: ridge_cv_scores\n",
    "    ridge_cv_scores = cross_val_score(ridge, X, y, cv=10)\n",
    "    \n",
    "    # Append the mean of ridge_cv_scores to ridge_scores\n",
    "    ridge_scores.append(np.mean(ridge_cv_scores))\n",
    "    \n",
    "    # Append the std of ridge_cv_scores to ridge_scores_std\n",
    "    ridge_scores_std.append(np.std(ridge_cv_scores))\n",
    "\n",
    "# Display the plot\n",
    "display_plot(ridge_scores, ridge_scores_std)\n",
    "print( ridge_scores)\n"
   ]
  },
  {
   "cell_type": "code",
   "execution_count": null,
   "metadata": {
    "collapsed": true,
    "scrolled": true
   },
   "outputs": [],
   "source": [
    "X= train_data.drop(['sales_3_month','forecast_3_month','sales_6_month','forecast_6_month','sales_9_month','forecast_9_month'],axis=1)\n",
    "y=train_data[['sales_3_month','sales_6_month','sales_9_month']]\n",
    "# Create training and test sets\n",
    "X_train, X_test, y_train, y_test = train_test_split(X, y, test_size = 0.3, random_state=42)\n",
    "\n",
    "X = np.transpose(np.array(train_data[:-1]))\n",
    "y = np.transpose(np.array(train_data[-1:]))\n",
    "m = y.size # number of training examples\n",
    "#Insert the usual column of 1's into the \"X\" matrix\n",
    "X = np.insert(X,0,3,axis=1)\n",
    "\n",
    "#Quick visualize data\n",
    "plt.grid(True)\n",
    "plt.xlim([-100,5000])\n",
    "dummy = plt.hist(X[:,0],label = 'col1')\n",
    "dummy = plt.hist(X[:,1],label = 'col2')\n",
    "dummy = plt.hist(X[:,2],label = 'col3')\n",
    "dummy = plt.hist(X[:,3],label = 'col4')\n",
    "dummy = plt.hist(X[:,4],label = 'col5')\n",
    "dummy = plt.hist(X[:,5],label = 'col6')\n",
    "dummy = plt.hist(X[:,6],label = 'col7')\n",
    "dummy = plt.hist(X[:,7],label = 'col8')\n",
    "dummy = plt.hist(X[:,8],label = 'col9')\n",
    "dummy = plt.hist(X[:,9],label = 'col10')\n",
    "dummy = plt.hist(X[:,10],label = 'col11')\n",
    "dummy = plt.hist(X[:,11],label = 'col12')\n",
    "dummy = plt.hist(X[:,12],label = 'col13')\n",
    "dummy = plt.hist(X[:,13],label = 'col14')\n",
    "dummy = plt.hist(X[:,14],label = 'col15')\n",
    "dummy = plt.hist(X[:,15],label = 'col16')\n",
    "dummy = plt.hist(X[:,16],label = 'col17')\n",
    "plt.title('Clearly we need feature normalization.')\n",
    "plt.xlabel('Column Value')\n",
    "plt.ylabel('Counts')\n",
    "dummy = plt.legend()\n",
    "plt.show()"
   ]
  },
  {
   "cell_type": "code",
   "execution_count": null,
   "metadata": {
    "collapsed": true
   },
   "outputs": [],
   "source": [
    "\n",
    "from mpl_toolkits.mplot3d import axes3d, Axes3D\n",
    "from matplotlib import cm\n",
    "import itertools\n",
    "stored_feature_means, stored_feature_stds = [], []\n",
    "Xnorm = X.copy()\n",
    "for icol in range(Xnorm.shape[1]):\n",
    "    stored_feature_means.append(np.mean(Xnorm[:,icol]))\n",
    "    stored_feature_stds.append(np.std(Xnorm[:,icol]))\n",
    "    #Skip the first column\n",
    "    if not icol: continue\n",
    "    #Faster to not recompute the mean and std again, just used stored values\n",
    "    Xnorm[:,icol] = (Xnorm[:,icol] - stored_feature_means[-1])/stored_feature_stds[-1]\n",
    "\n",
    "#Quick visualize the feature-normalized data\n",
    "plt.grid(True)\n",
    "plt.xlim([-5,5])\n",
    "dummy = plt.hist(Xnorm[:,0],label = 'col1')\n",
    "dummy = plt.hist(Xnorm[:,1],label = 'col2')\n",
    "dummy = plt.hist(Xnorm[:,2],label = 'col3')\n",
    "dummy = plt.hist(Xnorm[:,3],label = 'col4')\n",
    "dummy = plt.hist(Xnorm[:,4],label = 'col5')\n",
    "dummy = plt.hist(Xnorm[:,5],label = 'col6')\n",
    "dummy = plt.hist(Xnorm[:,6],label = 'col7')\n",
    "dummy = plt.hist(Xnorm[:,7],label = 'col8')\n",
    "dummy = plt.hist(Xnorm[:,8],label = 'col9')\n",
    "dummy = plt.hist(Xnorm[:,9],label = 'col10')\n",
    "dummy = plt.hist(Xnorm[:,10],label = 'col11')\n",
    "dummy = plt.hist(Xnorm[:,11],label = 'col12')\n",
    "dummy = plt.hist(Xnorm[:,12],label = 'col13')\n",
    "dummy = plt.hist(Xnorm[:,13],label = 'col14')\n",
    "dummy = plt.hist(Xnorm[:,14],label = 'col15')\n",
    "dummy = plt.hist(Xnorm[:,15],label = 'col16')\n",
    "dummy = plt.hist(Xnorm[:,16],label = 'col17')\n",
    "plt.title('Feature Normalization Accomplished')\n",
    "plt.xlabel('Column Value')\n",
    "plt.ylabel('Counts')\n",
    "dummy = plt.legend()\n",
    "plt.show()"
   ]
  },
  {
   "cell_type": "code",
   "execution_count": null,
   "metadata": {
    "collapsed": true
   },
   "outputs": [],
   "source": [
    "#Actual gradient descent minimizing routine\n",
    "def descendGradient(X, theta_start = np.zeros(2)):\n",
    "    \"\"\"\n",
    "    theta_start is an n- dimensional vector of initial theta guess\n",
    "    X is matrix with n- columns and m- rows\n",
    "    \"\"\"\n",
    "    theta = theta_start\n",
    "    jvec = [] #Used to plot cost as function of iteration\n",
    "    thetahistory = [] #Used to visualize the minimization path later on\n",
    "    for meaninglessvariable in xrange(iterations):\n",
    "        tmptheta = theta\n",
    "        jvec.append(computeCost(theta,X,y))\n",
    "        # Buggy line\n",
    "        #thetahistory.append(list(tmptheta))\n",
    "        # Fixed line\n",
    "        thetahistory.append(list(theta[:,0]))\n",
    "        #Simultaneously updating theta values\n",
    "        for j in xrange(len(tmptheta)):\n",
    "            tmptheta[j] = theta[j] - (alpha/m)*np.sum((h(initial_theta,X) - y)*np.array(X[:,j]).reshape(m,1))\n",
    "        theta = tmptheta\n",
    "    return theta, thetahistory, jvec"
   ]
  },
  {
   "cell_type": "code",
   "execution_count": null,
   "metadata": {
    "collapsed": true
   },
   "outputs": [],
   "source": [
    "#Run gradient descent with multiple variables, initial theta still set to zeros\n",
    "#(Note! This doesn't work unless we feature normalize! \"overflow encountered in multiply\")\n",
    "initial_theta = np.zeros((Xnorm.shape[1],1))\n",
    "theta, thetahistory, jvec = descendGradient(Xnorm,initial_theta)\n",
    "\n",
    "#Plot convergence of cost function:\n",
    "plotConvergence(jvec)\n"
   ]
  },
  {
   "cell_type": "code",
   "execution_count": null,
   "metadata": {
    "collapsed": true
   },
   "outputs": [],
   "source": [
    "#print \"Final result theta parameters: \\n\",theta\n",
    "print \"Check of result: What is sales for next 3 month?\"\n",
    "ytest = np.array([1650.,3.])\n",
    "#To \"undo\" feature normalization, we \"undo\" 1650 and 3, then plug it into our hypothesis\n",
    "ytestscaled = [(ytest[x]-stored_feature_means[x+1])/stored_feature_stds[x+1] for x in range(len(ytest))]\n",
    "ytestscaled.insert(0,1)\n",
    "print (\"$%0.2f\" % float(h(theta,ytestscaled)))"
   ]
  },
  {
   "cell_type": "code",
   "execution_count": null,
   "metadata": {
    "collapsed": true
   },
   "outputs": [],
   "source": []
  },
  {
   "cell_type": "code",
   "execution_count": null,
   "metadata": {
    "collapsed": true
   },
   "outputs": [],
   "source": []
  },
  {
   "cell_type": "code",
   "execution_count": null,
   "metadata": {
    "collapsed": true
   },
   "outputs": [],
   "source": []
  }
 ],
 "metadata": {
  "kernelspec": {
   "display_name": "Python 3",
   "language": "python",
   "name": "python3"
  },
  "language_info": {
   "codemirror_mode": {
    "name": "ipython",
    "version": 3
   },
   "file_extension": ".py",
   "mimetype": "text/x-python",
   "name": "python",
   "nbconvert_exporter": "python",
   "pygments_lexer": "ipython3",
   "version": "3.6.1"
  }
 },
 "nbformat": 4,
 "nbformat_minor": 2
}
