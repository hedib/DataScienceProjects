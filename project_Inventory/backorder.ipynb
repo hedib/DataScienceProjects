{
 "cells": [
  {
   "cell_type": "markdown",
   "metadata": {
    "collapsed": true
   },
   "source": [
    "## Can You Predict Product Backorders?\n",
    "Based on historical data predict backorder risk for products"
   ]
  },
  {
   "cell_type": "code",
   "execution_count": 16,
   "metadata": {
    "collapsed": true
   },
   "outputs": [],
   "source": [
    "import pandas as pd\n",
    "import matplotlib.pyplot as plt\n",
    "import numpy as np\n",
    "import matplotlib.mlab as mlab\n",
    "import scipy.stats as stats\n",
    "import seaborn as sns\n",
    "from scipy import stats"
   ]
  },
  {
   "cell_type": "code",
   "execution_count": 17,
   "metadata": {
    "collapsed": true
   },
   "outputs": [],
   "source": [
    "train_data_=train_data\n"
   ]
  },
  {
   "cell_type": "code",
   "execution_count": 18,
   "metadata": {},
   "outputs": [
    {
     "name": "stderr",
     "output_type": "stream",
     "text": [
      "C:\\Users\\Hedi\\Anaconda3\\lib\\site-packages\\IPython\\core\\interactiveshell.py:2717: DtypeWarning: Columns (0) have mixed types. Specify dtype option on import or set low_memory=False.\n",
      "  interactivity=interactivity, compiler=compiler, result=result)\n"
     ]
    },
    {
     "data": {
      "text/html": [
       "<div>\n",
       "<style>\n",
       "    .dataframe thead tr:only-child th {\n",
       "        text-align: right;\n",
       "    }\n",
       "\n",
       "    .dataframe thead th {\n",
       "        text-align: left;\n",
       "    }\n",
       "\n",
       "    .dataframe tbody tr th {\n",
       "        vertical-align: top;\n",
       "    }\n",
       "</style>\n",
       "<table border=\"1\" class=\"dataframe\">\n",
       "  <thead>\n",
       "    <tr style=\"text-align: right;\">\n",
       "      <th></th>\n",
       "      <th>sku</th>\n",
       "      <th>national_inv</th>\n",
       "      <th>lead_time</th>\n",
       "      <th>in_transit_qty</th>\n",
       "      <th>forecast_3_month</th>\n",
       "      <th>forecast_6_month</th>\n",
       "      <th>forecast_9_month</th>\n",
       "      <th>sales_1_month</th>\n",
       "      <th>sales_3_month</th>\n",
       "      <th>sales_6_month</th>\n",
       "      <th>...</th>\n",
       "      <th>pieces_past_due</th>\n",
       "      <th>perf_6_month_avg</th>\n",
       "      <th>perf_12_month_avg</th>\n",
       "      <th>local_bo_qty</th>\n",
       "      <th>deck_risk</th>\n",
       "      <th>oe_constraint</th>\n",
       "      <th>ppap_risk</th>\n",
       "      <th>stop_auto_buy</th>\n",
       "      <th>rev_stop</th>\n",
       "      <th>went_on_backorder</th>\n",
       "    </tr>\n",
       "  </thead>\n",
       "  <tbody>\n",
       "    <tr>\n",
       "      <th>1687855</th>\n",
       "      <td>1407754</td>\n",
       "      <td>0.0</td>\n",
       "      <td>2.0</td>\n",
       "      <td>0.0</td>\n",
       "      <td>10.0</td>\n",
       "      <td>10.0</td>\n",
       "      <td>10.0</td>\n",
       "      <td>0.0</td>\n",
       "      <td>5.0</td>\n",
       "      <td>7.0</td>\n",
       "      <td>...</td>\n",
       "      <td>0.0</td>\n",
       "      <td>0.69</td>\n",
       "      <td>0.69</td>\n",
       "      <td>5.0</td>\n",
       "      <td>1</td>\n",
       "      <td>0</td>\n",
       "      <td>0</td>\n",
       "      <td>1</td>\n",
       "      <td>0</td>\n",
       "      <td>0</td>\n",
       "    </tr>\n",
       "    <tr>\n",
       "      <th>1687856</th>\n",
       "      <td>1373987</td>\n",
       "      <td>-1.0</td>\n",
       "      <td>NaN</td>\n",
       "      <td>0.0</td>\n",
       "      <td>5.0</td>\n",
       "      <td>7.0</td>\n",
       "      <td>9.0</td>\n",
       "      <td>1.0</td>\n",
       "      <td>3.0</td>\n",
       "      <td>3.0</td>\n",
       "      <td>...</td>\n",
       "      <td>0.0</td>\n",
       "      <td>-99.00</td>\n",
       "      <td>-99.00</td>\n",
       "      <td>1.0</td>\n",
       "      <td>0</td>\n",
       "      <td>0</td>\n",
       "      <td>0</td>\n",
       "      <td>1</td>\n",
       "      <td>0</td>\n",
       "      <td>0</td>\n",
       "    </tr>\n",
       "    <tr>\n",
       "      <th>1687857</th>\n",
       "      <td>1524346</td>\n",
       "      <td>-1.0</td>\n",
       "      <td>9.0</td>\n",
       "      <td>0.0</td>\n",
       "      <td>7.0</td>\n",
       "      <td>9.0</td>\n",
       "      <td>11.0</td>\n",
       "      <td>0.0</td>\n",
       "      <td>8.0</td>\n",
       "      <td>11.0</td>\n",
       "      <td>...</td>\n",
       "      <td>0.0</td>\n",
       "      <td>0.86</td>\n",
       "      <td>0.84</td>\n",
       "      <td>1.0</td>\n",
       "      <td>1</td>\n",
       "      <td>0</td>\n",
       "      <td>0</td>\n",
       "      <td>0</td>\n",
       "      <td>0</td>\n",
       "      <td>1</td>\n",
       "    </tr>\n",
       "    <tr>\n",
       "      <th>1687858</th>\n",
       "      <td>1439563</td>\n",
       "      <td>62.0</td>\n",
       "      <td>9.0</td>\n",
       "      <td>16.0</td>\n",
       "      <td>39.0</td>\n",
       "      <td>87.0</td>\n",
       "      <td>126.0</td>\n",
       "      <td>35.0</td>\n",
       "      <td>63.0</td>\n",
       "      <td>153.0</td>\n",
       "      <td>...</td>\n",
       "      <td>0.0</td>\n",
       "      <td>0.86</td>\n",
       "      <td>0.84</td>\n",
       "      <td>6.0</td>\n",
       "      <td>0</td>\n",
       "      <td>0</td>\n",
       "      <td>0</td>\n",
       "      <td>1</td>\n",
       "      <td>0</td>\n",
       "      <td>0</td>\n",
       "    </tr>\n",
       "    <tr>\n",
       "      <th>1687859</th>\n",
       "      <td>1502009</td>\n",
       "      <td>19.0</td>\n",
       "      <td>4.0</td>\n",
       "      <td>0.0</td>\n",
       "      <td>0.0</td>\n",
       "      <td>0.0</td>\n",
       "      <td>0.0</td>\n",
       "      <td>2.0</td>\n",
       "      <td>7.0</td>\n",
       "      <td>12.0</td>\n",
       "      <td>...</td>\n",
       "      <td>0.0</td>\n",
       "      <td>0.73</td>\n",
       "      <td>0.78</td>\n",
       "      <td>1.0</td>\n",
       "      <td>0</td>\n",
       "      <td>0</td>\n",
       "      <td>0</td>\n",
       "      <td>1</td>\n",
       "      <td>0</td>\n",
       "      <td>0</td>\n",
       "    </tr>\n",
       "  </tbody>\n",
       "</table>\n",
       "<p>5 rows × 23 columns</p>\n",
       "</div>"
      ],
      "text/plain": [
       "             sku  national_inv  lead_time  in_transit_qty  forecast_3_month  \\\n",
       "1687855  1407754           0.0        2.0             0.0              10.0   \n",
       "1687856  1373987          -1.0        NaN             0.0               5.0   \n",
       "1687857  1524346          -1.0        9.0             0.0               7.0   \n",
       "1687858  1439563          62.0        9.0            16.0              39.0   \n",
       "1687859  1502009          19.0        4.0             0.0               0.0   \n",
       "\n",
       "         forecast_6_month  forecast_9_month  sales_1_month  sales_3_month  \\\n",
       "1687855              10.0              10.0            0.0            5.0   \n",
       "1687856               7.0               9.0            1.0            3.0   \n",
       "1687857               9.0              11.0            0.0            8.0   \n",
       "1687858              87.0             126.0           35.0           63.0   \n",
       "1687859               0.0               0.0            2.0            7.0   \n",
       "\n",
       "         sales_6_month        ...          pieces_past_due  perf_6_month_avg  \\\n",
       "1687855            7.0        ...                      0.0              0.69   \n",
       "1687856            3.0        ...                      0.0            -99.00   \n",
       "1687857           11.0        ...                      0.0              0.86   \n",
       "1687858          153.0        ...                      0.0              0.86   \n",
       "1687859           12.0        ...                      0.0              0.73   \n",
       "\n",
       "         perf_12_month_avg  local_bo_qty  deck_risk  oe_constraint  ppap_risk  \\\n",
       "1687855               0.69           5.0          1              0          0   \n",
       "1687856             -99.00           1.0          0              0          0   \n",
       "1687857               0.84           1.0          1              0          0   \n",
       "1687858               0.84           6.0          0              0          0   \n",
       "1687859               0.78           1.0          0              0          0   \n",
       "\n",
       "         stop_auto_buy  rev_stop  went_on_backorder  \n",
       "1687855              1         0                  0  \n",
       "1687856              1         0                  0  \n",
       "1687857              0         0                  1  \n",
       "1687858              1         0                  0  \n",
       "1687859              1         0                  0  \n",
       "\n",
       "[5 rows x 23 columns]"
      ]
     },
     "execution_count": 18,
     "metadata": {},
     "output_type": "execute_result"
    }
   ],
   "source": [
    "raw_data = pd.read_csv(\"Kaggle_Training_Dataset_v2.csv\")\n",
    "\n",
    "train_data = (raw_data\n",
    "              .drop(raw_data.index[len(raw_data)-1])# drop invalid last row\n",
    "              .replace(['Yes', 'No'], [1, 0]))   # make yes/no numeric\n",
    "\n",
    "train_data.tail()"
   ]
  },
  {
   "cell_type": "code",
   "execution_count": 19,
   "metadata": {},
   "outputs": [
    {
     "name": "stdout",
     "output_type": "stream",
     "text": [
      "<class 'pandas.core.frame.DataFrame'>\n",
      "Int64Index: 1687860 entries, 0 to 1687859\n",
      "Data columns (total 23 columns):\n",
      "sku                  1687860 non-null object\n",
      "national_inv         1687860 non-null float64\n",
      "lead_time            1586967 non-null float64\n",
      "in_transit_qty       1687860 non-null float64\n",
      "forecast_3_month     1687860 non-null float64\n",
      "forecast_6_month     1687860 non-null float64\n",
      "forecast_9_month     1687860 non-null float64\n",
      "sales_1_month        1687860 non-null float64\n",
      "sales_3_month        1687860 non-null float64\n",
      "sales_6_month        1687860 non-null float64\n",
      "sales_9_month        1687860 non-null float64\n",
      "min_bank             1687860 non-null float64\n",
      "potential_issue      1687860 non-null int64\n",
      "pieces_past_due      1687860 non-null float64\n",
      "perf_6_month_avg     1687860 non-null float64\n",
      "perf_12_month_avg    1687860 non-null float64\n",
      "local_bo_qty         1687860 non-null float64\n",
      "deck_risk            1687860 non-null int64\n",
      "oe_constraint        1687860 non-null int64\n",
      "ppap_risk            1687860 non-null int64\n",
      "stop_auto_buy        1687860 non-null int64\n",
      "rev_stop             1687860 non-null int64\n",
      "went_on_backorder    1687860 non-null int64\n",
      "dtypes: float64(15), int64(7), object(1)\n",
      "memory usage: 309.1+ MB\n"
     ]
    }
   ],
   "source": [
    "#data Information\n",
    "train_data.info()"
   ]
  },
  {
   "cell_type": "code",
   "execution_count": 20,
   "metadata": {},
   "outputs": [
    {
     "data": {
      "text/html": [
       "<div>\n",
       "<style>\n",
       "    .dataframe thead tr:only-child th {\n",
       "        text-align: right;\n",
       "    }\n",
       "\n",
       "    .dataframe thead th {\n",
       "        text-align: left;\n",
       "    }\n",
       "\n",
       "    .dataframe tbody tr th {\n",
       "        vertical-align: top;\n",
       "    }\n",
       "</style>\n",
       "<table border=\"1\" class=\"dataframe\">\n",
       "  <thead>\n",
       "    <tr style=\"text-align: right;\">\n",
       "      <th></th>\n",
       "      <th>national_inv</th>\n",
       "      <th>lead_time</th>\n",
       "      <th>in_transit_qty</th>\n",
       "      <th>forecast_3_month</th>\n",
       "      <th>forecast_6_month</th>\n",
       "      <th>forecast_9_month</th>\n",
       "      <th>sales_1_month</th>\n",
       "      <th>sales_3_month</th>\n",
       "      <th>sales_6_month</th>\n",
       "      <th>sales_9_month</th>\n",
       "      <th>...</th>\n",
       "      <th>pieces_past_due</th>\n",
       "      <th>perf_6_month_avg</th>\n",
       "      <th>perf_12_month_avg</th>\n",
       "      <th>local_bo_qty</th>\n",
       "      <th>deck_risk</th>\n",
       "      <th>oe_constraint</th>\n",
       "      <th>ppap_risk</th>\n",
       "      <th>stop_auto_buy</th>\n",
       "      <th>rev_stop</th>\n",
       "      <th>went_on_backorder</th>\n",
       "    </tr>\n",
       "  </thead>\n",
       "  <tbody>\n",
       "    <tr>\n",
       "      <th>count</th>\n",
       "      <td>1.687860e+06</td>\n",
       "      <td>1.586967e+06</td>\n",
       "      <td>1.687860e+06</td>\n",
       "      <td>1.687860e+06</td>\n",
       "      <td>1.687860e+06</td>\n",
       "      <td>1.687860e+06</td>\n",
       "      <td>1.687860e+06</td>\n",
       "      <td>1.687860e+06</td>\n",
       "      <td>1.687860e+06</td>\n",
       "      <td>1.687860e+06</td>\n",
       "      <td>...</td>\n",
       "      <td>1.687860e+06</td>\n",
       "      <td>1.687860e+06</td>\n",
       "      <td>1.687860e+06</td>\n",
       "      <td>1.687860e+06</td>\n",
       "      <td>1.687860e+06</td>\n",
       "      <td>1.687860e+06</td>\n",
       "      <td>1.687860e+06</td>\n",
       "      <td>1.687860e+06</td>\n",
       "      <td>1.687860e+06</td>\n",
       "      <td>1.687860e+06</td>\n",
       "    </tr>\n",
       "    <tr>\n",
       "      <th>mean</th>\n",
       "      <td>4.961118e+02</td>\n",
       "      <td>7.872267e+00</td>\n",
       "      <td>4.405202e+01</td>\n",
       "      <td>1.781193e+02</td>\n",
       "      <td>3.449867e+02</td>\n",
       "      <td>5.063644e+02</td>\n",
       "      <td>5.592607e+01</td>\n",
       "      <td>1.750259e+02</td>\n",
       "      <td>3.417288e+02</td>\n",
       "      <td>5.252697e+02</td>\n",
       "      <td>...</td>\n",
       "      <td>2.043724e+00</td>\n",
       "      <td>-6.872059e+00</td>\n",
       "      <td>-6.437947e+00</td>\n",
       "      <td>6.264507e-01</td>\n",
       "      <td>2.295706e-01</td>\n",
       "      <td>1.451542e-04</td>\n",
       "      <td>1.207648e-01</td>\n",
       "      <td>9.638086e-01</td>\n",
       "      <td>4.330928e-04</td>\n",
       "      <td>6.690721e-03</td>\n",
       "    </tr>\n",
       "    <tr>\n",
       "      <th>std</th>\n",
       "      <td>2.961523e+04</td>\n",
       "      <td>7.056024e+00</td>\n",
       "      <td>1.342742e+03</td>\n",
       "      <td>5.026553e+03</td>\n",
       "      <td>9.795152e+03</td>\n",
       "      <td>1.437892e+04</td>\n",
       "      <td>1.928196e+03</td>\n",
       "      <td>5.192378e+03</td>\n",
       "      <td>9.613167e+03</td>\n",
       "      <td>1.483861e+04</td>\n",
       "      <td>...</td>\n",
       "      <td>2.360165e+02</td>\n",
       "      <td>2.655636e+01</td>\n",
       "      <td>2.584333e+01</td>\n",
       "      <td>3.372224e+01</td>\n",
       "      <td>4.205568e-01</td>\n",
       "      <td>1.204713e-02</td>\n",
       "      <td>3.258538e-01</td>\n",
       "      <td>1.867661e-01</td>\n",
       "      <td>2.080638e-02</td>\n",
       "      <td>8.152275e-02</td>\n",
       "    </tr>\n",
       "    <tr>\n",
       "      <th>min</th>\n",
       "      <td>-2.725600e+04</td>\n",
       "      <td>0.000000e+00</td>\n",
       "      <td>0.000000e+00</td>\n",
       "      <td>0.000000e+00</td>\n",
       "      <td>0.000000e+00</td>\n",
       "      <td>0.000000e+00</td>\n",
       "      <td>0.000000e+00</td>\n",
       "      <td>0.000000e+00</td>\n",
       "      <td>0.000000e+00</td>\n",
       "      <td>0.000000e+00</td>\n",
       "      <td>...</td>\n",
       "      <td>0.000000e+00</td>\n",
       "      <td>-9.900000e+01</td>\n",
       "      <td>-9.900000e+01</td>\n",
       "      <td>0.000000e+00</td>\n",
       "      <td>0.000000e+00</td>\n",
       "      <td>0.000000e+00</td>\n",
       "      <td>0.000000e+00</td>\n",
       "      <td>0.000000e+00</td>\n",
       "      <td>0.000000e+00</td>\n",
       "      <td>0.000000e+00</td>\n",
       "    </tr>\n",
       "    <tr>\n",
       "      <th>25%</th>\n",
       "      <td>4.000000e+00</td>\n",
       "      <td>4.000000e+00</td>\n",
       "      <td>0.000000e+00</td>\n",
       "      <td>0.000000e+00</td>\n",
       "      <td>0.000000e+00</td>\n",
       "      <td>0.000000e+00</td>\n",
       "      <td>0.000000e+00</td>\n",
       "      <td>0.000000e+00</td>\n",
       "      <td>0.000000e+00</td>\n",
       "      <td>0.000000e+00</td>\n",
       "      <td>...</td>\n",
       "      <td>0.000000e+00</td>\n",
       "      <td>6.300000e-01</td>\n",
       "      <td>6.600000e-01</td>\n",
       "      <td>0.000000e+00</td>\n",
       "      <td>0.000000e+00</td>\n",
       "      <td>0.000000e+00</td>\n",
       "      <td>0.000000e+00</td>\n",
       "      <td>1.000000e+00</td>\n",
       "      <td>0.000000e+00</td>\n",
       "      <td>0.000000e+00</td>\n",
       "    </tr>\n",
       "    <tr>\n",
       "      <th>50%</th>\n",
       "      <td>1.500000e+01</td>\n",
       "      <td>8.000000e+00</td>\n",
       "      <td>0.000000e+00</td>\n",
       "      <td>0.000000e+00</td>\n",
       "      <td>0.000000e+00</td>\n",
       "      <td>0.000000e+00</td>\n",
       "      <td>0.000000e+00</td>\n",
       "      <td>1.000000e+00</td>\n",
       "      <td>2.000000e+00</td>\n",
       "      <td>4.000000e+00</td>\n",
       "      <td>...</td>\n",
       "      <td>0.000000e+00</td>\n",
       "      <td>8.200000e-01</td>\n",
       "      <td>8.100000e-01</td>\n",
       "      <td>0.000000e+00</td>\n",
       "      <td>0.000000e+00</td>\n",
       "      <td>0.000000e+00</td>\n",
       "      <td>0.000000e+00</td>\n",
       "      <td>1.000000e+00</td>\n",
       "      <td>0.000000e+00</td>\n",
       "      <td>0.000000e+00</td>\n",
       "    </tr>\n",
       "    <tr>\n",
       "      <th>75%</th>\n",
       "      <td>8.000000e+01</td>\n",
       "      <td>9.000000e+00</td>\n",
       "      <td>0.000000e+00</td>\n",
       "      <td>4.000000e+00</td>\n",
       "      <td>1.200000e+01</td>\n",
       "      <td>2.000000e+01</td>\n",
       "      <td>4.000000e+00</td>\n",
       "      <td>1.500000e+01</td>\n",
       "      <td>3.100000e+01</td>\n",
       "      <td>4.700000e+01</td>\n",
       "      <td>...</td>\n",
       "      <td>0.000000e+00</td>\n",
       "      <td>9.700000e-01</td>\n",
       "      <td>9.500000e-01</td>\n",
       "      <td>0.000000e+00</td>\n",
       "      <td>0.000000e+00</td>\n",
       "      <td>0.000000e+00</td>\n",
       "      <td>0.000000e+00</td>\n",
       "      <td>1.000000e+00</td>\n",
       "      <td>0.000000e+00</td>\n",
       "      <td>0.000000e+00</td>\n",
       "    </tr>\n",
       "    <tr>\n",
       "      <th>max</th>\n",
       "      <td>1.233440e+07</td>\n",
       "      <td>5.200000e+01</td>\n",
       "      <td>4.894080e+05</td>\n",
       "      <td>1.427612e+06</td>\n",
       "      <td>2.461360e+06</td>\n",
       "      <td>3.777304e+06</td>\n",
       "      <td>7.417740e+05</td>\n",
       "      <td>1.105478e+06</td>\n",
       "      <td>2.146625e+06</td>\n",
       "      <td>3.205172e+06</td>\n",
       "      <td>...</td>\n",
       "      <td>1.464960e+05</td>\n",
       "      <td>1.000000e+00</td>\n",
       "      <td>1.000000e+00</td>\n",
       "      <td>1.253000e+04</td>\n",
       "      <td>1.000000e+00</td>\n",
       "      <td>1.000000e+00</td>\n",
       "      <td>1.000000e+00</td>\n",
       "      <td>1.000000e+00</td>\n",
       "      <td>1.000000e+00</td>\n",
       "      <td>1.000000e+00</td>\n",
       "    </tr>\n",
       "  </tbody>\n",
       "</table>\n",
       "<p>8 rows × 22 columns</p>\n",
       "</div>"
      ],
      "text/plain": [
       "       national_inv     lead_time  in_transit_qty  forecast_3_month  \\\n",
       "count  1.687860e+06  1.586967e+06    1.687860e+06      1.687860e+06   \n",
       "mean   4.961118e+02  7.872267e+00    4.405202e+01      1.781193e+02   \n",
       "std    2.961523e+04  7.056024e+00    1.342742e+03      5.026553e+03   \n",
       "min   -2.725600e+04  0.000000e+00    0.000000e+00      0.000000e+00   \n",
       "25%    4.000000e+00  4.000000e+00    0.000000e+00      0.000000e+00   \n",
       "50%    1.500000e+01  8.000000e+00    0.000000e+00      0.000000e+00   \n",
       "75%    8.000000e+01  9.000000e+00    0.000000e+00      4.000000e+00   \n",
       "max    1.233440e+07  5.200000e+01    4.894080e+05      1.427612e+06   \n",
       "\n",
       "       forecast_6_month  forecast_9_month  sales_1_month  sales_3_month  \\\n",
       "count      1.687860e+06      1.687860e+06   1.687860e+06   1.687860e+06   \n",
       "mean       3.449867e+02      5.063644e+02   5.592607e+01   1.750259e+02   \n",
       "std        9.795152e+03      1.437892e+04   1.928196e+03   5.192378e+03   \n",
       "min        0.000000e+00      0.000000e+00   0.000000e+00   0.000000e+00   \n",
       "25%        0.000000e+00      0.000000e+00   0.000000e+00   0.000000e+00   \n",
       "50%        0.000000e+00      0.000000e+00   0.000000e+00   1.000000e+00   \n",
       "75%        1.200000e+01      2.000000e+01   4.000000e+00   1.500000e+01   \n",
       "max        2.461360e+06      3.777304e+06   7.417740e+05   1.105478e+06   \n",
       "\n",
       "       sales_6_month  sales_9_month        ...          pieces_past_due  \\\n",
       "count   1.687860e+06   1.687860e+06        ...             1.687860e+06   \n",
       "mean    3.417288e+02   5.252697e+02        ...             2.043724e+00   \n",
       "std     9.613167e+03   1.483861e+04        ...             2.360165e+02   \n",
       "min     0.000000e+00   0.000000e+00        ...             0.000000e+00   \n",
       "25%     0.000000e+00   0.000000e+00        ...             0.000000e+00   \n",
       "50%     2.000000e+00   4.000000e+00        ...             0.000000e+00   \n",
       "75%     3.100000e+01   4.700000e+01        ...             0.000000e+00   \n",
       "max     2.146625e+06   3.205172e+06        ...             1.464960e+05   \n",
       "\n",
       "       perf_6_month_avg  perf_12_month_avg  local_bo_qty     deck_risk  \\\n",
       "count      1.687860e+06       1.687860e+06  1.687860e+06  1.687860e+06   \n",
       "mean      -6.872059e+00      -6.437947e+00  6.264507e-01  2.295706e-01   \n",
       "std        2.655636e+01       2.584333e+01  3.372224e+01  4.205568e-01   \n",
       "min       -9.900000e+01      -9.900000e+01  0.000000e+00  0.000000e+00   \n",
       "25%        6.300000e-01       6.600000e-01  0.000000e+00  0.000000e+00   \n",
       "50%        8.200000e-01       8.100000e-01  0.000000e+00  0.000000e+00   \n",
       "75%        9.700000e-01       9.500000e-01  0.000000e+00  0.000000e+00   \n",
       "max        1.000000e+00       1.000000e+00  1.253000e+04  1.000000e+00   \n",
       "\n",
       "       oe_constraint     ppap_risk  stop_auto_buy      rev_stop  \\\n",
       "count   1.687860e+06  1.687860e+06   1.687860e+06  1.687860e+06   \n",
       "mean    1.451542e-04  1.207648e-01   9.638086e-01  4.330928e-04   \n",
       "std     1.204713e-02  3.258538e-01   1.867661e-01  2.080638e-02   \n",
       "min     0.000000e+00  0.000000e+00   0.000000e+00  0.000000e+00   \n",
       "25%     0.000000e+00  0.000000e+00   1.000000e+00  0.000000e+00   \n",
       "50%     0.000000e+00  0.000000e+00   1.000000e+00  0.000000e+00   \n",
       "75%     0.000000e+00  0.000000e+00   1.000000e+00  0.000000e+00   \n",
       "max     1.000000e+00  1.000000e+00   1.000000e+00  1.000000e+00   \n",
       "\n",
       "       went_on_backorder  \n",
       "count       1.687860e+06  \n",
       "mean        6.690721e-03  \n",
       "std         8.152275e-02  \n",
       "min         0.000000e+00  \n",
       "25%         0.000000e+00  \n",
       "50%         0.000000e+00  \n",
       "75%         0.000000e+00  \n",
       "max         1.000000e+00  \n",
       "\n",
       "[8 rows x 22 columns]"
      ]
     },
     "execution_count": 20,
     "metadata": {},
     "output_type": "execute_result"
    }
   ],
   "source": [
    "#data description\n",
    "train_data.describe()"
   ]
  },
  {
   "cell_type": "code",
   "execution_count": 21,
   "metadata": {},
   "outputs": [
    {
     "data": {
      "text/plain": [
       "0"
      ]
     },
     "execution_count": 21,
     "metadata": {},
     "output_type": "execute_result"
    }
   ],
   "source": [
    "#missing values in product\n",
    "train_data.sku.isnull().sum()"
   ]
  },
  {
   "cell_type": "code",
   "execution_count": 22,
   "metadata": {},
   "outputs": [
    {
     "data": {
      "text/plain": [
       "sku                       0\n",
       "national_inv              0\n",
       "lead_time            100893\n",
       "in_transit_qty            0\n",
       "forecast_3_month          0\n",
       "forecast_6_month          0\n",
       "forecast_9_month          0\n",
       "sales_1_month             0\n",
       "sales_3_month             0\n",
       "sales_6_month             0\n",
       "sales_9_month             0\n",
       "min_bank                  0\n",
       "potential_issue           0\n",
       "pieces_past_due           0\n",
       "perf_6_month_avg          0\n",
       "perf_12_month_avg         0\n",
       "local_bo_qty              0\n",
       "deck_risk                 0\n",
       "oe_constraint             0\n",
       "ppap_risk                 0\n",
       "stop_auto_buy             0\n",
       "rev_stop                  0\n",
       "went_on_backorder         0\n",
       "dtype: int64"
      ]
     },
     "execution_count": 22,
     "metadata": {},
     "output_type": "execute_result"
    }
   ],
   "source": [
    "#missing value \n",
    "train_data.isnull().sum()"
   ]
  },
  {
   "cell_type": "code",
   "execution_count": 23,
   "metadata": {},
   "outputs": [
    {
     "name": "stdout",
     "output_type": "stream",
     "text": [
      "0.6690720794378681 %\n"
     ]
    }
   ],
   "source": [
    "prob=len(train_data[train_data.went_on_backorder==1])/len(train_data.sku)\n",
    "print((prob*100),'%')\n"
   ]
  },
  {
   "cell_type": "markdown",
   "metadata": {},
   "source": [
    "check the missing data in lead time to replace it or not?\n",
    "1. Proportion of orders that “went_on_backorder” for missing lead_time records\n",
    "2. Proportion of orders that “went_on_backorder” for non-null lead_time records"
   ]
  },
  {
   "cell_type": "code",
   "execution_count": 24,
   "metadata": {},
   "outputs": [
    {
     "name": "stdout",
     "output_type": "stream",
     "text": [
      "0\n",
      "[-1 -2 -3 -4]\n"
     ]
    },
    {
     "data": {
      "text/plain": [
       "False"
      ]
     },
     "execution_count": 24,
     "metadata": {},
     "output_type": "execute_result"
    }
   ],
   "source": [
    "float('NaN')\n",
    "def my_tilde(x):\n",
    "    return -x - 1\n",
    "\n",
    "\n",
    "l = np.array([0, 1, 2, 3])\n",
    "print(l[0])\n",
    "print(~l)\n",
    "~np.isnan(float('NaN'))"
   ]
  },
  {
   "cell_type": "code",
   "execution_count": 25,
   "metadata": {},
   "outputs": [
    {
     "name": "stdout",
     "output_type": "stream",
     "text": [
      "100893\n",
      "1586967\n",
      "324\n",
      "10969\n",
      "Proportion of orders that “went_on_backorder” for no missing lead_time records: 0.691192696508\n",
      "Proportion of orders that “went_on_backorder” for missing lead_time records: 0.321132288662\n"
     ]
    }
   ],
   "source": [
    "n_null_leadTime = train_data[train_data['lead_time'].isnull()].shape[0]\n",
    "print(n_null_leadTime)\n",
    "n_non_null_leadTime = train_data[train_data['lead_time'].notnull()].shape[0]\n",
    "print(n_non_null_leadTime)\n",
    "n_null_leadTime_backorders =sum(train_data[np.isnan(train_data[\"lead_time\"])][\"went_on_backorder\"])\n",
    "print (n_null_leadTime_backorders)\n",
    "n_non_null_leadTime_backorders = sum(train_data[pd.notnull(train_data[\"lead_time\"])][\"went_on_backorder\"])\n",
    "print  (n_non_null_leadTime_backorders)\n",
    "\n",
    "null_leadTime_backorder_ratio = n_null_leadTime_backorders / float(n_null_leadTime)\n",
    "non_null_leadTime_backorder_ratio = n_non_null_leadTime_backorders / float(n_non_null_leadTime)\n",
    "print('Proportion of orders that “went_on_backorder” for no missing lead_time records:',non_null_leadTime_backorder_ratio * 100)\n",
    "print('Proportion of orders that “went_on_backorder” for missing lead_time records:', null_leadTime_backorder_ratio * 100)\n"
   ]
  },
  {
   "cell_type": "markdown",
   "metadata": {
    "collapsed": true
   },
   "source": [
    "Based on the proportion of orders for missing lead_time_ time of orders went backorder, we can see that the result is 50% less \n",
    "than proportion of lead time without missing values, and our total went backorder proportion is around 0.66 and it is close to \n",
    "proportion of orders that went back order for non missing values. \n",
    "Therefore ....\n",
    "below we can see the lead time plot and went_backorder type. from the plot we see that "
   ]
  },
  {
   "cell_type": "code",
   "execution_count": 28,
   "metadata": {
    "scrolled": true
   },
   "outputs": [
    {
     "data": {
      "image/png": "[encoded data removed]",
      "text/plain": [
       "<matplotlib.figure.Figure at 0x2b78f1582b0>"
      ]
     },
     "metadata": {},
     "output_type": "display_data"
    }
   ],
   "source": [
    "#coorelation between lead time and wen on backorder\n",
    "scores = train_data[['lead_time','went_on_backorder']]\n",
    "sns.countplot(x=\"lead_time\", hue=\"went_on_backorder\", data=scores, palette={1: \"r\", 0: \"g\"})\n",
    "plt.show()"
   ]
  },
  {
   "cell_type": "code",
   "execution_count": 243,
   "metadata": {
    "scrolled": true
   },
   "outputs": [
    {
     "name": "stdout",
     "output_type": "stream",
     "text": [
      "[[ 1.        -0.5420028]\n",
      " [-0.5420028  1.       ]]\n"
     ]
    },
    {
     "data": {
      "image/png": "[encoded data removed]",
      "text/plain": [
       "<matplotlib.figure.Figure at 0x2b780bbf9e8>"
      ]
     },
     "metadata": {},
     "output_type": "display_data"
    },
    {
     "name": "stdout",
     "output_type": "stream",
     "text": [
      "[1.5412425078489203, 1.0245938079797985, 1.2551528948501816, 0.36954339995487684, 1.2900024807740016, 1.006523765144455, 0.4784688995215311, 0.6954115153345275, 0.43348510703685433, 0.48618940248027059, 1.7367458866544789, 0.51276915373059584, 0.38852913968547642, 0.44599573395384917, 0.73452256033578167, 0.49756869840551843, 0.29231995748073347, 0.073058147643874735]\n"
     ]
    },
    {
     "data": {
      "text/html": [
       "<div>\n",
       "<style>\n",
       "    .dataframe thead tr:only-child th {\n",
       "        text-align: right;\n",
       "    }\n",
       "\n",
       "    .dataframe thead th {\n",
       "        text-align: left;\n",
       "    }\n",
       "\n",
       "    .dataframe tbody tr th {\n",
       "        vertical-align: top;\n",
       "    }\n",
       "</style>\n",
       "<table border=\"1\" class=\"dataframe\">\n",
       "  <thead>\n",
       "    <tr style=\"text-align: right;\">\n",
       "      <th></th>\n",
       "      <th>lead_b</th>\n",
       "      <th>lead_n</th>\n",
       "    </tr>\n",
       "  </thead>\n",
       "  <tbody>\n",
       "    <tr>\n",
       "      <th>0.0</th>\n",
       "      <td>162.0</td>\n",
       "      <td>10349</td>\n",
       "    </tr>\n",
       "    <tr>\n",
       "      <th>2.0</th>\n",
       "      <td>3457.0</td>\n",
       "      <td>333945</td>\n",
       "    </tr>\n",
       "    <tr>\n",
       "      <th>3.0</th>\n",
       "      <td>204.0</td>\n",
       "      <td>16049</td>\n",
       "    </tr>\n",
       "    <tr>\n",
       "      <th>4.0</th>\n",
       "      <td>475.0</td>\n",
       "      <td>128062</td>\n",
       "    </tr>\n",
       "    <tr>\n",
       "      <th>5.0</th>\n",
       "      <td>52.0</td>\n",
       "      <td>3979</td>\n",
       "    </tr>\n",
       "    <tr>\n",
       "      <th>6.0</th>\n",
       "      <td>54.0</td>\n",
       "      <td>5311</td>\n",
       "    </tr>\n",
       "    <tr>\n",
       "      <th>7.0</th>\n",
       "      <td>1.0</td>\n",
       "      <td>208</td>\n",
       "    </tr>\n",
       "    <tr>\n",
       "      <th>8.0</th>\n",
       "      <td>4744.0</td>\n",
       "      <td>677442</td>\n",
       "    </tr>\n",
       "    <tr>\n",
       "      <th>9.0</th>\n",
       "      <td>536.0</td>\n",
       "      <td>123113</td>\n",
       "    </tr>\n",
       "    <tr>\n",
       "      <th>10.0</th>\n",
       "      <td>69.0</td>\n",
       "      <td>14123</td>\n",
       "    </tr>\n",
       "    <tr>\n",
       "      <th>11.0</th>\n",
       "      <td>19.0</td>\n",
       "      <td>1075</td>\n",
       "    </tr>\n",
       "    <tr>\n",
       "      <th>12.0</th>\n",
       "      <td>1024.0</td>\n",
       "      <td>198676</td>\n",
       "    </tr>\n",
       "    <tr>\n",
       "      <th>13.0</th>\n",
       "      <td>21.0</td>\n",
       "      <td>5384</td>\n",
       "    </tr>\n",
       "    <tr>\n",
       "      <th>14.0</th>\n",
       "      <td>46.0</td>\n",
       "      <td>10268</td>\n",
       "    </tr>\n",
       "    <tr>\n",
       "      <th>15.0</th>\n",
       "      <td>28.0</td>\n",
       "      <td>3784</td>\n",
       "    </tr>\n",
       "    <tr>\n",
       "      <th>16.0</th>\n",
       "      <td>44.0</td>\n",
       "      <td>8799</td>\n",
       "    </tr>\n",
       "    <tr>\n",
       "      <th>17.0</th>\n",
       "      <td>11.0</td>\n",
       "      <td>3752</td>\n",
       "    </tr>\n",
       "    <tr>\n",
       "      <th>52.0</th>\n",
       "      <td>22.0</td>\n",
       "      <td>30091</td>\n",
       "    </tr>\n",
       "  </tbody>\n",
       "</table>\n",
       "</div>"
      ],
      "text/plain": [
       "      lead_b  lead_n\n",
       "0.0    162.0   10349\n",
       "2.0   3457.0  333945\n",
       "3.0    204.0   16049\n",
       "4.0    475.0  128062\n",
       "5.0     52.0    3979\n",
       "6.0     54.0    5311\n",
       "7.0      1.0     208\n",
       "8.0   4744.0  677442\n",
       "9.0    536.0  123113\n",
       "10.0    69.0   14123\n",
       "11.0    19.0    1075\n",
       "12.0  1024.0  198676\n",
       "13.0    21.0    5384\n",
       "14.0    46.0   10268\n",
       "15.0    28.0    3784\n",
       "16.0    44.0    8799\n",
       "17.0    11.0    3752\n",
       "52.0    22.0   30091"
      ]
     },
     "execution_count": 243,
     "metadata": {},
     "output_type": "execute_result"
    }
   ],
   "source": [
    "import decimal\n",
    "b=train_data[['went_on_backorder','lead_time']]\n",
    "backorder=b[b.went_on_backorder==1]\n",
    "no_backorder=b[b.went_on_backorder==0]\n",
    "lead_b=backorder.lead_time.value_counts()\n",
    "lead_n=no_backorder.lead_time.value_counts()\n",
    "c=[]\n",
    "df1 = pd.DataFrame(\n",
    "    {\n",
    "     'lead_b': lead_b,\n",
    "     'lead_n':lead_n\n",
    "    })\n",
    "\n",
    "df1=df1[['lead_b','lead_n']].dropna()\n",
    "\n",
    "\n",
    "for i in range(0,len(df1)):\n",
    "    backorder_ratio=(df1.lead_b.iloc[i])/(df1.lead_n.iloc[i]+df1.lead_b.iloc[i])\n",
    "    backorder_ratio=backorder_ratio*100\n",
    "    c.append(backorder_ratio)\n",
    "\n",
    "\n",
    "print(np.corrcoef(df1.index.values,c))\n",
    "\n",
    "plt.plot(df1.index.values,c,\"*\",color=\"blue\")\n",
    "plt.title('ratio of lead time(transit time for products)that went on backorder')\n",
    "#plt.plot(np.array(range(len(c))) * 0.25, c,\".\")\n",
    "plt.show()\n",
    "print(c)\n",
    "df1\n"
   ]
  },
  {
   "cell_type": "code",
   "execution_count": 328,
   "metadata": {},
   "outputs": [
    {
     "data": {
      "image/png": "[encoded data removed]",
      "text/plain": [
       "<matplotlib.figure.Figure at 0x2b786eb8048>"
      ]
     },
     "metadata": {},
     "output_type": "display_data"
    }
   ],
   "source": [
    "sales_data=train_data\n",
    "total_sales=(sales_data.sales_1_month+sales_data.sales_3_month+sales_data.sales_6_month+sales_data.sales_9_month)\n",
    "sales_data['total_sales']=total_sales\n",
    "reduced_data=sales_data.sort_values('total_sales',ascending = False)\n",
    "\n",
    "plt.plot(np.array(range(len(reduced_data))) * 0.28, reduced_data.total_sales,\".\",color=\"green\")\n",
    "plt.title('Total sales count')\n",
    "plt.show()\n"
   ]
  },
  {
   "cell_type": "code",
   "execution_count": 329,
   "metadata": {},
   "outputs": [
    {
     "name": "stdout",
     "output_type": "stream",
     "text": [
      "[[ 1.          0.79973589]\n",
      " [ 0.79973589  1.        ]]\n"
     ]
    },
    {
     "data": {
      "image/png": "[encoded data removed]",
      "text/plain": [
       "<matplotlib.figure.Figure at 0x2b7872659e8>"
      ]
     },
     "metadata": {},
     "output_type": "display_data"
    }
   ],
   "source": [
    "#correlation between sales and backorder\n",
    "\n",
    "sw=reduced_data[['went_on_backorder','total_sales']]\n",
    "backorder_sales=sw[sw.went_on_backorder==1]\n",
    "no_backorder_sales=sw[sw.went_on_backorder==0]\n",
    "sales_b=backorder_sales.total_sales.value_counts()\n",
    "sales_n=no_backorder_sales.total_sales.value_counts()\n",
    "g=[]\n",
    "df2 = pd.DataFrame(\n",
    "    {\n",
    "     'sales_b': sales_b,\n",
    "     'sales_n':sales_n\n",
    "    })\n",
    "\n",
    "df2=df2[['sales_b','sales_n']].dropna()\n",
    "\n",
    "\n",
    "for i in range(0,len(df2)):\n",
    "    backorder_ratio=(df2.sales_b.iloc[i])/(df2.sales_n.iloc[i]+df2.sales_b.iloc[i])\n",
    "    backorder_ratio=backorder_ratio*100\n",
    "    g.append(backorder_ratio)\n",
    "\n",
    "\n",
    "print(np.corrcoef(df2.index.values,g))\n",
    "plt.plot(np.array(range(len(g))) * 0.25, g,\".\",color='purple')\n",
    "plt.title('ratio of total sales count values that went on backorder')\n",
    "plt.xlabel('sales')\n",
    "plt.ylabel('ratio of sales went on backorder')\n",
    "plt.show()\n"
   ]
  },
  {
   "cell_type": "markdown",
   "metadata": {},
   "source": [
    "Data reduction by capture 60% of the total sales volume."
   ]
  },
  {
   "cell_type": "code",
   "execution_count": 395,
   "metadata": {},
   "outputs": [
    {
     "name": "stdout",
     "output_type": "stream",
     "text": [
      "1846561168.0\n",
      "1107936700.8\n"
     ]
    },
    {
     "data": {
      "image/png": "[encoded data removed]",
      "text/plain": [
       "<matplotlib.figure.Figure at 0x2b7820a52e8>"
      ]
     },
     "metadata": {},
     "output_type": "display_data"
    }
   ],
   "source": [
    "sales_volume =np.cumsum(sample_data.total_sales)\n",
    "print(sales_volume[len(sales_volume)-1])\n",
    "print(0.6 * sales_volume[len(sales_volume)-1])\n",
    "plt.plot(np.array(range(len(sample_data))) * 0.28, sales_volume,\".\",color=\"orange\")\n",
    "plt.title('Total sales volume')\n",
    "\n",
    "plt.show()"
   ]
  },
  {
   "cell_type": "code",
   "execution_count": 407,
   "metadata": {},
   "outputs": [
    {
     "name": "stdout",
     "output_type": "stream",
     "text": [
      "1107936700.8\n",
      "1846561168.0\n"
     ]
    },
    {
     "data": {
      "image/png": "[encoded data removed]",
      "text/plain": [
       "<matplotlib.figure.Figure at 0x2b7870795c0>"
      ]
     },
     "metadata": {},
     "output_type": "display_data"
    },
    {
     "data": {
      "text/plain": [
       "7509"
      ]
     },
     "execution_count": 407,
     "metadata": {},
     "output_type": "execute_result"
    }
   ],
   "source": [
    "a=sample_data\n",
    "volume_perc=0.6 * sales_volume[len(sales_volume)-1]\n",
    "print(volume_perc)\n",
    "print(sales_volume[len(sales_volume)-1])\n",
    "a['sales_volume']=sales_volume\n",
    "\n",
    "a=a.sort_values('sales_volume',ascending = True)\n",
    "a=a[a['sales_volume']<=volume_perc]\n",
    "\n",
    "a=a.sort_values('total_sales',ascending = False)\n",
    "plt.plot(np.array(range(len(a))) * 0.28, a.total_sales,\".\",color=\"green\")\n",
    "plt.title('Total sales count')\n",
    "plt.show()\n",
    "len(a)"
   ]
  },
  {
   "cell_type": "markdown",
   "metadata": {},
   "source": [
    "So with capturing 60 % total sales volume ,data is reduced to 7509 rows."
   ]
  },
  {
   "cell_type": "markdown",
   "metadata": {},
   "source": [
    "How common are backorders? Given that, how likely are backorders based on the part risk flags? \n",
    "And how prevalent are they? \n",
    "What is the relationship between \"potential_issue\" and \"pieces_past_due\" are each represented by part \n",
    "risk flags or are they unrelated concepts? What's the relationship between lead time and back orders? \n",
    "Based on the answers to these questions you could recommend: What aspects of the supply chain present the biggest risks? \n",
    "Based on the risks, what would you recommend improving first?\n",
    "    \n",
    "potential_issue - Source issue for part identified\n",
    "\n",
    "pieces_past_due - Parts overdue from source\n",
    "\n",
    "local_bo_qty - Amount of stock orders overdue\n",
    "\n",
    "deck_risk - Part risk flag\n",
    "\n",
    "oe_constraint - Part risk flag\n",
    "\n",
    "ppap_risk - Part risk flag"
   ]
  },
  {
   "cell_type": "code",
   "execution_count": 419,
   "metadata": {},
   "outputs": [
    {
     "name": "stdout",
     "output_type": "stream",
     "text": [
      "[[ 1.          0.00737688]\n",
      " [ 0.00737688  1.        ]]\n",
      "Source issue for part identified correlation with backorder [[ 1.          0.06593178]\n",
      " [ 0.06593178  1.        ]]\n",
      "Parts overdue from source correlation with backorder [[ 1.         -0.00339726]\n",
      " [-0.00339726  1.        ]]\n",
      "Amount of stock orders overdue correlation with backorder [[ 1.          0.04178228]\n",
      " [ 0.04178228  1.        ]]\n",
      "oe_constraint - Part risk flag correlation with backorder [[ 1.         -0.00313869]\n",
      " [-0.00313869  1.        ]]\n",
      "ppap_risk - Part risk flag correlation with backorder [[ 1.          0.03323963]\n",
      " [ 0.03323963  1.        ]]\n",
      "Total sales for perior 9,6,3 and 1 month correlation with backorder [[ 1.         -0.01152166]\n",
      " [-0.01152166  1.        ]]\n",
      "Total Forecast sales - Part risk flag correlation with backorder [[ 1.         -0.01080782]\n",
      " [-0.01080782  1.        ]]\n",
      "Transit time-Lead time - Part risk flag correlation with backorder [[  1.  nan]\n",
      " [ nan  nan]]\n",
      "Total Forecast sales - Total Sales [[ 1.          0.90301058]\n",
      " [ 0.90301058  1.        ]]\n"
     ]
    }
   ],
   "source": [
    "total_forecast=(a.forecast_3_month+a.forecast_6_month+a.forecast_9_month)\n",
    "a['total_forecast']=total_forecast\n",
    "print(np.corrcoef(a.potential_issue,a.pieces_past_due))\n",
    "print('Source issue for part identified correlation with backorder',np.corrcoef(a.potential_issue,a.went_on_backorder))\n",
    "print('Parts overdue from source correlation with backorder', np.corrcoef(a.went_on_backorder,a.pieces_past_due))\n",
    "print('Amount of stock orders overdue correlation with backorder',np.corrcoef(a.went_on_backorder,a.local_bo_qty))\n",
    "print('oe_constraint - Part risk flag correlation with backorder',np.corrcoef(a.went_on_backorder,a.oe_constraint))\n",
    "print('ppap_risk - Part risk flag correlation with backorder', np.corrcoef(a.went_on_backorder,a.ppap_risk))\n",
    "print('Total sales for perior 9,6,3 and 1 month correlation with backorder',np.corrcoef(a.went_on_backorder,a.total_sales))\n",
    "print('Total Forecast sales - Part risk flag correlation with backorder',np.corrcoef(a.went_on_backorder,a.total_forecast))\n",
    "print('Transit time-Lead time - Part risk flag correlation with backorder', np.corrcoef(a.went_on_backorder,a.lead_time))\n",
    "print('Total Forecast sales - Total Sales',np.corrcoef(a.total_sales,a.total_forecast))"
   ]
  },
  {
   "cell_type": "code",
   "execution_count": 461,
   "metadata": {},
   "outputs": [
    {
     "data": {
      "image/png": "[encoded data removed]",
      "text/plain": [
       "<matplotlib.figure.Figure at 0x2b780c8ba90>"
      ]
     },
     "metadata": {},
     "output_type": "display_data"
    }
   ],
   "source": [
    "b=a.sort_values('total_sales',ascending = True)\n",
    "plt.plot((b.total_sales), a.total_forecast,\"*\",color='darkblue')\n",
    "plt.title('total sales and total forecast')\n",
    "plt.xlabel('sales')\n",
    "plt.ylabel('forecast')\n",
    "plt.show()\n",
    "#b[['total_sales','total_forecast']].tail(70)"
   ]
  },
  {
   "cell_type": "markdown",
   "metadata": {},
   "source": [
    "We should find out where actually the forecast was not right so that caused backorder?\n",
    "because when saes go up forecast also should go up????\n"
   ]
  },
  {
   "cell_type": "code",
   "execution_count": null,
   "metadata": {
    "collapsed": true
   },
   "outputs": [],
   "source": []
  }
 ],
 "metadata": {
  "kernelspec": {
   "display_name": "Python 3",
   "language": "python",
   "name": "python3"
  },
  "language_info": {
   "codemirror_mode": {
    "name": "ipython",
    "version": 3
   },
   "file_extension": ".py",
   "mimetype": "text/x-python",
   "name": "python",
   "nbconvert_exporter": "python",
   "pygments_lexer": "ipython3",
   "version": "3.6.1"
  }
 },
 "nbformat": 4,
 "nbformat_minor": 2
}
