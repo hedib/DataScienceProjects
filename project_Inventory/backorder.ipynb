{
 "cells": [
  {
   "cell_type": "markdown",
   "metadata": {
    "collapsed": true
   },
   "source": [
    "## Can You Predict Product Backorders?\n"
   ]
  },
  {
   "cell_type": "markdown",
   "metadata": {},
   "source": [
    "### Project:\n",
    "Ultimately, backordering boils down to having orders that you can’t fulfill or more orders than you have stock on hand. It’s a dream for any business but it’s also a huge problem if you don’t know how to handle it.\n",
    "In this project we are trying to identify parts at risk of backorder before the event occurs so the business has time to react."
   ]
  },
  {
   "cell_type": "markdown",
   "metadata": {},
   "source": [
    "### Data:\n",
    "Data is Based on historical data predict backorder risk for products\n",
    "Training data file contains the historical data for the 8 weeks prior to the week we are trying to predict. \n",
    "The data was taken as weekly snapshots at the start of each week.\n",
    "data is from kaggle :\n",
    "https://www.kaggle.com/tiredgeek/predict-bo-trial/data"
   ]
  },
  {
   "cell_type": "markdown",
   "metadata": {},
   "source": [
    "##### Data Wrangling and Cleaning:\n",
    "The data come in the form of MS Excel spreadsheets, which are easily loaded into pandas dataframes.\n",
    "in this data sets we have Yes/No fields which are converted in to binary integers.\n",
    "-99 values in performance columns which are missing values and replaced by median.\n",
    "we have some NaNs in lead_time but we are not sure that are missing or not.\n",
    "It's quite likely that when lead_time is missing, it's missing for a reason and not at random, which means a mean/median imputation strategy may not be appropriate.\n",
    "I prefer to decide by looking at data with calculationg the proportion of backordered products with vs. without a missing value in lead_time.\n",
    "Since the data set is very big I decided to reduce data by capturing 60% of the total sales volume which is a big reduction in data for not much loss of fidelity."
   ]
  },
  {
   "cell_type": "markdown",
   "metadata": {},
   "source": [
    "##### Data Visualization\n",
    "For data visualization I use transformation(square root) thats appropriate for heavy tailed data."
   ]
  },
  {
   "cell_type": "code",
   "execution_count": 56,
   "metadata": {
    "collapsed": true
   },
   "outputs": [],
   "source": [
    "import decimal\n",
    "\n",
    "import pandas as pd\n",
    "import numpy as np\n",
    "\n",
    "from scipy import stats\n",
    "\n",
    "from sklearn.preprocessing import Imputer\n",
    "from sklearn import preprocessing\n",
    "\n",
    "import matplotlib.pyplot as plt\n",
    "import matplotlib.mlab as mlab\n",
    "import seaborn as sns"
   ]
  },
  {
   "cell_type": "code",
   "execution_count": 57,
   "metadata": {
    "collapsed": true
   },
   "outputs": [],
   "source": [
    "#train_data_=train_data\n"
   ]
  },
  {
   "cell_type": "code",
   "execution_count": 58,
   "metadata": {
    "scrolled": true
   },
   "outputs": [
    {
     "name": "stderr",
     "output_type": "stream",
     "text": [
      "C:\\Users\\Hedi\\Anaconda3\\lib\\site-packages\\IPython\\core\\interactiveshell.py:2717: DtypeWarning: Columns (0) have mixed types. Specify dtype option on import or set low_memory=False.\n",
      "  interactivity=interactivity, compiler=compiler, result=result)\n"
     ]
    }
   ],
   "source": [
    "backorder_file = pd.read_csv(\"Kaggle_Training_Dataset_v2.csv\")\n",
    "\n",
    "orders = (backorder_file\n",
    "              .drop(backorder_file.index[len(backorder_file)-1])# drop invalid last row\n",
    "              .replace(['Yes', 'No'], [1, 0]))               # make yes/no numeric"
   ]
  },
  {
   "cell_type": "code",
   "execution_count": 59,
   "metadata": {},
   "outputs": [
    {
     "name": "stdout",
     "output_type": "stream",
     "text": [
      "<class 'pandas.core.frame.DataFrame'>\n",
      "Int64Index: 1687860 entries, 0 to 1687859\n",
      "Data columns (total 23 columns):\n",
      "sku                  1687860 non-null object\n",
      "national_inv         1687860 non-null float64\n",
      "lead_time            1586967 non-null float64\n",
      "in_transit_qty       1687860 non-null float64\n",
      "forecast_3_month     1687860 non-null float64\n",
      "forecast_6_month     1687860 non-null float64\n",
      "forecast_9_month     1687860 non-null float64\n",
      "sales_1_month        1687860 non-null float64\n",
      "sales_3_month        1687860 non-null float64\n",
      "sales_6_month        1687860 non-null float64\n",
      "sales_9_month        1687860 non-null float64\n",
      "min_bank             1687860 non-null float64\n",
      "potential_issue      1687860 non-null int64\n",
      "pieces_past_due      1687860 non-null float64\n",
      "perf_6_month_avg     1687860 non-null float64\n",
      "perf_12_month_avg    1687860 non-null float64\n",
      "local_bo_qty         1687860 non-null float64\n",
      "deck_risk            1687860 non-null int64\n",
      "oe_constraint        1687860 non-null int64\n",
      "ppap_risk            1687860 non-null int64\n",
      "stop_auto_buy        1687860 non-null int64\n",
      "rev_stop             1687860 non-null int64\n",
      "went_on_backorder    1687860 non-null int64\n",
      "dtypes: float64(15), int64(7), object(1)\n",
      "memory usage: 309.1+ MB\n"
     ]
    },
    {
     "data": {
      "text/html": [
       "<div>\n",
       "<style>\n",
       "    .dataframe thead tr:only-child th {\n",
       "        text-align: right;\n",
       "    }\n",
       "\n",
       "    .dataframe thead th {\n",
       "        text-align: left;\n",
       "    }\n",
       "\n",
       "    .dataframe tbody tr th {\n",
       "        vertical-align: top;\n",
       "    }\n",
       "</style>\n",
       "<table border=\"1\" class=\"dataframe\">\n",
       "  <thead>\n",
       "    <tr style=\"text-align: right;\">\n",
       "      <th></th>\n",
       "      <th>national_inv</th>\n",
       "      <th>lead_time</th>\n",
       "      <th>in_transit_qty</th>\n",
       "      <th>forecast_3_month</th>\n",
       "      <th>forecast_6_month</th>\n",
       "      <th>forecast_9_month</th>\n",
       "      <th>sales_1_month</th>\n",
       "      <th>sales_3_month</th>\n",
       "      <th>sales_6_month</th>\n",
       "      <th>sales_9_month</th>\n",
       "      <th>...</th>\n",
       "      <th>pieces_past_due</th>\n",
       "      <th>perf_6_month_avg</th>\n",
       "      <th>perf_12_month_avg</th>\n",
       "      <th>local_bo_qty</th>\n",
       "      <th>deck_risk</th>\n",
       "      <th>oe_constraint</th>\n",
       "      <th>ppap_risk</th>\n",
       "      <th>stop_auto_buy</th>\n",
       "      <th>rev_stop</th>\n",
       "      <th>went_on_backorder</th>\n",
       "    </tr>\n",
       "  </thead>\n",
       "  <tbody>\n",
       "    <tr>\n",
       "      <th>count</th>\n",
       "      <td>1.687860e+06</td>\n",
       "      <td>1.586967e+06</td>\n",
       "      <td>1.687860e+06</td>\n",
       "      <td>1.687860e+06</td>\n",
       "      <td>1.687860e+06</td>\n",
       "      <td>1.687860e+06</td>\n",
       "      <td>1.687860e+06</td>\n",
       "      <td>1.687860e+06</td>\n",
       "      <td>1.687860e+06</td>\n",
       "      <td>1.687860e+06</td>\n",
       "      <td>...</td>\n",
       "      <td>1.687860e+06</td>\n",
       "      <td>1.687860e+06</td>\n",
       "      <td>1.687860e+06</td>\n",
       "      <td>1.687860e+06</td>\n",
       "      <td>1.687860e+06</td>\n",
       "      <td>1.687860e+06</td>\n",
       "      <td>1.687860e+06</td>\n",
       "      <td>1.687860e+06</td>\n",
       "      <td>1.687860e+06</td>\n",
       "      <td>1.687860e+06</td>\n",
       "    </tr>\n",
       "    <tr>\n",
       "      <th>mean</th>\n",
       "      <td>4.961118e+02</td>\n",
       "      <td>7.872267e+00</td>\n",
       "      <td>4.405202e+01</td>\n",
       "      <td>1.781193e+02</td>\n",
       "      <td>3.449867e+02</td>\n",
       "      <td>5.063644e+02</td>\n",
       "      <td>5.592607e+01</td>\n",
       "      <td>1.750259e+02</td>\n",
       "      <td>3.417288e+02</td>\n",
       "      <td>5.252697e+02</td>\n",
       "      <td>...</td>\n",
       "      <td>2.043724e+00</td>\n",
       "      <td>-6.872059e+00</td>\n",
       "      <td>-6.437947e+00</td>\n",
       "      <td>6.264507e-01</td>\n",
       "      <td>2.295706e-01</td>\n",
       "      <td>1.451542e-04</td>\n",
       "      <td>1.207648e-01</td>\n",
       "      <td>9.638086e-01</td>\n",
       "      <td>4.330928e-04</td>\n",
       "      <td>6.690721e-03</td>\n",
       "    </tr>\n",
       "    <tr>\n",
       "      <th>std</th>\n",
       "      <td>2.961523e+04</td>\n",
       "      <td>7.056024e+00</td>\n",
       "      <td>1.342742e+03</td>\n",
       "      <td>5.026553e+03</td>\n",
       "      <td>9.795152e+03</td>\n",
       "      <td>1.437892e+04</td>\n",
       "      <td>1.928196e+03</td>\n",
       "      <td>5.192378e+03</td>\n",
       "      <td>9.613167e+03</td>\n",
       "      <td>1.483861e+04</td>\n",
       "      <td>...</td>\n",
       "      <td>2.360165e+02</td>\n",
       "      <td>2.655636e+01</td>\n",
       "      <td>2.584333e+01</td>\n",
       "      <td>3.372224e+01</td>\n",
       "      <td>4.205568e-01</td>\n",
       "      <td>1.204713e-02</td>\n",
       "      <td>3.258538e-01</td>\n",
       "      <td>1.867661e-01</td>\n",
       "      <td>2.080638e-02</td>\n",
       "      <td>8.152275e-02</td>\n",
       "    </tr>\n",
       "    <tr>\n",
       "      <th>min</th>\n",
       "      <td>-2.725600e+04</td>\n",
       "      <td>0.000000e+00</td>\n",
       "      <td>0.000000e+00</td>\n",
       "      <td>0.000000e+00</td>\n",
       "      <td>0.000000e+00</td>\n",
       "      <td>0.000000e+00</td>\n",
       "      <td>0.000000e+00</td>\n",
       "      <td>0.000000e+00</td>\n",
       "      <td>0.000000e+00</td>\n",
       "      <td>0.000000e+00</td>\n",
       "      <td>...</td>\n",
       "      <td>0.000000e+00</td>\n",
       "      <td>-9.900000e+01</td>\n",
       "      <td>-9.900000e+01</td>\n",
       "      <td>0.000000e+00</td>\n",
       "      <td>0.000000e+00</td>\n",
       "      <td>0.000000e+00</td>\n",
       "      <td>0.000000e+00</td>\n",
       "      <td>0.000000e+00</td>\n",
       "      <td>0.000000e+00</td>\n",
       "      <td>0.000000e+00</td>\n",
       "    </tr>\n",
       "    <tr>\n",
       "      <th>25%</th>\n",
       "      <td>4.000000e+00</td>\n",
       "      <td>4.000000e+00</td>\n",
       "      <td>0.000000e+00</td>\n",
       "      <td>0.000000e+00</td>\n",
       "      <td>0.000000e+00</td>\n",
       "      <td>0.000000e+00</td>\n",
       "      <td>0.000000e+00</td>\n",
       "      <td>0.000000e+00</td>\n",
       "      <td>0.000000e+00</td>\n",
       "      <td>0.000000e+00</td>\n",
       "      <td>...</td>\n",
       "      <td>0.000000e+00</td>\n",
       "      <td>6.300000e-01</td>\n",
       "      <td>6.600000e-01</td>\n",
       "      <td>0.000000e+00</td>\n",
       "      <td>0.000000e+00</td>\n",
       "      <td>0.000000e+00</td>\n",
       "      <td>0.000000e+00</td>\n",
       "      <td>1.000000e+00</td>\n",
       "      <td>0.000000e+00</td>\n",
       "      <td>0.000000e+00</td>\n",
       "    </tr>\n",
       "    <tr>\n",
       "      <th>50%</th>\n",
       "      <td>1.500000e+01</td>\n",
       "      <td>8.000000e+00</td>\n",
       "      <td>0.000000e+00</td>\n",
       "      <td>0.000000e+00</td>\n",
       "      <td>0.000000e+00</td>\n",
       "      <td>0.000000e+00</td>\n",
       "      <td>0.000000e+00</td>\n",
       "      <td>1.000000e+00</td>\n",
       "      <td>2.000000e+00</td>\n",
       "      <td>4.000000e+00</td>\n",
       "      <td>...</td>\n",
       "      <td>0.000000e+00</td>\n",
       "      <td>8.200000e-01</td>\n",
       "      <td>8.100000e-01</td>\n",
       "      <td>0.000000e+00</td>\n",
       "      <td>0.000000e+00</td>\n",
       "      <td>0.000000e+00</td>\n",
       "      <td>0.000000e+00</td>\n",
       "      <td>1.000000e+00</td>\n",
       "      <td>0.000000e+00</td>\n",
       "      <td>0.000000e+00</td>\n",
       "    </tr>\n",
       "    <tr>\n",
       "      <th>75%</th>\n",
       "      <td>8.000000e+01</td>\n",
       "      <td>9.000000e+00</td>\n",
       "      <td>0.000000e+00</td>\n",
       "      <td>4.000000e+00</td>\n",
       "      <td>1.200000e+01</td>\n",
       "      <td>2.000000e+01</td>\n",
       "      <td>4.000000e+00</td>\n",
       "      <td>1.500000e+01</td>\n",
       "      <td>3.100000e+01</td>\n",
       "      <td>4.700000e+01</td>\n",
       "      <td>...</td>\n",
       "      <td>0.000000e+00</td>\n",
       "      <td>9.700000e-01</td>\n",
       "      <td>9.500000e-01</td>\n",
       "      <td>0.000000e+00</td>\n",
       "      <td>0.000000e+00</td>\n",
       "      <td>0.000000e+00</td>\n",
       "      <td>0.000000e+00</td>\n",
       "      <td>1.000000e+00</td>\n",
       "      <td>0.000000e+00</td>\n",
       "      <td>0.000000e+00</td>\n",
       "    </tr>\n",
       "    <tr>\n",
       "      <th>max</th>\n",
       "      <td>1.233440e+07</td>\n",
       "      <td>5.200000e+01</td>\n",
       "      <td>4.894080e+05</td>\n",
       "      <td>1.427612e+06</td>\n",
       "      <td>2.461360e+06</td>\n",
       "      <td>3.777304e+06</td>\n",
       "      <td>7.417740e+05</td>\n",
       "      <td>1.105478e+06</td>\n",
       "      <td>2.146625e+06</td>\n",
       "      <td>3.205172e+06</td>\n",
       "      <td>...</td>\n",
       "      <td>1.464960e+05</td>\n",
       "      <td>1.000000e+00</td>\n",
       "      <td>1.000000e+00</td>\n",
       "      <td>1.253000e+04</td>\n",
       "      <td>1.000000e+00</td>\n",
       "      <td>1.000000e+00</td>\n",
       "      <td>1.000000e+00</td>\n",
       "      <td>1.000000e+00</td>\n",
       "      <td>1.000000e+00</td>\n",
       "      <td>1.000000e+00</td>\n",
       "    </tr>\n",
       "  </tbody>\n",
       "</table>\n",
       "<p>8 rows × 22 columns</p>\n",
       "</div>"
      ],
      "text/plain": [
       "       national_inv     lead_time  in_transit_qty  forecast_3_month  \\\n",
       "count  1.687860e+06  1.586967e+06    1.687860e+06      1.687860e+06   \n",
       "mean   4.961118e+02  7.872267e+00    4.405202e+01      1.781193e+02   \n",
       "std    2.961523e+04  7.056024e+00    1.342742e+03      5.026553e+03   \n",
       "min   -2.725600e+04  0.000000e+00    0.000000e+00      0.000000e+00   \n",
       "25%    4.000000e+00  4.000000e+00    0.000000e+00      0.000000e+00   \n",
       "50%    1.500000e+01  8.000000e+00    0.000000e+00      0.000000e+00   \n",
       "75%    8.000000e+01  9.000000e+00    0.000000e+00      4.000000e+00   \n",
       "max    1.233440e+07  5.200000e+01    4.894080e+05      1.427612e+06   \n",
       "\n",
       "       forecast_6_month  forecast_9_month  sales_1_month  sales_3_month  \\\n",
       "count      1.687860e+06      1.687860e+06   1.687860e+06   1.687860e+06   \n",
       "mean       3.449867e+02      5.063644e+02   5.592607e+01   1.750259e+02   \n",
       "std        9.795152e+03      1.437892e+04   1.928196e+03   5.192378e+03   \n",
       "min        0.000000e+00      0.000000e+00   0.000000e+00   0.000000e+00   \n",
       "25%        0.000000e+00      0.000000e+00   0.000000e+00   0.000000e+00   \n",
       "50%        0.000000e+00      0.000000e+00   0.000000e+00   1.000000e+00   \n",
       "75%        1.200000e+01      2.000000e+01   4.000000e+00   1.500000e+01   \n",
       "max        2.461360e+06      3.777304e+06   7.417740e+05   1.105478e+06   \n",
       "\n",
       "       sales_6_month  sales_9_month        ...          pieces_past_due  \\\n",
       "count   1.687860e+06   1.687860e+06        ...             1.687860e+06   \n",
       "mean    3.417288e+02   5.252697e+02        ...             2.043724e+00   \n",
       "std     9.613167e+03   1.483861e+04        ...             2.360165e+02   \n",
       "min     0.000000e+00   0.000000e+00        ...             0.000000e+00   \n",
       "25%     0.000000e+00   0.000000e+00        ...             0.000000e+00   \n",
       "50%     2.000000e+00   4.000000e+00        ...             0.000000e+00   \n",
       "75%     3.100000e+01   4.700000e+01        ...             0.000000e+00   \n",
       "max     2.146625e+06   3.205172e+06        ...             1.464960e+05   \n",
       "\n",
       "       perf_6_month_avg  perf_12_month_avg  local_bo_qty     deck_risk  \\\n",
       "count      1.687860e+06       1.687860e+06  1.687860e+06  1.687860e+06   \n",
       "mean      -6.872059e+00      -6.437947e+00  6.264507e-01  2.295706e-01   \n",
       "std        2.655636e+01       2.584333e+01  3.372224e+01  4.205568e-01   \n",
       "min       -9.900000e+01      -9.900000e+01  0.000000e+00  0.000000e+00   \n",
       "25%        6.300000e-01       6.600000e-01  0.000000e+00  0.000000e+00   \n",
       "50%        8.200000e-01       8.100000e-01  0.000000e+00  0.000000e+00   \n",
       "75%        9.700000e-01       9.500000e-01  0.000000e+00  0.000000e+00   \n",
       "max        1.000000e+00       1.000000e+00  1.253000e+04  1.000000e+00   \n",
       "\n",
       "       oe_constraint     ppap_risk  stop_auto_buy      rev_stop  \\\n",
       "count   1.687860e+06  1.687860e+06   1.687860e+06  1.687860e+06   \n",
       "mean    1.451542e-04  1.207648e-01   9.638086e-01  4.330928e-04   \n",
       "std     1.204713e-02  3.258538e-01   1.867661e-01  2.080638e-02   \n",
       "min     0.000000e+00  0.000000e+00   0.000000e+00  0.000000e+00   \n",
       "25%     0.000000e+00  0.000000e+00   1.000000e+00  0.000000e+00   \n",
       "50%     0.000000e+00  0.000000e+00   1.000000e+00  0.000000e+00   \n",
       "75%     0.000000e+00  0.000000e+00   1.000000e+00  0.000000e+00   \n",
       "max     1.000000e+00  1.000000e+00   1.000000e+00  1.000000e+00   \n",
       "\n",
       "       went_on_backorder  \n",
       "count       1.687860e+06  \n",
       "mean        6.690721e-03  \n",
       "std         8.152275e-02  \n",
       "min         0.000000e+00  \n",
       "25%         0.000000e+00  \n",
       "50%         0.000000e+00  \n",
       "75%         0.000000e+00  \n",
       "max         1.000000e+00  \n",
       "\n",
       "[8 rows x 22 columns]"
      ]
     },
     "execution_count": 59,
     "metadata": {},
     "output_type": "execute_result"
    }
   ],
   "source": [
    "orders.tail()\n",
    "#data Information\n",
    "orders.info()\n",
    "#data description\n",
    "orders.describe()"
   ]
  },
  {
   "cell_type": "markdown",
   "metadata": {},
   "source": [
    "### Data Preparation"
   ]
  },
  {
   "cell_type": "code",
   "execution_count": 60,
   "metadata": {},
   "outputs": [
    {
     "data": {
      "text/plain": [
       "0"
      ]
     },
     "execution_count": 60,
     "metadata": {},
     "output_type": "execute_result"
    }
   ],
   "source": [
    "#missing values in product\n",
    "orders.sku.isnull().sum()"
   ]
  },
  {
   "cell_type": "code",
   "execution_count": 61,
   "metadata": {},
   "outputs": [
    {
     "data": {
      "text/plain": [
       "sku                       0\n",
       "national_inv              0\n",
       "lead_time            100893\n",
       "in_transit_qty            0\n",
       "forecast_3_month          0\n",
       "forecast_6_month          0\n",
       "forecast_9_month          0\n",
       "sales_1_month             0\n",
       "sales_3_month             0\n",
       "sales_6_month             0\n",
       "sales_9_month             0\n",
       "min_bank                  0\n",
       "potential_issue           0\n",
       "pieces_past_due           0\n",
       "perf_6_month_avg          0\n",
       "perf_12_month_avg         0\n",
       "local_bo_qty              0\n",
       "deck_risk                 0\n",
       "oe_constraint             0\n",
       "ppap_risk                 0\n",
       "stop_auto_buy             0\n",
       "rev_stop                  0\n",
       "went_on_backorder         0\n",
       "dtype: int64"
      ]
     },
     "execution_count": 61,
     "metadata": {},
     "output_type": "execute_result"
    }
   ],
   "source": [
    "#missing value \n",
    "orders.isnull().sum()"
   ]
  },
  {
   "cell_type": "code",
   "execution_count": 62,
   "metadata": {
    "collapsed": true
   },
   "outputs": [],
   "source": [
    "#replacing -99 missing values to median\n",
    "imp=Imputer(missing_values=-99,strategy='median')\n",
    "for data in ['perf_6_month_avg','perf_12_month_avg']:\n",
    "    orders[data] = imp.fit_transform(orders[data].values.reshape(-1, 1))"
   ]
  },
  {
   "cell_type": "markdown",
   "metadata": {},
   "source": [
    "### EDA"
   ]
  },
  {
   "cell_type": "code",
   "execution_count": 88,
   "metadata": {},
   "outputs": [
    {
     "name": "stdout",
     "output_type": "stream",
     "text": [
      "0.6690720794378681 %\n",
      "11293\n"
     ]
    }
   ],
   "source": [
    "#backorder ratio\n",
    "prob=len(orders[orders.went_on_backorder==1])/len(orders.sku)\n",
    "print((prob*100),'%')\n",
    "print(len(orders[orders.went_on_backorder==1]))\n"
   ]
  },
  {
   "cell_type": "markdown",
   "metadata": {},
   "source": [
    "check the missing data in lead time to replace it or not?\n",
    "1. Proportion of orders that “went_on_backorder” for missing lead_time records\n",
    "2. Proportion of orders that “went_on_backorder” for non-null lead_time records"
   ]
  },
  {
   "cell_type": "code",
   "execution_count": 98,
   "metadata": {},
   "outputs": [
    {
     "name": "stdout",
     "output_type": "stream",
     "text": [
      "number of orders with missing lead time: 100893\n",
      "number of orders without missing lead time: 1586967\n",
      "Number of backordered products with misssing lead time: 324\n",
      "Number of backordered products without misssing lead time: 10969\n",
      "Total orders went on backorders: 11293\n",
      "Proportion of orders without missing lead time that went_on_backorder: 0.691192696508\n",
      "Proportion of orders with missing lead_time that went_on_backorder : 0.321132288662\n"
     ]
    }
   ],
   "source": [
    "n_null_leadTime = orders[orders['lead_time'].isnull()].shape[0]\n",
    "print ('number of orders with missing lead time:', orders[orders['lead_time'].isnull()].shape[0])\n",
    "n_non_null_leadTime = orders[orders['lead_time'].notnull()].shape[0]\n",
    "print ('number of orders without missing lead time:',orders[orders['lead_time'].notnull()].shape[0])\n",
    "n_null_leadTime_backorders =sum(orders[np.isnan(orders[\"lead_time\"])][\"went_on_backorder\"])\n",
    "print ('Number of backordered products with misssing lead time:', n_null_leadTime_backorders)\n",
    "n_non_null_leadTime_backorders = sum(orders[pd.notnull(orders[\"lead_time\"])][\"went_on_backorder\"])\n",
    "print  ('Number of backordered products without misssing lead time:',n_non_null_leadTime_backorders)\n",
    "print ('Total orders went on backorders:',n_null_leadTime_backorders+ n_non_null_leadTime_backorders)\n",
    "\n",
    "null_leadTime_backorder_ratio = n_null_leadTime_backorders / float(n_null_leadTime)\n",
    "non_null_leadTime_backorder_ratio = n_non_null_leadTime_backorders / float(n_non_null_leadTime)\n",
    "print('Proportion of orders without missing lead time that went_on_backorder:',non_null_leadTime_backorder_ratio * 100)\n",
    "print('Proportion of orders with missing lead_time that went_on_backorder :', null_leadTime_backorder_ratio * 100)\n"
   ]
  },
  {
   "cell_type": "markdown",
   "metadata": {
    "collapsed": true
   },
   "source": [
    "Based on the above calculations the proportion of backordered products with missing lead time is 50% less than those without missing lead time.\n",
    "The proportion of backordere products with missing lead time is half of the products with no missing values, therefore I decided not to replace the missing data in lead time and not dropiing them.\n",
    "Plot below shows the density of products for a given lead time that went on backorder and did not go on backorder."
   ]
  },
  {
   "cell_type": "code",
   "execution_count": 100,
   "metadata": {
    "scrolled": false
   },
   "outputs": [
    {
     "data": {
      "image/png": "[encoded data removed]",
      "text/plain": [
       "<matplotlib.figure.Figure at 0x29aef4521d0>"
      ]
     },
     "metadata": {},
     "output_type": "display_data"
    }
   ],
   "source": [
    "#Relationship between lead time and went on backorder\n",
    "sns.kdeplot(orders[(orders['went_on_backorder'] == 0) & (orders['lead_time'] < 20)]['lead_time'],color='b', shade=True,label='not went on backorder')\n",
    "sns.kdeplot(orders[(orders['went_on_backorder'] == 1) & (orders['lead_time'] < 20)]['lead_time'], color='r',shade=True,label='went on backorder')\n",
    "plt.title('Lead Time vs backorder')\n",
    "plt.show()"
   ]
  },
  {
   "cell_type": "markdown",
   "metadata": {},
   "source": [
    "I can see that both lead time with back order and not backorder both peak for the same Lead time. However, the backorder graph is lower than no backorder graph.\n",
    "Therefore I am going to see if lead time and went on backorder are independent or dependent from each other.\n",
    "the next step is looking at the relationship between lead time and fraction of products that went on backorder to see how lead time changes the probability of went to backorder."
   ]
  },
  {
   "cell_type": "markdown",
   "metadata": {},
   "source": [
    "Plot below shows the relation between lead time and the fraction of backorder. The following plot shows with longer lead time, backorder proportion goes down."
   ]
  },
  {
   "cell_type": "code",
   "execution_count": 101,
   "metadata": {
    "scrolled": false
   },
   "outputs": [
    {
     "name": "stdout",
     "output_type": "stream",
     "text": [
      "[[ 1.        -0.5420028]\n",
      " [-0.5420028  1.       ]]\n"
     ]
    },
    {
     "data": {
      "image/png": "[encoded data removed]",
      "text/plain": [
       "<matplotlib.figure.Figure at 0x29a89e83f98>"
      ]
     },
     "metadata": {},
     "output_type": "display_data"
    },
    {
     "name": "stdout",
     "output_type": "stream",
     "text": [
      "[1.5412425078489203, 1.0245938079797985, 1.2551528948501816, 0.36954339995487684, 1.2900024807740016, 1.006523765144455, 0.4784688995215311, 0.6954115153345275, 0.43348510703685433, 0.48618940248027059, 1.7367458866544789, 0.51276915373059584, 0.38852913968547642, 0.44599573395384917, 0.73452256033578167, 0.49756869840551843, 0.29231995748073347, 0.073058147643874735]\n"
     ]
    },
    {
     "data": {
      "text/html": [
       "<div>\n",
       "<style>\n",
       "    .dataframe thead tr:only-child th {\n",
       "        text-align: right;\n",
       "    }\n",
       "\n",
       "    .dataframe thead th {\n",
       "        text-align: left;\n",
       "    }\n",
       "\n",
       "    .dataframe tbody tr th {\n",
       "        vertical-align: top;\n",
       "    }\n",
       "</style>\n",
       "<table border=\"1\" class=\"dataframe\">\n",
       "  <thead>\n",
       "    <tr style=\"text-align: right;\">\n",
       "      <th></th>\n",
       "      <th>lead_b</th>\n",
       "      <th>lead_n</th>\n",
       "    </tr>\n",
       "  </thead>\n",
       "  <tbody>\n",
       "    <tr>\n",
       "      <th>0.0</th>\n",
       "      <td>162.0</td>\n",
       "      <td>10349</td>\n",
       "    </tr>\n",
       "    <tr>\n",
       "      <th>2.0</th>\n",
       "      <td>3457.0</td>\n",
       "      <td>333945</td>\n",
       "    </tr>\n",
       "    <tr>\n",
       "      <th>3.0</th>\n",
       "      <td>204.0</td>\n",
       "      <td>16049</td>\n",
       "    </tr>\n",
       "    <tr>\n",
       "      <th>4.0</th>\n",
       "      <td>475.0</td>\n",
       "      <td>128062</td>\n",
       "    </tr>\n",
       "    <tr>\n",
       "      <th>5.0</th>\n",
       "      <td>52.0</td>\n",
       "      <td>3979</td>\n",
       "    </tr>\n",
       "    <tr>\n",
       "      <th>6.0</th>\n",
       "      <td>54.0</td>\n",
       "      <td>5311</td>\n",
       "    </tr>\n",
       "    <tr>\n",
       "      <th>7.0</th>\n",
       "      <td>1.0</td>\n",
       "      <td>208</td>\n",
       "    </tr>\n",
       "    <tr>\n",
       "      <th>8.0</th>\n",
       "      <td>4744.0</td>\n",
       "      <td>677442</td>\n",
       "    </tr>\n",
       "    <tr>\n",
       "      <th>9.0</th>\n",
       "      <td>536.0</td>\n",
       "      <td>123113</td>\n",
       "    </tr>\n",
       "    <tr>\n",
       "      <th>10.0</th>\n",
       "      <td>69.0</td>\n",
       "      <td>14123</td>\n",
       "    </tr>\n",
       "    <tr>\n",
       "      <th>11.0</th>\n",
       "      <td>19.0</td>\n",
       "      <td>1075</td>\n",
       "    </tr>\n",
       "    <tr>\n",
       "      <th>12.0</th>\n",
       "      <td>1024.0</td>\n",
       "      <td>198676</td>\n",
       "    </tr>\n",
       "    <tr>\n",
       "      <th>13.0</th>\n",
       "      <td>21.0</td>\n",
       "      <td>5384</td>\n",
       "    </tr>\n",
       "    <tr>\n",
       "      <th>14.0</th>\n",
       "      <td>46.0</td>\n",
       "      <td>10268</td>\n",
       "    </tr>\n",
       "    <tr>\n",
       "      <th>15.0</th>\n",
       "      <td>28.0</td>\n",
       "      <td>3784</td>\n",
       "    </tr>\n",
       "    <tr>\n",
       "      <th>16.0</th>\n",
       "      <td>44.0</td>\n",
       "      <td>8799</td>\n",
       "    </tr>\n",
       "    <tr>\n",
       "      <th>17.0</th>\n",
       "      <td>11.0</td>\n",
       "      <td>3752</td>\n",
       "    </tr>\n",
       "    <tr>\n",
       "      <th>52.0</th>\n",
       "      <td>22.0</td>\n",
       "      <td>30091</td>\n",
       "    </tr>\n",
       "  </tbody>\n",
       "</table>\n",
       "</div>"
      ],
      "text/plain": [
       "      lead_b  lead_n\n",
       "0.0    162.0   10349\n",
       "2.0   3457.0  333945\n",
       "3.0    204.0   16049\n",
       "4.0    475.0  128062\n",
       "5.0     52.0    3979\n",
       "6.0     54.0    5311\n",
       "7.0      1.0     208\n",
       "8.0   4744.0  677442\n",
       "9.0    536.0  123113\n",
       "10.0    69.0   14123\n",
       "11.0    19.0    1075\n",
       "12.0  1024.0  198676\n",
       "13.0    21.0    5384\n",
       "14.0    46.0   10268\n",
       "15.0    28.0    3784\n",
       "16.0    44.0    8799\n",
       "17.0    11.0    3752\n",
       "52.0    22.0   30091"
      ]
     },
     "execution_count": 101,
     "metadata": {},
     "output_type": "execute_result"
    }
   ],
   "source": [
    "import decimal\n",
    "b=orders[['went_on_backorder','lead_time']]\n",
    "backorder=b[b.went_on_backorder==1]\n",
    "no_backorder=b[b.went_on_backorder==0]\n",
    "lead_b=backorder.lead_time.value_counts()\n",
    "lead_n=no_backorder.lead_time.value_counts()\n",
    "c=[]\n",
    "df1 = pd.DataFrame(\n",
    "    {\n",
    "     'lead_b': lead_b,\n",
    "     'lead_n':lead_n\n",
    "    })\n",
    "\n",
    "df1=df1[['lead_b','lead_n']].dropna()\n",
    "\n",
    "\n",
    "for i in range(0,len(df1)):\n",
    "    backorder_ratio=(df1.lead_b.iloc[i])/(df1.lead_n.iloc[i]+df1.lead_b.iloc[i])\n",
    "    backorder_ratio=backorder_ratio*100\n",
    "    c.append(backorder_ratio)\n",
    "\n",
    "\n",
    "print(np.corrcoef(df1.index.values,c))\n",
    "\n",
    "plt.plot(df1.index.values,c,\"*\",color=\"blue\")\n",
    "plt.title('ratio of lead time(transit time for products)that went on backorder')\n",
    "#plt.plot(np.array(range(len(c))) * 0.25, c,\".\")\n",
    "plt.show()\n",
    "print(c)\n",
    "df1\n"
   ]
  },
  {
   "cell_type": "markdown",
   "metadata": {
    "collapsed": true
   },
   "source": [
    "In the above plot, two outlier are noticed. one is at lead time=11 and one at lead time 52. \n",
    "for the point on 52 I belive there was not enough records to show the rest of point between17 to 52.\n",
    "the point at lead time 11 should be given special attention till its cause is known.\n",
    "fo this reason I am going to calulate the probability bionomial distribution."
   ]
  },
  {
   "cell_type": "code",
   "execution_count": 18,
   "metadata": {},
   "outputs": [
    {
     "name": "stdout",
     "output_type": "stream",
     "text": [
      "0.00786682435841\n",
      "3.2909876936871094\n",
      "2.449112774095443\n"
     ]
    }
   ],
   "source": [
    "from scipy.stats import binom\n",
    "import math\n",
    "s = binom.pmf(19, 1094,0.01)\n",
    "print(s)\n",
    "sd=math.sqrt(1094 * 0.01 * (1 - 0.01))\n",
    "print(\"Standard deviation \",sd)\n",
    "print ((19 - 10.94)/sd)"
   ]
  },
  {
   "cell_type": "markdown",
   "metadata": {
    "collapsed": true
   },
   "source": [
    "As you see from the above calculations standard deviation of bionomial distribution is 3.23 standard deviation from the mean so I am going to ignore this point "
   ]
  },
  {
   "cell_type": "markdown",
   "metadata": {},
   "source": [
    "### Data Reduction:\n",
    "Cumulative percentage is one way of expressing frequency distribution. \n"
   ]
  },
  {
   "cell_type": "code",
   "execution_count": 68,
   "metadata": {},
   "outputs": [
    {
     "name": "stderr",
     "output_type": "stream",
     "text": [
      "C:\\Users\\Hedi\\Anaconda3\\lib\\site-packages\\ipykernel_launcher.py:5: RuntimeWarning: divide by zero encountered in log\n",
      "  \"\"\"\n"
     ]
    },
    {
     "data": {
      "image/png": "[encoded data removed]",
      "text/plain": [
       "<matplotlib.figure.Figure at 0x29aef3d5a58>"
      ]
     },
     "metadata": {},
     "output_type": "display_data"
    }
   ],
   "source": [
    "sales_sort=orders.sort_values('sales_9_month',ascending = False)\n",
    "sns.kdeplot(np.log(sales_sort['sales_9_month']),color='m', shade=True)\n",
    "plt.show()"
   ]
  },
  {
   "cell_type": "code",
   "execution_count": 70,
   "metadata": {},
   "outputs": [
    {
     "name": "stdout",
     "output_type": "stream",
     "text": [
      "[[ 1.          0.90766073]\n",
      " [ 0.90766073  1.        ]]\n"
     ]
    },
    {
     "data": {
      "image/png": "[encoded data removed]",
      "text/plain": [
       "<matplotlib.figure.Figure at 0x29a89c355f8>"
      ]
     },
     "metadata": {},
     "output_type": "display_data"
    }
   ],
   "source": [
    "#relationship between sales and backorder\n",
    "backorder_sales=sales_sort[sales_sort.went_on_backorder==1]\n",
    "no_backorder_sales=sales_sort[sales_sort.went_on_backorder==0]\n",
    "sales_b=backorder_sales.sales_9_month.value_counts()\n",
    "sales_n=no_backorder_sales.sales_9_month.value_counts()\n",
    "g=[]\n",
    "df2 = pd.DataFrame(\n",
    "    {\n",
    "     'sales_b': sales_b,\n",
    "     'sales_n':sales_n\n",
    "    })\n",
    "\n",
    "df2=df2[['sales_b','sales_n']].dropna()\n",
    "\n",
    "\n",
    "for i in range(0,len(df2)):\n",
    "    backorder_ratio=(df2.sales_b.iloc[i])/(df2.sales_n.iloc[i]+df2.sales_b.iloc[i])\n",
    "    backorder_ratio=backorder_ratio*100\n",
    "    g.append(backorder_ratio)\n",
    "\n",
    "\n",
    "print(np.corrcoef(df2.index.values,g))\n",
    "plt.plot(np.array(range(len(g))) * 0.25, g,\".\",color='purple')\n",
    "plt.title('ratio of total sales count values that went on backorder')\n",
    "plt.xlabel('sales')\n",
    "plt.ylabel('ratio of sales went on backorder')\n",
    "plt.show()\n"
   ]
  },
  {
   "cell_type": "markdown",
   "metadata": {},
   "source": [
    "Data reduction by capture 60% of the total sales volume."
   ]
  },
  {
   "cell_type": "code",
   "execution_count": 71,
   "metadata": {},
   "outputs": [
    {
     "name": "stdout",
     "output_type": "stream",
     "text": [
      "883338607.0\n",
      "530003164.2\n"
     ]
    },
    {
     "data": {
      "image/png": "[encoded data removed]",
      "text/plain": [
       "<matplotlib.figure.Figure at 0x29a89bf6048>"
      ]
     },
     "metadata": {},
     "output_type": "display_data"
    }
   ],
   "source": [
    "sales_volume =np.cumsum(sales_sort.sales_9_month)\n",
    "print(sales_volume[len(sales_volume)-1])\n",
    "print(0.6 * sales_volume[len(sales_volume)-1])\n",
    "plt.plot(np.array(range(len(sales_sort))) * 0.28, sales_volume,\".\",color=\"orange\")\n",
    "plt.title('Total sales volume')\n",
    "\n",
    "plt.show()"
   ]
  },
  {
   "cell_type": "code",
   "execution_count": 82,
   "metadata": {},
   "outputs": [
    {
     "name": "stdout",
     "output_type": "stream",
     "text": [
      "530003164.2\n",
      "883338607.0\n"
     ]
    },
    {
     "data": {
      "image/png": "[encoded data removed]",
      "text/plain": [
       "<matplotlib.figure.Figure at 0x29aef430978>"
      ]
     },
     "metadata": {},
     "output_type": "display_data"
    },
    {
     "data": {
      "text/plain": [
       "7397"
      ]
     },
     "execution_count": 82,
     "metadata": {},
     "output_type": "execute_result"
    }
   ],
   "source": [
    "volume_perc=0.6 * sales_volume[len(sales_volume)-1]\n",
    "print(volume_perc)\n",
    "print(sales_volume[len(sales_volume)-1])\n",
    "sales_sort['sales_volume']=sales_volume\n",
    "\n",
    "sales_sort=sales_sort.sort_values('sales_volume',ascending = True)\n",
    "sales_sort=sales_sort[sales_sort['sales_volume']<=volume_perc]\n",
    "\n",
    "sales_sort=sales_sort.sort_values('sales_9_month',ascending = False)\n",
    "plt.plot(np.array(range(len(sales_sort))) * 0.28, sales_sort.sales_9_month,\".\",color=\"green\")\n",
    "plt.title('Total sales count')\n",
    "plt.show()\n",
    "len(sales_sort)"
   ]
  },
  {
   "cell_type": "markdown",
   "metadata": {},
   "source": [
    "So with capturing 60% total sales volume ,data is reduced to 7509 rows."
   ]
  },
  {
   "cell_type": "code",
   "execution_count": 85,
   "metadata": {
    "scrolled": true
   },
   "outputs": [
    {
     "name": "stdout",
     "output_type": "stream",
     "text": [
      "4\n",
      "184\n",
      "13581330.0\n",
      "529994997.0\n",
      "         went_on_backorder     lead_time\n",
      "0                      inf           NaN\n",
      "1                      inf  1.509037e+08\n",
      "2                      inf           NaN\n",
      "3                      inf  1.697666e+08\n",
      "4                      inf           NaN\n",
      "5                      inf  1.697666e+08\n",
      "6                      inf           NaN\n",
      "7                      inf  6.790665e+08\n",
      "8                      inf           NaN\n",
      "9                      inf  1.697666e+08\n",
      "10                     inf  6.790665e+08\n",
      "11                     inf           NaN\n",
      "12                     inf           NaN\n",
      "13                     inf           NaN\n",
      "14                     inf           NaN\n",
      "15                     inf  1.697666e+08\n",
      "16                     inf  6.790665e+08\n",
      "17                     inf  6.790665e+08\n",
      "18                     inf           NaN\n",
      "19                     inf  1.697666e+08\n",
      "20                     inf           NaN\n",
      "21                     inf           NaN\n",
      "22                     inf           NaN\n",
      "23                     inf           NaN\n",
      "24                     inf  1.697666e+08\n",
      "25                     inf           NaN\n",
      "26                     inf           NaN\n",
      "27                     inf  6.790665e+08\n",
      "28                     inf           NaN\n",
      "29                     inf           NaN\n",
      "...                    ...           ...\n",
      "1687830                inf  6.790665e+08\n",
      "1687831                inf  3.395332e+08\n",
      "1687832                inf  6.790665e+08\n",
      "1687833                inf  6.790665e+08\n",
      "1687834                inf  4.527110e+08\n",
      "1687835                inf           NaN\n",
      "1687836       1.358133e+09  1.697666e+08\n",
      "1687837                inf  3.395332e+08\n",
      "1687838                inf  3.395332e+08\n",
      "1687839                inf  1.131778e+08\n",
      "1687840                inf  1.131778e+08\n",
      "1687841                inf  3.395332e+08\n",
      "1687842                inf  1.697666e+08\n",
      "1687843                inf  4.527110e+08\n",
      "1687844                inf  6.790665e+08\n",
      "1687845                inf  3.395332e+08\n",
      "1687846                inf  1.131778e+08\n",
      "1687847                inf           NaN\n",
      "1687848                inf  1.697666e+08\n",
      "1687849                inf  6.790665e+08\n",
      "1687850                inf           NaN\n",
      "1687851                inf  1.509037e+08\n",
      "1687852                inf  1.697666e+08\n",
      "1687853       1.358133e+09  6.790665e+08\n",
      "1687854                inf  1.697666e+08\n",
      "1687855                inf  6.790665e+08\n",
      "1687856                inf           NaN\n",
      "1687857       1.358133e+09  1.509037e+08\n",
      "1687858                inf  1.509037e+08\n",
      "1687859                inf  3.395332e+08\n",
      "\n",
      "[1687860 rows x 2 columns]\n"
     ]
    },
    {
     "name": "stderr",
     "output_type": "stream",
     "text": [
      "C:\\Users\\Hedi\\Anaconda3\\lib\\site-packages\\ipykernel_launcher.py:5: RuntimeWarning: divide by zero encountered in true_divide\n",
      "  \"\"\"\n"
     ]
    }
   ],
   "source": [
    "print(sum(sales_sort[np.isnan(sales_sort[\"lead_time\"])][\"went_on_backorder\"]))\n",
    "print(sum(sales_sort.lead_time.isnull()))\n",
    "print (sum(sales_sort[np.isnan(sales_sort[\"lead_time\"])][\"sales_9_month\"]))\n",
    "print (sum(sales_sort.sales_9_month))\n",
    "print ((a/b)*100)"
   ]
  },
  {
   "cell_type": "markdown",
   "metadata": {},
   "source": [
    "How common are backorders? Given that, how likely are backorders based on the part risk flags? \n",
    "And how prevalent are they? \n",
    "What is the relationship between \"potential_issue\" and \"pieces_past_due\" are each represented by part \n",
    "risk flags or are they unrelated concepts? What's the relationship between lead time and back orders? \n",
    "Based on the answers to these questions you could recommend: What aspects of the supply chain present the biggest risks? \n",
    "Based on the risks, what would you recommend improving first?\n",
    "    \n",
    "potential_issue - Source issue for part identified\n",
    "\n",
    "pieces_past_due - Parts overdue from source\n",
    "\n",
    "local_bo_qty - Amount of stock orders overdue\n",
    "\n",
    "deck_risk - Part risk flag\n",
    "\n",
    "oe_constraint - Part risk flag\n",
    "\n",
    "ppap_risk - Part risk flag"
   ]
  },
  {
   "cell_type": "code",
   "execution_count": 105,
   "metadata": {},
   "outputs": [
    {
     "name": "stdout",
     "output_type": "stream",
     "text": [
      "[[ 1.          0.00331913]\n",
      " [ 0.00331913  1.        ]]\n",
      "Source issue for part identified correlation with backorder [[ 1.         0.0140902]\n",
      " [ 0.0140902  1.       ]]\n",
      "Parts overdue from source correlation with backorder [[  1.00000000e+00   5.16086480e-04]\n",
      " [  5.16086480e-04   1.00000000e+00]]\n",
      "Amount of stock orders overdue correlation with backorder [[ 1.          0.00950369]\n",
      " [ 0.00950369  1.        ]]\n",
      "oe_constraint - Part risk flag correlation with backorder [[ 1.          0.00383717]\n",
      " [ 0.00383717  1.        ]]\n",
      "ppap_risk - Part risk flag correlation with backorder [[ 1.         0.0088142]\n",
      " [ 0.0088142  1.       ]]\n",
      "Total sales for perior 9,6,3 and 1 month correlation with backorder [[ 1.         -0.00176378]\n",
      " [-0.00176378  1.        ]]\n",
      "Total Forecast sales - Part risk flag correlation with backorder [[ 1.         -0.00102983]\n",
      " [-0.00102983  1.        ]]\n",
      "Total Forecast sales - Total Sales [[ 1.         0.8818941]\n",
      " [ 0.8818941  1.       ]]\n"
     ]
    }
   ],
   "source": [
    "print(np.corrcoef(orders.potential_issue,orders.pieces_past_due))\n",
    "print('Source issue for part identified correlation with backorder',np.corrcoef(orders.potential_issue,orders.went_on_backorder))\n",
    "print('Parts overdue from source correlation with backorder', np.corrcoef(orders.went_on_backorder,orders.pieces_past_due))\n",
    "print('Amount of stock orders overdue correlation with backorder',np.corrcoef(orders.went_on_backorder,orders.local_bo_qty))\n",
    "print('oe_constraint - Part risk flag correlation with backorder',np.corrcoef(orders.went_on_backorder,orders.oe_constraint))\n",
    "print('ppap_risk - Part risk flag correlation with backorder', np.corrcoef(orders.went_on_backorder,orders.ppap_risk))\n",
    "print('Total sales for perior 9,6,3 and 1 month correlation with backorder',np.corrcoef(orders.went_on_backorder,orders.sales_9_month))\n",
    "print('Total Forecast sales - Part risk flag correlation with backorder',np.corrcoef(orders.went_on_backorder,orders.forecast_9_month))\n",
    "print('Total Forecast sales - Total Sales',np.corrcoef(orders.sales_9_month,orders.forecast_9_month))"
   ]
  },
  {
   "cell_type": "code",
   "execution_count": 106,
   "metadata": {},
   "outputs": [
    {
     "data": {
      "image/png": "[encoded data removed]",
      "text/plain": [
       "<matplotlib.figure.Figure at 0x29a89c22518>"
      ]
     },
     "metadata": {},
     "output_type": "display_data"
    }
   ],
   "source": [
    "orders=orders.sort_values('sales_9_month',ascending = True)\n",
    "plt.plot((orders.sales_9_month), orders.forecast_9_month,\".\",color='darkblue')\n",
    "plt.title('total sales and total forecast')\n",
    "plt.xlabel('sales')\n",
    "plt.ylabel('forecast')\n",
    "plt.show()\n"
   ]
  },
  {
   "cell_type": "markdown",
   "metadata": {},
   "source": [
    "We should find out where actually the forecast was not right so that caused backorder?\n",
    "because when saes go up forecast also should go up????\n"
   ]
  },
  {
   "cell_type": "markdown",
   "metadata": {
    "collapsed": true
   },
   "source": [
    "## How predictable are sales?\n"
   ]
  },
  {
   "cell_type": "code",
   "execution_count": 107,
   "metadata": {},
   "outputs": [
    {
     "name": "stderr",
     "output_type": "stream",
     "text": [
      "C:\\Users\\Hedi\\Anaconda3\\lib\\site-packages\\ipykernel_launcher.py:13: RuntimeWarning: divide by zero encountered in log\n",
      "  del sys.path[0]\n",
      "C:\\Users\\Hedi\\Anaconda3\\lib\\site-packages\\ipykernel_launcher.py:14: RuntimeWarning: divide by zero encountered in log\n",
      "  \n",
      "C:\\Users\\Hedi\\Anaconda3\\lib\\site-packages\\ipykernel_launcher.py:15: RuntimeWarning: divide by zero encountered in log\n",
      "  from ipykernel import kernelapp as app\n"
     ]
    },
    {
     "data": {
      "image/png": "[encoded data removed]",
      "text/plain": [
       "<matplotlib.figure.Figure at 0x29a89e05a90>"
      ]
     },
     "metadata": {},
     "output_type": "display_data"
    }
   ],
   "source": [
    "#use hypothesis testing that sales doesnt effect backorder\n",
    "df_sales=orders\n",
    "sales123=df_sales.sales_3_month\n",
    "sales456=df_sales.sales_6_month-df_sales.sales_3_month\n",
    "sales789=df_sales.sales_9_month-df_sales.sales_6_month\n",
    "\n",
    "df_sales['sales123']=sales123\n",
    "df_sales['sales456']=sales456\n",
    "df_sales['sales789']=sales789\n",
    "\n",
    "df_sales.head()\n",
    "\n",
    "sns.kdeplot(np.log(sales123),color='r', shade=True,label='sales in month 1,2, and 3')\n",
    "sns.kdeplot(np.log(sales123),color='b', shade=False,label='sales in month 4,5, and 6')\n",
    "sns.kdeplot(np.log(sales789),color='g', shade=False,label='sales in month 7,8, and 9')\n",
    "plt.show()\n"
   ]
  },
  {
   "cell_type": "code",
   "execution_count": null,
   "metadata": {
    "collapsed": true
   },
   "outputs": [],
   "source": []
  },
  {
   "cell_type": "code",
   "execution_count": null,
   "metadata": {
    "collapsed": true
   },
   "outputs": [],
   "source": []
  }
 ],
 "metadata": {
  "kernelspec": {
   "display_name": "Python 3",
   "language": "python",
   "name": "python3"
  },
  "language_info": {
   "codemirror_mode": {
    "name": "ipython",
    "version": 3
   },
   "file_extension": ".py",
   "mimetype": "text/x-python",
   "name": "python",
   "nbconvert_exporter": "python",
   "pygments_lexer": "ipython3",
   "version": "3.6.1"
  }
 },
 "nbformat": 4,
 "nbformat_minor": 2
}
