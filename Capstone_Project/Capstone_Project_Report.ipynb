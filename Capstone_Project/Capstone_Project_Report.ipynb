{
 "cells": [
  {
   "cell_type": "markdown",
   "metadata": {
    "raw_mimetype": "text/markdown"
   },
   "source": [
    "I. Introduction\n",
    "  \n",
    "  1. Description of the problem\n",
    "  \n",
    "  2. Explanation of previous work that's relevant to the problem\n",
    "  \n",
    "  3. Preview of your analysis\n",
    "\n",
    "II. Data\n",
    "\n",
    "  1. Data description\n",
    "\n",
    "    a. Nature / size of the data\n",
    "\n",
    "    b. Data dictionary (if the feature set is large and appendix is more appropriate)\n",
    "\n",
    "    c. Data wrangling discussion (how missing values, outliers, etc. were handled)\n",
    "\n",
    "  2. Exploratory data analysis\n",
    "\n",
    "III. Training\n",
    "\n",
    "  1. Objective (target and loss function)\n",
    "\n",
    "  2. Features (and feature selection when appropriate)\n",
    "\n",
    "  3. Model selection\n",
    "\n",
    "IV. Evaluation\n",
    "\n",
    "  1. Analysis of champion model (this is specific to the intended application and goals of the model)\n",
    "\n",
    "V. Conclusions\n",
    "\n",
    "  1. Summary of main results\n",
    "\n",
    "  2. Problems / issues with analysis or results\n",
    "\n",
    "  3. Any description of intended or potential future work"
   ]
  },
  {
   "cell_type": "markdown",
   "metadata": {
    "raw_mimetype": "text/latex"
   },
   "source": [
    "#  Introduction"
   ]
  },
  {
   "cell_type": "markdown",
   "metadata": {
    "raw_mimetype": "text/latex"
   },
   "source": [
    "##  Description of the Problem"
   ]
  },
  {
   "cell_type": "markdown",
   "metadata": {
    "latex_metadata": {
     "affiliation": "Freie Universit\\\"at Berlin, Fachbereich Physik, 14195 Berlin, Germany",
     "author": "Julius C. F. Schulz",
     "title": "Amazing Article"
    },
    "raw_mimetype": "text/latex"
   },
   "source": [
    "Part backorders is a typical supply chain problem. Backordering happens when a customer places an order for a product that is temporarily out of stock with the vendor and order cannot be fulfilled.\n",
    "It is a dream for any business, but it is also a massive problem if you do not know how to handle it.\n",
    "<br>\n",
    "In this project, the goal is to identify parts at risk of product backorder before the event occurs, so\n",
    "the business has time to react.\n",
    "With the help of data analysis, a reasonable prediction on the products that can go on backorder is expected. Such a prediction\n",
    "could immensely help client to plan for a more effective stocking and backorder handling.\n",
    "Goals of this project are:  \n",
    "\n",
    "- Provide an overall insight from data using exploratory data analysis  \n",
    "\n",
    "-  Identifying what features have the main effects of product backorder.  \n",
    "\n",
    "-  Predict Product is going to backorder or not?"
   ]
  },
  {
   "cell_type": "markdown",
   "metadata": {},
   "source": [
    "## Previous work "
   ]
  },
  {
   "cell_type": "markdown",
   "metadata": {},
   "source": [
    "## Preview of data analysis"
   ]
  },
  {
   "cell_type": "markdown",
   "metadata": {},
   "source": [
    "in Data analysis part a list of questions about the data set were answered. There are few questions answered that aims to help achieve the goals of this project.  \n",
    "\n",
    "1. How coomn are backorders? \n",
    "\n",
    "2. Given that,how likelet are backorders based on the part risk flags?and how prevalent are they? \n",
    "\n",
    "3. whats the relation ship between sales and forecast? \n",
    "\n",
    "4. What's the relationship between potential issue and pieces past due are each represented by part risk flags or are thet unrelated concepts? \n",
    "\n",
    "5. what's the relationship between lead time and backorders?  \n",
    "\n",
    "6. What aspects of supply chain represent the biggest risks?  \n",
    "\n",
    "7. Based on that risks what would I recommand improving first?\n"
   ]
  },
  {
   "cell_type": "markdown",
   "metadata": {},
   "source": [
    "# Data"
   ]
  },
  {
   "cell_type": "markdown",
   "metadata": {},
   "source": [
    "## Data description"
   ]
  },
  {
   "cell_type": "markdown",
   "metadata": {},
   "source": [
    "In this project, I used the a dataset available on the Kaggle website.Training data file contains the historical data for the eight weeks before the week we are trying to predict. The data was taken as weekly snapshots at the start of each week. "
   ]
  },
  {
   "cell_type": "markdown",
   "metadata": {},
   "source": [
    "### Nature of the data"
   ]
  },
  {
   "cell_type": "markdown",
   "metadata": {},
   "source": [
    "Dataset was acquired from https://www.kaggle.com/tiredgeek/predict-bo-trial.Dataset composed of one one file named Training_Dataset.the training file was opened and stored in a dataframe using python.\n",
    "the dataset contains the historical dataand it has 23 columns and 1687860 entries.\n",
    "<br>\n",
    "the dataset totally have 100894 missing data also some entries of two columns include -99 values.The missing data is an example of Missing at Random (MAR) data mechanism where missing data is related to observed data."
   ]
  },
  {
   "cell_type": "markdown",
   "metadata": {},
   "source": [
    "###  Data dictionary\n",
    "   "
   ]
  },
  {
   "cell_type": "markdown",
   "metadata": {},
   "source": [
    "Dataset columns are defined as follows:  \n",
    "\n",
    "![Dataset columns](img/table.png)"
   ]
  },
  {
   "cell_type": "markdown",
   "metadata": {},
   "source": [
    "###  Data wrangling"
   ]
  },
  {
   "cell_type": "markdown",
   "metadata": {},
   "source": [
    "Goal: Prepare the backorder dataset for EDA and Modeling  \n",
    "\n",
    "Tasks performed:  \n",
    "\n",
    "- Handling missing Data  \n",
    "\n",
    "- convert to binary  \n",
    "\n",
    "- Handling the outliers  \n",
    "\n",
    "- How common are backorders?  \n",
    "\n",
    "- Write the clean data into a new data frame further steps  \n"
   ]
  },
  {
   "cell_type": "markdown",
   "metadata": {},
   "source": [
    "In this dataset, Every Categorical Feature includes only two values: 'Yes' and 'No.'for reducing memory usage binaries were converted from strings ('Yes' and 'No') to 1 and 0."
   ]
  },
  {
   "cell_type": "markdown",
   "metadata": {},
   "source": [
    "#### Missing data:"
   ]
  },
  {
   "cell_type": "markdown",
   "metadata": {},
   "source": [
    "Missing values in all columns of the footer in the dataset were represented as NaN, so I dropped the footer row.columns perf_12_month_avg and perf_6_month_avg have missing valu as -99.There is a strong correlation between perf_6_month_avg and perf_12_month_avg. So, linear regression would use to\n",
    "filing missing values. However another interesting point to note here is that many observations have both perf_12_month_avg and perf_6_month_avg as null, so linear regression cannot fill such values, and we need to see \n",
    "another approach there. Probably we would like to check for the central tendency of the data and replace the null accordingly. \n",
    "<br>\n",
    "It is visible from the seaborne plot that data did not distribute normally. Therefore picking median to fill remaining values is \n",
    "a good choice.\n",
    "\n",
    "![Source performance for prior six vs twelve month](img/perf.png)\n",
    " \n",
    "Lead_time column had 100893 missing values, and it was not clear if it was missing or not. It is quite likely that when lead \n",
    "time is missing, it is missing for a reason and not at random, which means a mean/median imputation strategy may not be \n",
    "appropriate. I preferred to decide by looking at data with calculating the proportion of backordered products vs. without a \n",
    "missing value in lead time. "
   ]
  },
  {
   "cell_type": "markdown",
   "metadata": {},
   "source": [
    "The calculation below shows how to handle missing data in lead time:  \n",
    "\n",
    "1.Proportion of orders that “went_on_backorder” for missing lead_time records.  \n",
    "\n",
    "2.Proportion of orders that “went_on_backorder” for non-null lead_time records.  \n",
    "\n",
    "Went on backorder ratio for orders that they went on backorder is 0.66%.  \n",
    "\n",
    "![title](img/pie.png)\n",
    "\n",
    "Based on the above calculations the proportion of backordered products with missing lead time is 50% less than those without\n",
    "missing lead time. The proportion of backordered products with missing lead time is half of the products with no missing values.\n",
    "The amount is significant enough that I decided not to replace the missing data in lead time and to drop them.\n",
    "The plot below shows the density of products for a given lead time that went on backorder and did not go on backorder.\n",
    "\n",
    "![title](img/lead.png)\n",
    "\n",
    "that plot shows that lead time of backordered orders looks exactly like the plot of lead time with not backorder data. It means\n",
    "that most of the products are not going on backorder and if we choose the random sample of data it is the same distribution.\n",
    "Therefore we are going to see if lead time and went on backorder are dependent or independent to/from each other.\n"
   ]
  },
  {
   "cell_type": "markdown",
   "metadata": {},
   "source": [
    "#### Handling the outliers"
   ]
  },
  {
   "cell_type": "markdown",
   "metadata": {},
   "source": [
    "Next step is looking at the relationship between lead time and a fraction of products that went on backorder. Let's look at the\n",
    "lead time and how it changes the probability of went to backorder. Products that went on backorder with lead\n",
    "time eight weeks and then two weeks have the highest order volumes. The plot below shows the relation between lead time and the \n",
    "fraction of backorder.  \n",
    "\n",
    "The following plot shows with longer lead time; backorder proportion goes down.  \n",
    "\n",
    "In the below plot, two outliers noticed. One is at lead time=11 and one at lead time 52. For the point on 52, I believe there \n",
    "were not enough records to show the rest of point between 17 to 52. The point at lead time 11 should be given particular \n",
    "attention to its cause is known. For this reason, I am going to calculate the binomial probability distribution. As you see from \n",
    "the above calculations, the standard deviation of the binomial distribution is 3.23 standard deviation from the mean, so I am \n",
    "going to ignore this point for now.  \n",
    "\n",
    "![title](img/ratio.png)"
   ]
  },
  {
   "cell_type": "markdown",
   "metadata": {},
   "source": [
    "#### Sales versus Forecast"
   ]
  },
  {
   "cell_type": "markdown",
   "metadata": {},
   "source": [
    "The plot below shows the strong relationship between total prior sales and total prior sales forecast. Order backorder can \n",
    "happen because of the wrong forecast. For example when for any reason .forecast is less than sales of the month.  \n",
    "\n",
    "From 11293 backordered products, 4274 orders sales were more than sales forecast.  \n",
    "\n",
    "Therefore other reasons might affect back ordering.  \n",
    "\n",
    "![title](img/forc.png)"
   ]
  },
  {
   "cell_type": "markdown",
   "metadata": {},
   "source": [
    "#### Data reduction"
   ]
  },
  {
   "cell_type": "markdown",
   "metadata": {},
   "source": [
    "Since the dataset was massive, I decided to reduce data by capturing data from the total sales volume which is a significant\n",
    "reduction in data for not much loss of fidelity.  \n",
    "\n",
    "How I captured the total sales values is I used the cumulative sum of total sales volume.For data reduction, I captured 60% \n",
    "total sales volume, which is data was reduced to 7397 rows.  \n",
    "\n",
    "Using data reduction may save some computing time and also presenting a cleaner dataset for the predictive model.<br>\n",
    "After Data reduction I looked at the relationship between sales and went on backorder. There is no relation between total sales \n",
    "and went on backorder now; the reason is high sales products they do not go on backorder.  \n",
    "\n",
    "Backorder ratio is higher when we drop the NaN values in lead time that's because most of the orders were not backordered.\n",
    "There were no significant differences in the result of data reduction when I dropped missing values of lead time. In my opinion, \n",
    "missing values in lead time do not affect the result of volume reductions."
   ]
  },
  {
   "cell_type": "markdown",
   "metadata": {
    "collapsed": true
   },
   "source": [
    "Therefore other reasons might affect back ordering.  \n",
    "\n",
    "In the following exploratory I answer these questions:  \n",
    "\n",
    "-  Given that, how likely are backorders based on the part risk flags?  \n",
    "\n",
    "-  How prevalent are they?  \n",
    "\n",
    "-  What is the relationship between \"potential_issue\" and \"pieces_past_due\" are each  \n",
    "\n",
    "-  What is the relationship between \"potential_issue\" and \"pieces_past_due\" are each represented by part risk flags or are \n",
    "they unrelated concepts?  \n",
    "\n",
    "-  Based on the answers to these questions you could recommend: What aspects of the supply chain present the most prominent \n",
    "risks?  \n",
    "\n",
    "-  Based on the risks, what would you recommend improving first?\n"
   ]
  },
  {
   "cell_type": "markdown",
   "metadata": {},
   "source": [
    "The flag columns in the dataset are:  \n",
    "\n",
    " -  potential_issue - Source issue for part identified  \n",
    " \n",
    " -  pieces_past_due - Parts overdue from source  \n",
    " \n",
    " -  local_bo_qty - Amount of stock orders overdue  \n",
    " \n",
    " -  deck_risk - Part risk flag  \n",
    " \n",
    " -  oe_constraint - Part risk flag  \n",
    " \n",
    " -  ppap_risk - Part risk flag  \n",
    " \n",
    "Below plot shows that went on backorder and potential issues have the same relationship with lead time. It means when \n",
    "products with specific lead time did not have the potential issue the products did not go on backorder.  \n",
    "\n",
    "![title](img/pot.png)\n",
    "Same thing with parts overdue; there are no parts overdue from the source the products do not go backorder.The probability \n",
    "of products without any of risk that did not go on backorder is almost 98%. If the product did not have parts overdue, it is \n",
    "doubtful it went on backorder.On the other hand The probability of product had any of risks and went on backorder is very \n",
    "low but the intersting part is probability of product had pieces past due,local_bo_qty,potential_issue and went on backorder \n",
    "is 96%. It means the combination of these flags affects the going on backorder."
   ]
  },
  {
   "cell_type": "markdown",
   "metadata": {},
   "source": [
    "#### Minimum recommended amount of stock versus went on backorder"
   ]
  },
  {
   "cell_type": "markdown",
   "metadata": {},
   "source": [
    "With more minimum recommended amount of stock the order volumes decrease.The proportion of orders with the minimum recommended \n",
    "an amount to stock that went_on_backorder: 0.66.  \n",
    "\n",
    "![title](img/min.png)"
   ]
  },
  {
   "cell_type": "markdown",
   "metadata": {},
   "source": [
    "#### Normalization"
   ]
  },
  {
   "cell_type": "markdown",
   "metadata": {},
   "source": [
    "Normalization is keep some valuable information about the part (for example, if inventory is lower than 0, it can correct that\n",
    "in preprocessing,or get misleading the models).\n",
    "From below plot, we can see the normal distribution for sales columns.\n",
    "![title](img/norm.png)"
   ]
  },
  {
   "cell_type": "markdown",
   "metadata": {},
   "source": [
    "# Training"
   ]
  },
  {
   "cell_type": "markdown",
   "metadata": {},
   "source": [
    "Imbalanced classification is a supervised learning problem where one class outnumbers other class by a large proportion.This \n",
    "problem is faced more frequently in binary classification problems than multi-level classification problems.The reasons which \n",
    "leads to reduction in accuracy of ML algorithms on imbalanced data sets:  \n",
    "\n",
    "- ML algorithms struggle with accuracy because of the unequal distribution in dependent variable.  \n",
    "\n",
    "- This causes the performance of existing classifiers to get biased towards majority class.  \n",
    "\n",
    "- The algorithms are accuracy driven i.e. they aim to minimize the overall error to which the minority class contributes very \n",
    "little.  \n",
    "\n",
    "- ML algorithms assume that the data set has balanced class distributions.  \n",
    "\n",
    "- They also assume that errors obtained from different classes have same cost.  \n",
    "\n",
    "because the data set is very imbalanced so I add up the data that went on backorder to this sample."
   ]
  },
  {
   "cell_type": "markdown",
   "metadata": {},
   "source": [
    "## Objective   \n",
    "\n",
    "In this data set target value is went on backorder."
   ]
  },
  {
   "cell_type": "markdown",
   "metadata": {},
   "source": [
    "##  Features \n",
    "for training data set the features I used are:  \n",
    "\n",
    "national_inv,lead_time,in_transit_qty,forecast_3_month,forecast_6_month,\n",
    "\n",
    "forecast_9_month,sales_1_month,sales_3_month,sales_6_month,sales_9_month,\n",
    "\n",
    "min_bank,potential_issue,pieces_past_due,perf_6_month_avg,perf_12_month_avg,\n",
    "\n",
    "local_bo_qty,deck_risk,oe_constraint,ppap_risk,stop_auto_buy"
   ]
  },
  {
   "cell_type": "markdown",
   "metadata": {},
   "source": [
    "##  Model selection\n",
    "Because data set is very imbalanced so I add up the data that went on backorder to this sample.\n",
    "I used supervised learning to predict “went on backorder” product according to what they have reordered. \n",
    "Result shows the accuracy of 99%.  \n",
    "\n",
    "Data trained in two supervised models logistic regression, and random forest(Bagging-based ensemble).Comparing these two models in logestic regression model first because data was imbalance it showed high accuracy.\n",
    "That reason is, Logistic regression produces an estimated probability that a particular instance is from the positive class. It caused the classifier to over-predict positive instances. For some classifiers, it is not a significant problem, but I expect that logistic regression might be more sensitive to this mismatch between training distribution and test distribution.  \n",
    "\n",
    "After balancing the data set, I used regularization with my logistic regression model and used cross-validation to select the regularization hyper-paramete to find a suitable threshold that maximizes the F1 score (or some other metric).  \n",
    "\n",
    "A logistic regression model is searching for a single linear decision boundary in the feature space, whereas a decision tree is essentially partitioning the feature space into half-spaces using axis-aligned linear decision boundaries. The net effect is that it is a non-linear decision boundary, possibly more than one.\n",
    "This is nice when a single hyperplane does not readily separate the\n",
    "data points, but on the other hand, decisions trees are so flexible that they can be prone to overfitting. To combat this, I used the random forest. Logistic regression tends to be less susceptible (but not immune!) to overfitting.  \n",
    "\n",
    "I used ROC AUC score since it gives the probability of an estimator ranking a positive example higher than a negative example.\n",
    "This way it can evaluate the models before selecting a threshold for the decision function. F1-score, for example, or other composed metrics such as geometric mean, or F2-score can be adopted. The ideal, though, would be we use the cost associate with False-positive and False-negative in the inventory system.\n",
    "\n",
    "![title](img/predict.png)\n",
    "\n",
    "<br>\n",
    "Precision-recall curves show how Precision and Recall metrics compete depending on the threshold defined for the decision function of the model.  \n",
    "\n",
    "Following is the ROC curve for the case in hand.\n",
    "\n",
    "![title](img/auc.png)\n"
   ]
  },
  {
   "cell_type": "code",
   "execution_count": null,
   "metadata": {},
   "outputs": [],
   "source": []
  },
  {
   "cell_type": "code",
   "execution_count": null,
   "metadata": {},
   "outputs": [],
   "source": []
  }
 ],
 "metadata": {
  "CodeCell": {
   "cm_config": {
    "lineWrapping": false
   }
  },
  "MarkdownCell": {
   "cm_config": {
    "lineWrapping": false
   }
  },
  "kernelspec": {
   "display_name": "Python 3",
   "language": "python",
   "name": "python3"
  },
  "language_info": {
   "codemirror_mode": {
    "name": "ipython",
    "version": 3
   },
   "file_extension": ".py",
   "mimetype": "text/x-python",
   "name": "python",
   "nbconvert_exporter": "python",
   "pygments_lexer": "ipython3",
   "version": "3.5.2"
  },
  "latex_metadata": {
   "affiliation": "Freie Universit\\\"at Berlin, Fachbereich Physik, 14195 Berlin, Germany",
   "author": "Julius C. F. Schulz",
   "title": "Amazing Article"
  },
  "metadata": {
   "collapsed": false
  }
 },
 "nbformat": 4,
 "nbformat_minor": 2
}
