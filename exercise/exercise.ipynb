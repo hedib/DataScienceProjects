{
 "cells": [
  {
   "cell_type": "code",
   "execution_count": null,
   "metadata": {
    "collapsed": true
   },
   "outputs": [],
   "source": [
    "import sys\n",
    "\n",
    "def birthdayCakeCandles(n, arr):\n",
    "    n = input()\n",
    "    arr = input().split()\n",
    "    theMax, count = 0, 0\n",
    "    for x in arr:\n",
    "       x = int(x)\n",
    "       if x > theMax:\n",
    "         theMax = x\n",
    "         count = 1\n",
    "       elif x == theMax:\n",
    "        count += 1\n",
    "    print(count)\n",
    "\n",
    "birthdayCakeCandles(4, [2,3,3,1])"
   ]
  },
  {
   "cell_type": "code",
   "execution_count": null,
   "metadata": {
    "collapsed": true
   },
   "outputs": [],
   "source": [
    "import sys\n",
    "\n",
    "def birthday(n, arr):\n",
    "    n=input()\n",
    "    arr = input().split()\n",
    "    print(arr.count(max(arr))) \n",
    "birthday(4, [2,3,3,1])"
   ]
  },
  {
   "cell_type": "code",
   "execution_count": null,
   "metadata": {
    "collapsed": true
   },
   "outputs": [],
   "source": [
    "birthdayCakeCandles(4, [2,3,3,1])"
   ]
  },
  {
   "cell_type": "code",
   "execution_count": 49,
   "metadata": {
    "collapsed": true
   },
   "outputs": [],
   "source": [
    "import sys\n",
    "\n",
    "def plusMinus(arr):\n",
    "    # Complete this function\n",
    "    n = input()\n",
    "    arr =input().split()\n",
    "    countm=0\n",
    "    countp=0\n",
    "    countz=0\n",
    "    for x in arr:\n",
    "        if (int(x)<0):\n",
    "            countm+=1\n",
    "        elif int(x)>0:\n",
    "            countp+=1\n",
    "        elif int(x)==0:\n",
    "            countz+=1\n",
    "    fractionp=(countp/int(n))\n",
    "    fractionm=(countm/int(n))\n",
    "    fractionz=(countz/int(n))\n",
    "    \n",
    "    print(round(fractionp,3))\n",
    "    print(fractionm)\n",
    "    print(fractionz)\n",
    "   \n"
   ]
  },
  {
   "cell_type": "code",
   "execution_count": 80,
   "metadata": {},
   "outputs": [
    {
     "name": "stdout",
     "output_type": "stream",
     "text": [
      "5\n",
      "1 2 0 1 1\n",
      "0.8\n",
      "0.0\n",
      "0.2\n"
     ]
    }
   ],
   "source": [
    " plusMinus([])"
   ]
  },
  {
   "cell_type": "code",
   "execution_count": 52,
   "metadata": {
    "collapsed": true
   },
   "outputs": [],
   "source": [
    "import sys\n",
    "\n",
    "def aVeryBigSum(n, ar):\n",
    "    n = int(input().strip())\n",
    "    ar = list(map(int, input().strip().split(' ')))\n",
    "    sum=0\n",
    "    for x in ar:\n",
    "        sum+=x\n",
    "    return sum"
   ]
  },
  {
   "cell_type": "code",
   "execution_count": 53,
   "metadata": {},
   "outputs": [
    {
     "name": "stdout",
     "output_type": "stream",
     "text": [
      "5\n",
      "1000000001 1000000002 1000000003 1000000004 1000000005\n"
     ]
    },
    {
     "data": {
      "text/plain": [
       "5000000015"
      ]
     },
     "execution_count": 53,
     "metadata": {},
     "output_type": "execute_result"
    }
   ],
   "source": [
    "aVeryBigSum(5,[])"
   ]
  },
  {
   "cell_type": "code",
   "execution_count": 77,
   "metadata": {
    "collapsed": true
   },
   "outputs": [],
   "source": [
    "import sys\n",
    "\n",
    "def staircase(n):\n",
    "    n = int(input().strip())\n",
    "    for i in range(1,n+1):\n",
    "         print(('#'*i).rjust(n,' '))"
   ]
  },
  {
   "cell_type": "code",
   "execution_count": 78,
   "metadata": {},
   "outputs": [
    {
     "name": "stdout",
     "output_type": "stream",
     "text": [
      "4\n",
      "   #\n",
      "  ##\n",
      " ###\n",
      "####\n"
     ]
    }
   ],
   "source": [
    "staircase(3)"
   ]
  },
  {
   "cell_type": "code",
   "execution_count": 22,
   "metadata": {},
   "outputs": [
    {
     "name": "stdout",
     "output_type": "stream",
     "text": [
      "9 9 0 6\n",
      "0 h\n"
     ]
    }
   ],
   "source": [
    "#find a missing value in array\n",
    "\n",
    "def finmissing(arr):\n",
    "    arr = arr.split(' ')\n",
    "    s=0\n",
    "    for x in arr:\n",
    "        s+=int(x)\n",
    "        if s-int(x)==s:\n",
    "            print(x,\"h\")\n",
    "\n",
    "finmissing(input())    \n"
   ]
  },
  {
   "cell_type": "code",
   "execution_count": 26,
   "metadata": {},
   "outputs": [
    {
     "name": "stdout",
     "output_type": "stream",
     "text": [
      "1 2 4\n",
      "3.0\n"
     ]
    }
   ],
   "source": [
    "def finmissing(inp):\n",
    "    arr = inp.split()\n",
    "    arr = list(map(int, arr))\n",
    "    s=sum(arr)\n",
    "    n=len(arr)\n",
    "    total=(n+1)*(n+2)/2\n",
    "    print(total-s)\n",
    "\n",
    "finmissing(input())"
   ]
  },
  {
   "cell_type": "code",
   "execution_count": 27,
   "metadata": {
    "collapsed": true
   },
   "outputs": [],
   "source": [
    "import random"
   ]
  },
  {
   "cell_type": "code",
   "execution_count": 63,
   "metadata": {
    "collapsed": true
   },
   "outputs": [],
   "source": [
    "def f(x):\n",
    "    for x in range(5):\n",
    "        y=random.randint(1,10)\n",
    "    return y"
   ]
  },
  {
   "cell_type": "code",
   "execution_count": 65,
   "metadata": {},
   "outputs": [
    {
     "name": "stdout",
     "output_type": "stream",
     "text": [
      "x y\n",
      "0 8\n",
      "1 6\n",
      "2 6\n",
      "3 5\n",
      "4 1\n"
     ]
    }
   ],
   "source": [
    "print(\"x y\")\n",
    "for x in range(5):\n",
    "    print(\"%d %d\" % (x, d[x]))"
   ]
  },
  {
   "cell_type": "code",
   "execution_count": 42,
   "metadata": {
    "collapsed": true
   },
   "outputs": [],
   "source": [
    "def random_bdays(n):\n",
    "    \"\"\"Returns a list of integers between 1 and 365, with length (n).\"\"\"\n",
    "    t = []\n",
    "    for i in range(100):\n",
    "        bday = random.randint(1, 10)\n",
    "        t.append(bday)\n",
    "    return t"
   ]
  },
  {
   "cell_type": "code",
   "execution_count": 72,
   "metadata": {},
   "outputs": [
    {
     "data": {
      "text/plain": [
       "6"
      ]
     },
     "execution_count": 72,
     "metadata": {},
     "output_type": "execute_result"
    }
   ],
   "source": [
    "d=dict()\n",
    "d={x:random.randint(1,10) for x in range(100)}\n",
    "d[0]"
   ]
  },
  {
   "cell_type": "code",
   "execution_count": 75,
   "metadata": {},
   "outputs": [
    {
     "data": {
      "text/plain": [
       "6"
      ]
     },
     "execution_count": 75,
     "metadata": {},
     "output_type": "execute_result"
    }
   ],
   "source": [
    "d[0]"
   ]
  },
  {
   "cell_type": "code",
   "execution_count": 68,
   "metadata": {
    "collapsed": true
   },
   "outputs": [],
   "source": [
    "d={x: x + random.randint(1,10) for x in range(100)}"
   ]
  },
  {
   "cell_type": "code",
   "execution_count": 71,
   "metadata": {},
   "outputs": [
    {
     "data": {
      "text/plain": [
       "1"
      ]
     },
     "execution_count": 71,
     "metadata": {},
     "output_type": "execute_result"
    }
   ],
   "source": [
    "d[0]"
   ]
  },
  {
   "cell_type": "code",
   "execution_count": 60,
   "metadata": {
    "collapsed": true
   },
   "outputs": [],
   "source": [
    "def f(n):\n",
    "    t = []\n",
    "    for i in range(100):\n",
    "        bday = random.randint(1, 10)\n",
    "        t.append(bday)\n",
    "    return t"
   ]
  },
  {
   "cell_type": "code",
   "execution_count": null,
   "metadata": {
    "collapsed": true
   },
   "outputs": [],
   "source": [
    "#data cleaning requlAR expression\n",
    "pattern1 = bool(re.match(pattern='\\d{3}-\\d{3}-\\d{4}', string='123-456-7890'))\n",
    "print(pattern1)\n",
    "\n",
    "# Write the second pattern\n",
    "pattern2 = bool(re.match(pattern='\\$\\d*\\.\\d{2}', string='$123.45'))\n",
    "print(pattern2)\n",
    "\n",
    "# Write the third pattern\n",
    "pattern3 = bool(re.match(pattern='[A-Z]\\w*', string='Australia'))\n",
    "print(pattern3)"
   ]
  },
  {
   "cell_type": "code",
   "execution_count": 186,
   "metadata": {
    "collapsed": true
   },
   "outputs": [],
   "source": [
    "from collections import defaultdict"
   ]
  },
  {
   "cell_type": "code",
   "execution_count": 193,
   "metadata": {},
   "outputs": [
    {
     "data": {
      "text/plain": [
       "''"
      ]
     },
     "execution_count": 193,
     "metadata": {},
     "output_type": "execute_result"
    }
   ],
   "source": [
    "str()"
   ]
  },
  {
   "cell_type": "code",
   "execution_count": 189,
   "metadata": {},
   "outputs": [
    {
     "name": "stdout",
     "output_type": "stream",
     "text": [
      "defaultdict(<class 'int'>, {'p': 1, 'i': 1, 'u': 2, 'I': 3, 'am': 2, 'h': 1})\n"
     ]
    }
   ],
   "source": [
    "'''Exercise 11.1. Write a function that reads the words in words.txt and stores them as keys in a\n",
    "dictionary. It doesn’t matter what the values are. Then you can use the in operator as a fast way to\n",
    "check whether a string is in the dictionary'''\n",
    "f = open('./t.txt')\n",
    "def create_word_dict():\n",
    "    word_dict = defaultdict(int)\n",
    "    for line in f:\n",
    "        line=line.strip('\\n')\n",
    "        for word in line.split():\n",
    "            word_dict[word] += 1\n",
    "            #print (wordtrim,' ',word)\n",
    "    print (word_dict)\n",
    "        #return word_dict\n",
    "        #print(line)\n",
    "create_word_dict()\n"
   ]
  },
  {
   "cell_type": "code",
   "execution_count": 190,
   "metadata": {},
   "outputs": [
    {
     "name": "stdout",
     "output_type": "stream",
     "text": [
      "{'i': 2, 'am': 2, 'that': 1}\n"
     ]
    }
   ],
   "source": [
    "def word_count(string):\n",
    "    my_string = string.lower().split()\n",
    "    my_dict = {}\n",
    "    for item in my_string:\n",
    "        my_dict[item] = my_string.count(item)\n",
    "    print(my_dict)\n",
    "        #print(item)\n",
    "word_count(\"I am that I am\")"
   ]
  },
  {
   "cell_type": "code",
   "execution_count": 242,
   "metadata": {
    "collapsed": true
   },
   "outputs": [],
   "source": [
    "# get a student id and avearge their grades\n",
    "\n",
    "def read_grade(f):\n",
    "    st_dict=dict()\n",
    "    for line in f:\n",
    "        arr=line.strip('\\n').split(',')\n",
    "        #list comprehention\n",
    "        st_dict[arr[0]]=[int(x) for x in arr[1:]]\n",
    "    return (st_dict)\n",
    "\n",
    "    #return st_dict\n",
    "t=read_grade(open('./st.txt'))   "
   ]
  },
  {
   "cell_type": "code",
   "execution_count": 271,
   "metadata": {},
   "outputs": [
    {
     "data": {
      "text/plain": [
       "{'Hedi': 17.33, 'Paul': 7.33, 'zam': 12.0}"
      ]
     },
     "execution_count": 271,
     "metadata": {},
     "output_type": "execute_result"
    }
   ],
   "source": [
    "\n",
    "def cal_avg(st_dict):\n",
    "    return {name: round(mean(grades),2) for name, grades in st_dict.items()}\n",
    "cal_avg(t)"
   ]
  },
  {
   "cell_type": "code",
   "execution_count": 269,
   "metadata": {},
   "outputs": [
    {
     "data": {
      "text/plain": [
       "1.5"
      ]
     },
     "execution_count": 269,
     "metadata": {},
     "output_type": "execute_result"
    }
   ],
   "source": [
    "def mean(l):\n",
    "    if l == []:\n",
    "        return 0\n",
    "    else:\n",
    "        return sum(l)/len(l)\n",
    "\n",
    "mean([1,2])"
   ]
  },
  {
   "cell_type": "code",
   "execution_count": 280,
   "metadata": {},
   "outputs": [
    {
     "data": {
      "text/plain": [
       "{'Hedi': 15, 'Paul': 5, 'zam': 11}"
      ]
     },
     "execution_count": 280,
     "metadata": {},
     "output_type": "execute_result"
    }
   ],
   "source": [
    "def top_score(st_dict):\n",
    "    return {name:variance(grade) for name,grade in st_dict.items()}\n",
    "top_score(t)"
   ]
  },
  {
   "cell_type": "raw",
   "metadata": {},
   "source": [
    "def student_agg(f, st_dict):\n",
    "    return {name:f(grade) for name,grade in st_dict.items()}\n",
    "    \n",
    "print(student_agg(mean, st_dict)\n",
    "student_agg(max, st_dict)\n",
    "student_agg(variance, st_dict)"
   ]
  },
  {
   "cell_type": "code",
   "execution_count": 286,
   "metadata": {},
   "outputs": [
    {
     "name": "stdout",
     "output_type": "stream",
     "text": [
      "{'Hedi': 17.333333333333332, 'Paul': 7.333333333333333, 'zam': 12.0}\n",
      "{'Hedi': 20, 'Paul': 10, 'zam': 13}\n",
      "{'Hedi': 4.222222222222285, 'Paul': 4.2222222222222285, 'zam': 0.6666666666666572}\n"
     ]
    }
   ],
   "source": [
    "def student_agg(f, st_dict):\n",
    "    return {name:f(grade) for name,grade in st_dict.items()}\n",
    "    \n",
    "print(student_agg(mean, t))\n",
    "print(student_agg(max, t))\n",
    "print(student_agg(variance, t))"
   ]
  },
  {
   "cell_type": "code",
   "execution_count": 282,
   "metadata": {},
   "outputs": [
    {
     "data": {
      "text/plain": [
       "0"
      ]
     },
     "execution_count": 282,
     "metadata": {},
     "output_type": "execute_result"
    }
   ],
   "source": [
    "def variance(l):\n",
    "    # variance is mean of square of each number minus square of the mean\n",
    "    # mean of square of each number\n",
    "    return mean([x**2 for x in l])-(mean(l)**2)\n",
    "    \n",
    "variance([])"
   ]
  },
  {
   "cell_type": "code",
   "execution_count": 311,
   "metadata": {},
   "outputs": [
    {
     "data": {
      "text/plain": [
       "37.21"
      ]
     },
     "execution_count": 311,
     "metadata": {},
     "output_type": "execute_result"
    }
   ],
   "source": [
    "def getsecond(l):\n",
    "    if len(l)<2:\n",
    "        raise Exception(\"the length of the list is less than 2 elements\")\n",
    "    k=[x[1] for x in l]\n",
    "    return getsecond_lowscore(k)\n",
    "getsecond([['Harry', 37.21], ['Berry', 37.21], ['Tina', 37.2], ['Akriti', 41], ['Harsh', 39]])"
   ]
  },
  {
   "cell_type": "code",
   "execution_count": 313,
   "metadata": {
    "collapsed": true
   },
   "outputs": [],
   "source": [
    "students = [['Harry', 37.21], ['Berry', 37.21], ['Tina', 37.2], ['Akriti', 41], ['Harsh', 39]]"
   ]
  },
  {
   "cell_type": "code",
   "execution_count": 308,
   "metadata": {
    "collapsed": true
   },
   "outputs": [],
   "source": [
    "def getsecond_lowscore(l):\n",
    "    if len(l)<2:\n",
    "        raise Exception(\"the length of the list is less than 2 elements\")\n",
    "    l.sort()\n",
    "    return l[1]\n",
    "getsecond_lowscore(l)"
   ]
  },
  {
   "cell_type": "code",
   "execution_count": 317,
   "metadata": {},
   "outputs": [
    {
     "data": {
      "text/plain": [
       "['Berry', 'Harry']"
      ]
     },
     "execution_count": 317,
     "metadata": {},
     "output_type": "execute_result"
    }
   ],
   "source": [
    "def getsecond_lowname(students):\n",
    "    score=getsecond(students)\n",
    "    return sorted([x[0] for x in students if x[1] == score])\n",
    "        \n",
    "getsecond_lowname(students)\n",
    "    "
   ]
  },
  {
   "cell_type": "code",
   "execution_count": 318,
   "metadata": {},
   "outputs": [
    {
     "data": {
      "text/plain": [
       "['Akriti', 'Harsh']"
      ]
     },
     "execution_count": 318,
     "metadata": {},
     "output_type": "execute_result"
    }
   ],
   "source": [
    "[x[0] for x in students if x[1]>38.0]"
   ]
  },
  {
   "cell_type": "code",
   "execution_count": 319,
   "metadata": {},
   "outputs": [
    {
     "data": {
      "text/plain": [
       "[82, 78]"
      ]
     },
     "execution_count": 319,
     "metadata": {},
     "output_type": "execute_result"
    }
   ],
   "source": [
    "[x[1]*2 for x in students if x[1]>38.0]"
   ]
  },
  {
   "cell_type": "code",
   "execution_count": 320,
   "metadata": {},
   "outputs": [
    {
     "data": {
      "text/plain": [
       "[37.21, 37.2, 39]"
      ]
     },
     "execution_count": 320,
     "metadata": {},
     "output_type": "execute_result"
    }
   ],
   "source": [
    "[x[1] for x in students if 'a' in x[0] ]"
   ]
  },
  {
   "cell_type": "code",
   "execution_count": 322,
   "metadata": {},
   "outputs": [
    {
     "data": {
      "text/plain": [
       "[['Harry', 37.21], ['Tina', 37.2], ['Akriti', 41], ['Harsh', 39]]"
      ]
     },
     "execution_count": 322,
     "metadata": {},
     "output_type": "execute_result"
    }
   ],
   "source": [
    "[x for x in students if 'a' in x[0].lower()]"
   ]
  },
  {
   "cell_type": "markdown",
   "metadata": {},
   "source": [
    "# Tuple"
   ]
  },
  {
   "cell_type": "code",
   "execution_count": 327,
   "metadata": {},
   "outputs": [
    {
     "data": {
      "text/plain": [
       "3713081631934410656"
      ]
     },
     "execution_count": 327,
     "metadata": {},
     "output_type": "execute_result"
    }
   ],
   "source": [
    "#hash of 1 2\n",
    "hash((1,2))"
   ]
  },
  {
   "cell_type": "code",
   "execution_count": 330,
   "metadata": {},
   "outputs": [
    {
     "data": {
      "text/plain": [
       "[1, 2, 45, 8, 10]"
      ]
     },
     "execution_count": 330,
     "metadata": {},
     "output_type": "execute_result"
    }
   ],
   "source": [
    "s=\"1 2 45 8 10\"\n",
    "[int(x) for x in s.split()]"
   ]
  },
  {
   "cell_type": "code",
   "execution_count": 354,
   "metadata": {},
   "outputs": [
    {
     "data": {
      "text/plain": [
       "3713081631934410656"
      ]
     },
     "execution_count": 354,
     "metadata": {},
     "output_type": "execute_result"
    }
   ],
   "source": [
    "hash(tuple(int(x) for x in '1 2'.split()))"
   ]
  },
  {
   "cell_type": "code",
   "execution_count": 350,
   "metadata": {},
   "outputs": [
    {
     "data": {
      "text/plain": [
       "(0, 1, 2, 3, 4, 5, 6, 7, 8, 9)"
      ]
     },
     "execution_count": 350,
     "metadata": {},
     "output_type": "execute_result"
    }
   ],
   "source": [
    "tuple(finite())"
   ]
  },
  {
   "cell_type": "code",
   "execution_count": 365,
   "metadata": {},
   "outputs": [
    {
     "data": {
      "text/plain": [
       "[[0, 0, 0], [0, 0, 1], [0, 1, 0], [1, 0, 0], [1, 1, 1]]"
      ]
     },
     "execution_count": 365,
     "metadata": {},
     "output_type": "execute_result"
    }
   ],
   "source": [
    "#Comprehensive list\n",
    "def getlist(a,b,c,d):\n",
    "    k=[[x,y,z] for x in range(a+1) for y in range(b+1) for z in range(c+1) if sum([x,y,z])!=d ]\n",
    "    return k\n",
    "    \n",
    "getlist(1,1,1,2)"
   ]
  },
  {
   "cell_type": "code",
   "execution_count": 46,
   "metadata": {},
   "outputs": [
    {
     "data": {
      "text/plain": [
       "{'Arjun': 77.0, 'Krishna': 68.0, 'Malika': 56.0}"
      ]
     },
     "execution_count": 46,
     "metadata": {},
     "output_type": "execute_result"
    }
   ],
   "source": [
    "def findpercent(strr):\n",
    "        lines=strr.splitlines()\n",
    "        student=dict()\n",
    "        for line in lines:\n",
    "            ls=line.split()\n",
    "            grades=[int(x) for x in ls[1:]]\n",
    "            student[ls[0]]=grades\n",
    "        return {name:sum(grades)/len(grades) for name,grades in student.items()}\n",
    "    \n",
    "findpercent(s)"
   ]
  },
  {
   "cell_type": "code",
   "execution_count": 17,
   "metadata": {
    "collapsed": true
   },
   "outputs": [],
   "source": [
    "s = \"\"\"Krishna 67 68 69\n",
    "Arjun 70 98 63\n",
    "Malika 52 56 60\"\"\""
   ]
  },
  {
   "cell_type": "code",
   "execution_count": 12,
   "metadata": {},
   "outputs": [
    {
     "data": {
      "text/plain": [
       "'Krishna 67 68 69\\nArjun 70 98 63\\nMalika 52 56 60'"
      ]
     },
     "execution_count": 12,
     "metadata": {},
     "output_type": "execute_result"
    }
   ],
   "source": [
    "s"
   ]
  },
  {
   "cell_type": "code",
   "execution_count": 3,
   "metadata": {},
   "outputs": [
    {
     "data": {
      "text/plain": [
       "['Krishna 67 68 69', 'Arjun 70 98 63', 'Malika 52 56 60']"
      ]
     },
     "execution_count": 3,
     "metadata": {},
     "output_type": "execute_result"
    }
   ],
   "source": [
    "s.splitlines()"
   ]
  },
  {
   "cell_type": "code",
   "execution_count": 60,
   "metadata": {},
   "outputs": [
    {
     "data": {
      "text/plain": [
       "{'Malika': 56.0}"
      ]
     },
     "execution_count": 60,
     "metadata": {},
     "output_type": "execute_result"
    }
   ],
   "source": [
    "def findpercent(strr):\n",
    "        lines=strr.splitlines()\n",
    "        student=dict()\n",
    "        last=lines[-1]\n",
    "        ls=last.split()\n",
    "        grades=[int(x) for x in ls[1:]]\n",
    "        student[ls[0]]=grades\n",
    "        return {name:sum(grades)/len(grades) for name,grades in student.items()}\n",
    "findpercent(s)"
   ]
  },
  {
   "cell_type": "code",
   "execution_count": null,
   "metadata": {
    "collapsed": true
   },
   "outputs": [],
   "source": [
    "#itertools.product()\n"
   ]
  },
  {
   "cell_type": "code",
   "execution_count": null,
   "metadata": {
    "collapsed": true
   },
   "outputs": [],
   "source": []
  },
  {
   "cell_type": "code",
   "execution_count": null,
   "metadata": {
    "collapsed": true
   },
   "outputs": [],
   "source": []
  },
  {
   "cell_type": "code",
   "execution_count": null,
   "metadata": {
    "collapsed": true
   },
   "outputs": [],
   "source": []
  },
  {
   "cell_type": "code",
   "execution_count": null,
   "metadata": {
    "collapsed": true
   },
   "outputs": [],
   "source": []
  },
  {
   "cell_type": "code",
   "execution_count": null,
   "metadata": {
    "collapsed": true
   },
   "outputs": [],
   "source": []
  },
  {
   "cell_type": "code",
   "execution_count": null,
   "metadata": {
    "collapsed": true
   },
   "outputs": [],
   "source": []
  },
  {
   "cell_type": "code",
   "execution_count": null,
   "metadata": {
    "collapsed": true
   },
   "outputs": [],
   "source": []
  },
  {
   "cell_type": "code",
   "execution_count": null,
   "metadata": {
    "collapsed": true
   },
   "outputs": [],
   "source": []
  },
  {
   "cell_type": "code",
   "execution_count": null,
   "metadata": {
    "collapsed": true
   },
   "outputs": [],
   "source": []
  },
  {
   "cell_type": "code",
   "execution_count": null,
   "metadata": {
    "collapsed": true
   },
   "outputs": [],
   "source": []
  },
  {
   "cell_type": "code",
   "execution_count": null,
   "metadata": {
    "collapsed": true
   },
   "outputs": [],
   "source": []
  },
  {
   "cell_type": "code",
   "execution_count": null,
   "metadata": {
    "collapsed": true
   },
   "outputs": [],
   "source": []
  }
 ],
 "metadata": {
  "kernelspec": {
   "display_name": "Python 3",
   "language": "python",
   "name": "python3"
  },
  "language_info": {
   "codemirror_mode": {
    "name": "ipython",
    "version": 3
   },
   "file_extension": ".py",
   "mimetype": "text/x-python",
   "name": "python",
   "nbconvert_exporter": "python",
   "pygments_lexer": "ipython3",
   "version": "3.6.1"
  }
 },
 "nbformat": 4,
 "nbformat_minor": 2
}
