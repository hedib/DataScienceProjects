{
 "cells": [
  {
   "cell_type": "markdown",
   "metadata": {},
   "source": [
    "# List\n",
    "\n",
    "Python notes:1/9/2018  \n",
    "List:Like a string, a list is a sequence of values. In a string, the values are characters; in a list, they can be any type. The values in a list are called elements or sometimes items.  \n",
    "\n",
    "Lists are mutable  \n",
    "A slice operator on the left side of an assignment can update multiple elements:  \n",
    ">>> t = ['a', 'b', 'c', 'd', 'e', 'f']  \n",
    ">>> t[1:3] = ['x', 'y']  \n",
    ">>> print t  \n",
    "['a', 'x', 'y', 'd', 'e', 'f']   \n",
    ">>> [0] * 4  \n",
    "[0, 0, 0, 0]  \n",
    "--List methods:  \n",
    "append adds a new element to the end of a list  \n",
    "extebds\n",
    ">>> t1 = ['a', 'b', 'c']  \n",
    ">>> t2 = ['d', 'e']   \n",
    ">>> t1.extend(t2)   \n",
    ">>> print t1   \n",
    "['a', 'b', 'c', 'd', 'e']   \n",
    "List methods are all void; they modify the list and return None. If you accidentally write t = t.sort()  \n",
    "t.pop(1)  \n",
    "Delete index1  \n",
    "del t[1]  \n",
    "T. remove(‘b’)  \n",
    "del t[1:5]   \n",
    "To convert from a string to a list of characters, you can use list:  \n",
    ">>> s = 'spam'  \n",
    ">>> t = list(s)  \n",
    ">>> print t  \n",
    "['s', 'p', 'a', 'm']  \n",
    "\n",
    "    "
   ]
  },
  {
   "cell_type": "code",
   "execution_count": null,
   "metadata": {
    "collapsed": true
   },
   "outputs": [],
   "source": [
    "def is_anagram(str1):\n",
    "        b=str1[::-1]\n",
    "        print(b)"
   ]
  },
  {
   "cell_type": "code",
   "execution_count": 37,
   "metadata": {},
   "outputs": [
    {
     "name": "stdout",
     "output_type": "stream",
     "text": [
      "vas\n"
     ]
    }
   ],
   "source": [
    "is_anagram('sav')"
   ]
  },
  {
   "cell_type": "code",
   "execution_count": 97,
   "metadata": {
    "collapsed": true
   },
   "outputs": [],
   "source": [
    "def is_duplicated(arr):\n",
    "    count=0\n",
    "    i=0\n",
    "    while i < len(arr):\n",
    "        if arr.count(arr[i])>1:\n",
    "            return True\n",
    "        else:\n",
    "            i+=1\n",
    "    return False\n",
    "    "
   ]
  },
  {
   "cell_type": "code",
   "execution_count": 103,
   "metadata": {},
   "outputs": [
    {
     "data": {
      "text/plain": [
       "True"
      ]
     },
     "execution_count": 103,
     "metadata": {},
     "output_type": "execute_result"
    }
   ],
   "source": [
    "is_duplicated([2,1,3,4,2])"
   ]
  },
  {
   "cell_type": "markdown",
   "metadata": {},
   "source": [
    "If there are 23 students in your class, what are the chances that two of you have the same birthday? You can estimate this probability by generating random samples of 23 birthdays and checking for matches. Hint: you can generate random birthdays with the randint function in the random module."
   ]
  },
  {
   "cell_type": "code",
   "execution_count": null,
   "metadata": {
    "collapsed": true
   },
   "outputs": [],
   "source": [
    "def is_bd(n):\n",
    "    i=0\n",
    "    while i < len(n):\n",
    "        \n",
    "    \n",
    "       "
   ]
  },
  {
   "cell_type": "code",
   "execution_count": 1,
   "metadata": {
    "collapsed": true
   },
   "outputs": [],
   "source": [
    "def has_duplicates(t):\n",
    "    \"\"\"Returns True if any element appears more than once in (t),\n",
    "    False otherwise.\"\"\"\n",
    "    s = t[:]\n",
    "    s.sort()\n",
    "    for i in range(len(s)-1):\n",
    "        if s[i] == s[i+1]:\n",
    "            return True\n",
    "    return False"
   ]
  },
  {
   "cell_type": "code",
   "execution_count": 4,
   "metadata": {},
   "outputs": [
    {
     "data": {
      "text/plain": [
       "False"
      ]
     },
     "execution_count": 4,
     "metadata": {},
     "output_type": "execute_result"
    }
   ],
   "source": [
    "has_duplicates([2,1,3,4])"
   ]
  },
  {
   "cell_type": "code",
   "execution_count": 9,
   "metadata": {
    "collapsed": true
   },
   "outputs": [],
   "source": [
    "import random\n",
    "def random_bdays(n):\n",
    "    \"\"\"Returns a list of integers between 1 and 365, with length (n).\"\"\"\n",
    "    t = []\n",
    "    for i in range(n):\n",
    "        bday = random.randint(1, 365)\n",
    "        t.append(bday)\n",
    "    return t"
   ]
  },
  {
   "cell_type": "code",
   "execution_count": 10,
   "metadata": {},
   "outputs": [
    {
     "data": {
      "text/plain": [
       "[26,\n",
       " 353,\n",
       " 316,\n",
       " 231,\n",
       " 100,\n",
       " 254,\n",
       " 73,\n",
       " 116,\n",
       " 308,\n",
       " 31,\n",
       " 291,\n",
       " 268,\n",
       " 225,\n",
       " 249,\n",
       " 227,\n",
       " 357,\n",
       " 22,\n",
       " 199,\n",
       " 31,\n",
       " 196]"
      ]
     },
     "execution_count": 10,
     "metadata": {},
     "output_type": "execute_result"
    }
   ],
   "source": [
    "random_bdays(20)"
   ]
  },
  {
   "cell_type": "code",
   "execution_count": 11,
   "metadata": {
    "collapsed": true
   },
   "outputs": [],
   "source": [
    "def count_matches(students, samples):\n",
    "    \"\"\"Generates (samples) samples of (students) students, and counts\n",
    "    how many of them have at least one pair of students with the same bday.\"\"\"\n",
    "    count = 0\n",
    "    for i in range(samples):\n",
    "        t = random_bdays(students)\n",
    "        if has_duplicates(t):\n",
    "            count += 1\n",
    "    return count"
   ]
  },
  {
   "cell_type": "code",
   "execution_count": 13,
   "metadata": {},
   "outputs": [
    {
     "data": {
      "text/plain": [
       "10"
      ]
     },
     "execution_count": 13,
     "metadata": {},
     "output_type": "execute_result"
    }
   ],
   "source": [
    "count_matches(20, 20)"
   ]
  },
  {
   "cell_type": "markdown",
   "metadata": {},
   "source": [
    "Write a function called remove_duplicates that takes a list and returns a new list with only the unique elements from the original. Hint: they don’t have to be in the same order."
   ]
  },
  {
   "cell_type": "code",
   "execution_count": 14,
   "metadata": {
    "collapsed": true
   },
   "outputs": [],
   "source": [
    "def remove_duplicates(arr):\n",
    "    s=arr[:]\n",
    "    s.sort()\n",
    "    for i in range(len(s)-1):\n",
    "        if s[i]==s[i+1]:\n",
    "            del s[i]\n",
    "        return s[:]\n",
    "    \n",
    "        "
   ]
  },
  {
   "cell_type": "code",
   "execution_count": 16,
   "metadata": {},
   "outputs": [
    {
     "data": {
      "text/plain": [
       "[2, 3, 4]"
      ]
     },
     "execution_count": 16,
     "metadata": {},
     "output_type": "execute_result"
    }
   ],
   "source": [
    "remove_duplicates([2,3,4])"
   ]
  },
  {
   "cell_type": "markdown",
   "metadata": {},
   "source": [
    "Write a function that reads the file words.txt and builds a list with one element per word. Write two versions of this function, one using the append method and the other using the idiom t = t + [x]. Which one takes longer to run? Why?"
   ]
  },
  {
   "cell_type": "code",
   "execution_count": 35,
   "metadata": {},
   "outputs": [
    {
     "data": {
      "text/plain": [
       "['Reads', 'lines', 'from', 'a', 'file', 'and', 'builds', 'a', 'list']"
      ]
     },
     "execution_count": 35,
     "metadata": {},
     "output_type": "execute_result"
    }
   ],
   "source": [
    "def make_word_list1():\n",
    "    t=[]\n",
    "    f= 'Reads lines from a file and builds a list'\n",
    "    for line in f.split():\n",
    "           t.append(line)\n",
    "    return t\n",
    "make_word_list1()"
   ]
  },
  {
   "cell_type": "code",
   "execution_count": 36,
   "metadata": {
    "collapsed": true
   },
   "outputs": [],
   "source": [
    "def make_word_list1():\n",
    "    \"\"\"Reads lines from a file and builds a list using append.\"\"\"\n",
    "    t = []\n",
    "    fin = open('words.txt')\n",
    "    for line in fin:\n",
    "        word = line.strip()\n",
    "        t.append(word)\n",
    "    return t"
   ]
  },
  {
   "cell_type": "code",
   "execution_count": 38,
   "metadata": {},
   "outputs": [
    {
     "data": {
      "text/plain": [
       "['R',\n",
       " 'e',\n",
       " 'a',\n",
       " 'd',\n",
       " 's',\n",
       " '',\n",
       " 'l',\n",
       " 'i',\n",
       " 'n',\n",
       " 'e',\n",
       " 's',\n",
       " '',\n",
       " 'f',\n",
       " 'r',\n",
       " 'o',\n",
       " 'm',\n",
       " '',\n",
       " 'a',\n",
       " '',\n",
       " 'f',\n",
       " 'i',\n",
       " 'l',\n",
       " 'e',\n",
       " '',\n",
       " 'a',\n",
       " 'n',\n",
       " 'd',\n",
       " '',\n",
       " 'b',\n",
       " 'u',\n",
       " 'i',\n",
       " 'l',\n",
       " 'd',\n",
       " 's',\n",
       " '',\n",
       " 'a',\n",
       " '',\n",
       " 'l',\n",
       " 'i',\n",
       " 's',\n",
       " 't',\n",
       " '',\n",
       " 'u',\n",
       " 's',\n",
       " 'i',\n",
       " 'n',\n",
       " 'g',\n",
       " '',\n",
       " 'a',\n",
       " 'p',\n",
       " 'p',\n",
       " 'e',\n",
       " 'n',\n",
       " 'd',\n",
       " '.']"
      ]
     },
     "execution_count": 38,
     "metadata": {},
     "output_type": "execute_result"
    }
   ],
   "source": [
    "def make_word_list2():\n",
    "    \"\"\"Reads lines from a file and builds a list using list +.\"\"\"\n",
    "    t = []\n",
    "    fin = 'Reads lines from a file and builds a list using append.'\n",
    "    for line in fin:\n",
    "        word = line.strip()\n",
    "        t = t + [word]\n",
    "    return t\n",
    "make_word_list2()"
   ]
  },
  {
   "cell_type": "markdown",
   "metadata": {},
   "source": [
    "To check whether a word is in the word list, you could use the in operator, but it would be slow because it searches through the words in order.\n",
    "\n",
    "Because the words are in alphabetical order, we can speed things up with a bisection search (also known as binary search), which is similar to what you do when you look a word up in the dictionary. You start in the middle and check to see whether the word you are looking for comes before the word in the middle of the list. If so, then you search the first half of the list the same way. Otherwise you search the second half.\n",
    "\n",
    "Either way, you cut the remaining search space in half. If the word list has 113,809 words, it will take about 17 steps to find the word or conclude that it’s not there.\n",
    "\n",
    "Write a function called bisect that takes a sorted list and a target value and returns the index of the value in the list, if it’s there, or None if it’s not."
   ]
  },
  {
   "cell_type": "code",
   "execution_count": 43,
   "metadata": {
    "collapsed": true
   },
   "outputs": [],
   "source": [
    "def bisect(stored_list,target):\n",
    "    s=stored_list.split()\n",
    "    for words in s:\n",
    "        if words==target:\n",
    "            return s.index(words)\n",
    "    return False\n",
    "        "
   ]
  },
  {
   "cell_type": "code",
   "execution_count": 44,
   "metadata": {},
   "outputs": [
    {
     "data": {
      "text/plain": [
       "2"
      ]
     },
     "execution_count": 44,
     "metadata": {},
     "output_type": "execute_result"
    }
   ],
   "source": [
    "    \n",
    "bisect(\"I are ds\",\"ds\")"
   ]
  },
  {
   "cell_type": "markdown",
   "metadata": {},
   "source": [
    "Two words are a “reverse pair” if each is the reverse of the other. Write a program that finds all the reverse pairs in the word list. Solution: "
   ]
  },
  {
   "cell_type": "code",
   "execution_count": 9,
   "metadata": {},
   "outputs": [
    {
     "data": {
      "text/plain": [
       "['babak', 'kabab', 'kabab', 'babak', 'hk', 'kh', 'kh', 'hk']"
      ]
     },
     "execution_count": 9,
     "metadata": {},
     "output_type": "execute_result"
    }
   ],
   "source": [
    "def reversed_pair(worldList):\n",
    "    s=worldList.split()\n",
    "    l=[]\n",
    "    for i in range(len(s)):\n",
    "        t=s[i][::-1]\n",
    "        if t in s:\n",
    "            p=s[i]+\" \"+t\n",
    "            p=p.split()\n",
    "            l=l+p\n",
    "    return l\n",
    "\n",
    "reversed_pair(\"babak kabab jir hk kh lk\")"
   ]
  },
  {
   "cell_type": "markdown",
   "metadata": {},
   "source": [
    "Two words “interlock” if taking alternating letters from each forms a new word. For example, “shoe” and “cold” interlock to form “schooled.” Solution: http://thinkpython.com/code/interlock.py. Credit: This exercise is inspired by an example at http://puzzlers.org."
   ]
  },
  {
   "cell_type": "code",
   "execution_count": null,
   "metadata": {
    "collapsed": true
   },
   "outputs": [],
   "source": []
  },
  {
   "cell_type": "markdown",
   "metadata": {},
   "source": [
    "# Tuple"
   ]
  },
  {
   "cell_type": "markdown",
   "metadata": {},
   "source": [
    "A tuple is a sequence of values. The values can be any type, and they are indexed by integers, so in that respect tuples are a lot like lists. The important difference is that tuples are immutable.  \n",
    "Syntactically, a tuple is a comma-separated list of values.  \n",
    "To create a tuple with a single element, you have to include a final comma:\n",
    "\n",
    ">>> t1 = 'a',\n",
    ">>> type(t1)\n",
    "<type 'tuple'>  \n",
    "A value in parentheses is not a tuple:\n",
    "\n",
    ">>> t2 = ('a')\n",
    ">>> type(t2)\n",
    "<type 'str'>   \n",
    "\n",
    ">>> t = tuple()\n",
    ">>> print t\n",
    "()  \n",
    "\n",
    ">>> t = tuple('lupins')\n",
    ">>> print t\n",
    "('l', 'u', 'p', 'i', 'n', 's')  \n",
    "\n",
    "But if you try to modify one of the elements of the tuple, you get an error:\n",
    "\n",
    ">>> t[0] = 'A'\n",
    "TypeError: object doesn't support item assignment\n",
    "You can’t modify the elements of a tuple, but you can replace one tuple with another:\n",
    "\n",
    ">>> t = ('A',) + t[1:]\n",
    ">>> print t\n",
    "('A', 'b', 'c', 'd', 'e')  \n",
    "\n",
    ">>> t = divmod(7, 3)\n",
    ">>> print t\n",
    "(2, 1)  \n",
    "\n",
    "def min_max(t):\n",
    "    return min(t), max(t)   \n",
    "    \n",
    "The complement of gather is scatter. If you have a sequence of values and you want to pass it to a function as multiple arguments, you can use the * operator. For example, divmod takes exactly two arguments; it doesn’t work with a tuple:   \n",
    "\n",
    "\n",
    "You can use tuple assignment in a for loop to traverse a list of tuples:\n",
    "\n",
    "t = [('a', 0), ('b', 1), ('c', 2)]\n",
    "for letter, number in t:\n",
    "    print number, letter   \n",
    "    \n",
    "If you need to traverse the elements of a sequence and their indices, you can use the built-in function enumerate:\n",
    "\n",
    "for index, element in enumerate('abc'):\n",
    "    print index, element\n",
    "The output of this loop is:\n",
    "\n",
    "0 a\n",
    "1 b\n",
    "2 c   \n",
    "\n",
    "\n",
    "Dictionaries have a method called items that returns a list of tuples, where each tuple is a key-value pair.\n",
    "\n",
    ">>> d = {'a':0, 'b':1, 'c':2}\n",
    ">>> t = d.items()\n",
    ">>> print t\n",
    "[('a', 0), ('c', 2), ('b', 1)]  \n",
    "\n",
    "Going in the other direction, you can use a list of tuples to initialize a new dictionary:\n",
    "\n",
    ">>> t = [('a', 0), ('c', 2), ('b', 1)]\n",
    ">>> d = dict(t)\n",
    ">>> print d\n",
    "{'a': 0, 'c': 2, 'b': 1}\n",
    "\n"
   ]
  },
  {
   "cell_type": "code",
   "execution_count": null,
   "metadata": {
    "collapsed": true
   },
   "outputs": [],
   "source": []
  },
  {
   "cell_type": "markdown",
   "metadata": {},
   "source": [
    "# Dictionary  \n",
    "\n",
    "A dictionary is like a list, but more general. In a list, the indices have to be integers; in a dictionary they can be (almost) any type."
   ]
  },
  {
   "cell_type": "markdown",
   "metadata": {},
   "source": [
    "Write a function that reads the words in words.txt and stores them as keys in a dictionary. It doesn’t matter what the values are. Then you can use the in operator as a fast way to check whether a string is in the dictionary."
   ]
  },
  {
   "cell_type": "code",
   "execution_count": 29,
   "metadata": {
    "collapsed": true
   },
   "outputs": [],
   "source": [
    "def create_word_dict(str):\n",
    "    s=str.split()\n",
    "    dic=dict()\n",
    "    for i in range(len(s)):\n",
    "        dic[s[i]]=i\n",
    "    return dic\n",
    "    \n"
   ]
  },
  {
   "cell_type": "code",
   "execution_count": 30,
   "metadata": {},
   "outputs": [
    {
     "data": {
      "text/plain": [
       "{'gh': 1, 're': 0, 'tt': 2}"
      ]
     },
     "execution_count": 30,
     "metadata": {},
     "output_type": "execute_result"
    }
   ],
   "source": [
    "create_word_dict('re gh tt')"
   ]
  },
  {
   "cell_type": "code",
   "execution_count": null,
   "metadata": {
    "collapsed": true
   },
   "outputs": [],
   "source": [
    "\n",
    "def create_word_dict():\n",
    "    word_dict = dict()\n",
    "    for line in f:\n",
    "        word = line.strip()\n",
    "        word_dict[word] = word\n",
    "    return word_dict"
   ]
  },
  {
   "cell_type": "markdown",
   "metadata": {},
   "source": [
    "Dictionary as a set of counters"
   ]
  },
  {
   "cell_type": "code",
   "execution_count": 45,
   "metadata": {
    "collapsed": true
   },
   "outputs": [],
   "source": [
    "def counter(arr):\n",
    "    dic=dict()\n",
    "    for ch in arr:\n",
    "        if ch not in dic:\n",
    "            dic[ch]=1\n",
    "        else:\n",
    "            dic[ch]+=1\n",
    "    return dic"
   ]
  },
  {
   "cell_type": "code",
   "execution_count": 47,
   "metadata": {},
   "outputs": [
    {
     "data": {
      "text/plain": [
       "{'a': 2, 'f': 1, 'h': 1, 't': 2}"
      ]
     },
     "execution_count": 47,
     "metadata": {},
     "output_type": "execute_result"
    }
   ],
   "source": [
    "counter('fattha')"
   ]
  },
  {
   "cell_type": "markdown",
   "metadata": {},
   "source": [
    "Dictionaries have a method called get that takes a key and a default value. If the key appears in the dictionary, get returns the corresponding value; otherwise it returns the default value. For example:"
   ]
  },
  {
   "cell_type": "code",
   "execution_count": null,
   "metadata": {
    "collapsed": true
   },
   "outputs": [],
   "source": [
    "def getvalue(arr):\n",
    "    d=dict()\n",
    "    for ch in arr:\n",
    "        if ch not in d:\n",
    "            d[ch]="
   ]
  },
  {
   "cell_type": "markdown",
   "metadata": {},
   "source": []
  },
  {
   "cell_type": "code",
   "execution_count": 91,
   "metadata": {
    "collapsed": true
   },
   "outputs": [],
   "source": [
    "def bj(arr):\n",
    "    return arr.lower()"
   ]
  },
  {
   "cell_type": "code",
   "execution_count": 92,
   "metadata": {},
   "outputs": [
    {
     "data": {
      "text/plain": [
       "'klkj bhlm'"
      ]
     },
     "execution_count": 92,
     "metadata": {},
     "output_type": "execute_result"
    }
   ],
   "source": [
    "bj('kLkj BhlM')"
   ]
  },
  {
   "cell_type": "code",
   "execution_count": 104,
   "metadata": {
    "collapsed": true
   },
   "outputs": [],
   "source": [
    "def countword(arr):\n",
    "    word=arr.split(\" \")\n",
    "    count=0\n",
    "    for ch in word:\n",
    "        count+=1\n",
    "    return count"
   ]
  },
  {
   "cell_type": "code",
   "execution_count": 105,
   "metadata": {},
   "outputs": [
    {
     "data": {
      "text/plain": [
       "8"
      ]
     },
     "execution_count": 105,
     "metadata": {},
     "output_type": "execute_result"
    }
   ],
   "source": [
    "countword('dd lj lj kh jg jkg kjhkjgjg kh')"
   ]
  },
  {
   "cell_type": "code",
   "execution_count": null,
   "metadata": {
    "collapsed": true
   },
   "outputs": [],
   "source": [
    "def countword():\n",
    "   ...:     fh=open('t.txt')\n",
    "   ...:     count=0\n",
    "   ...:     for line in fh:\n",
    "   ...:         word=line.split(\" \")\n",
    "   ...:         for ch in word:\n",
    "   ...:            count+=1\n",
    "   ...:     return count"
   ]
  },
  {
   "cell_type": "code",
   "execution_count": 109,
   "metadata": {},
   "outputs": [
    {
     "ename": "NameError",
     "evalue": "name 'item' is not defined",
     "output_type": "error",
     "traceback": [
      "\u001b[0;31m---------------------------------------------------------------------------\u001b[0m",
      "\u001b[0;31mNameError\u001b[0m                                 Traceback (most recent call last)",
      "\u001b[0;32m<ipython-input-109-be795a02b139>\u001b[0m in \u001b[0;36m<module>\u001b[0;34m()\u001b[0m\n\u001b[1;32m      4\u001b[0m \u001b[0;34m\u001b[0m\u001b[0m\n\u001b[1;32m      5\u001b[0m \u001b[0ma\u001b[0m\u001b[0;34m=\u001b[0m\u001b[0;34m(\u001b[0m\u001b[0;34m'a'\u001b[0m\u001b[0;34m,\u001b[0m\u001b[0;34m'd'\u001b[0m\u001b[0;34m,\u001b[0m\u001b[0;34m'l'\u001b[0m\u001b[0;34m,\u001b[0m\u001b[0;34m'a'\u001b[0m\u001b[0;34m)\u001b[0m\u001b[0;34m\u001b[0m\u001b[0m\n\u001b[0;32m----> 6\u001b[0;31m \u001b[0mitem\u001b[0m\u001b[0;34m(\u001b[0m\u001b[0ma\u001b[0m\u001b[0;34m)\u001b[0m\u001b[0;34m\u001b[0m\u001b[0m\n\u001b[0m",
      "\u001b[0;31mNameError\u001b[0m: name 'item' is not defined"
     ]
    }
   ],
   "source": [
    "\n",
    "#returns a random value from the histogram, chosen with\n",
    "# probability in proportion to frequency. For example, for this histogram\n",
    "\n",
    "a=['a','b','a']\n"
   ]
  },
  {
   "cell_type": "code",
   "execution_count": null,
   "metadata": {
    "collapsed": true
   },
   "outputs": [],
   "source": [
    "if __name__ == '__main__':\n",
    "    n = int(input())\n",
    "    student_marks = {}\n",
    "    for _ in range(n):\n",
    "        record = input().split()\n",
    "        name,marks = record[0], record[1:]\n",
    "        student_marks[name] = {float(x) for x in marks}\n",
    "    query = input()\n",
    "    print(\"{0:.2f}\".format(*[(sum(scores)/len(scores)) for name, scores in student_marks.items() if name == query]))"
   ]
  },
  {
   "cell_type": "code",
   "execution_count": null,
   "metadata": {
    "collapsed": true
   },
   "outputs": [],
   "source": []
  },
  {
   "cell_type": "code",
   "execution_count": null,
   "metadata": {
    "collapsed": true
   },
   "outputs": [],
   "source": []
  }
 ],
 "metadata": {
  "kernelspec": {
   "display_name": "Python 3",
   "language": "python",
   "name": "python3"
  },
  "language_info": {
   "codemirror_mode": {
    "name": "ipython",
    "version": 3
   },
   "file_extension": ".py",
   "mimetype": "text/x-python",
   "name": "python",
   "nbconvert_exporter": "python",
   "pygments_lexer": "ipython3",
   "version": "3.6.1"
  }
 },
 "nbformat": 4,
 "nbformat_minor": 2
}
